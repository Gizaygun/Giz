{
  "nbformat": 4,
  "nbformat_minor": 0,
  "metadata": {
    "colab": {
      "provenance": [],
      "authorship_tag": "ABX9TyNCbtw+szbDaGoksuncl9nP",
      "include_colab_link": true
    },
    "kernelspec": {
      "name": "python3",
      "display_name": "Python 3"
    },
    "language_info": {
      "name": "python"
    }
  },
  "cells": [
    {
      "cell_type": "markdown",
      "metadata": {
        "id": "view-in-github",
        "colab_type": "text"
      },
      "source": [
        "<a href=\"https://colab.research.google.com/github/Gizaygun/Giz/blob/main/Untitled5.ipynb\" target=\"_parent\"><img src=\"https://colab.research.google.com/assets/colab-badge.svg\" alt=\"Open In Colab\"/></a>"
      ]
    },
    {
      "cell_type": "code",
      "source": [
        "!pip install datasets transformers"
      ],
      "metadata": {
        "colab": {
          "base_uri": "https://localhost:8080/"
        },
        "id": "V27HoulgbwLG",
        "outputId": "023800c0-cb47-4829-d904-5bc6749c0110"
      },
      "execution_count": 1,
      "outputs": [
        {
          "output_type": "stream",
          "name": "stdout",
          "text": [
            "Collecting datasets\n",
            "  Downloading datasets-3.2.0-py3-none-any.whl.metadata (20 kB)\n",
            "Requirement already satisfied: transformers in /usr/local/lib/python3.10/dist-packages (4.47.1)\n",
            "Requirement already satisfied: filelock in /usr/local/lib/python3.10/dist-packages (from datasets) (3.16.1)\n",
            "Requirement already satisfied: numpy>=1.17 in /usr/local/lib/python3.10/dist-packages (from datasets) (1.26.4)\n",
            "Requirement already satisfied: pyarrow>=15.0.0 in /usr/local/lib/python3.10/dist-packages (from datasets) (17.0.0)\n",
            "Collecting dill<0.3.9,>=0.3.0 (from datasets)\n",
            "  Downloading dill-0.3.8-py3-none-any.whl.metadata (10 kB)\n",
            "Requirement already satisfied: pandas in /usr/local/lib/python3.10/dist-packages (from datasets) (2.2.2)\n",
            "Requirement already satisfied: requests>=2.32.2 in /usr/local/lib/python3.10/dist-packages (from datasets) (2.32.3)\n",
            "Requirement already satisfied: tqdm>=4.66.3 in /usr/local/lib/python3.10/dist-packages (from datasets) (4.67.1)\n",
            "Collecting xxhash (from datasets)\n",
            "  Downloading xxhash-3.5.0-cp310-cp310-manylinux_2_17_x86_64.manylinux2014_x86_64.whl.metadata (12 kB)\n",
            "Collecting multiprocess<0.70.17 (from datasets)\n",
            "  Downloading multiprocess-0.70.16-py310-none-any.whl.metadata (7.2 kB)\n",
            "Collecting fsspec<=2024.9.0,>=2023.1.0 (from fsspec[http]<=2024.9.0,>=2023.1.0->datasets)\n",
            "  Downloading fsspec-2024.9.0-py3-none-any.whl.metadata (11 kB)\n",
            "Requirement already satisfied: aiohttp in /usr/local/lib/python3.10/dist-packages (from datasets) (3.11.10)\n",
            "Requirement already satisfied: huggingface-hub>=0.23.0 in /usr/local/lib/python3.10/dist-packages (from datasets) (0.27.0)\n",
            "Requirement already satisfied: packaging in /usr/local/lib/python3.10/dist-packages (from datasets) (24.2)\n",
            "Requirement already satisfied: pyyaml>=5.1 in /usr/local/lib/python3.10/dist-packages (from datasets) (6.0.2)\n",
            "Requirement already satisfied: regex!=2019.12.17 in /usr/local/lib/python3.10/dist-packages (from transformers) (2024.11.6)\n",
            "Requirement already satisfied: tokenizers<0.22,>=0.21 in /usr/local/lib/python3.10/dist-packages (from transformers) (0.21.0)\n",
            "Requirement already satisfied: safetensors>=0.4.1 in /usr/local/lib/python3.10/dist-packages (from transformers) (0.4.5)\n",
            "Requirement already satisfied: aiohappyeyeballs>=2.3.0 in /usr/local/lib/python3.10/dist-packages (from aiohttp->datasets) (2.4.4)\n",
            "Requirement already satisfied: aiosignal>=1.1.2 in /usr/local/lib/python3.10/dist-packages (from aiohttp->datasets) (1.3.2)\n",
            "Requirement already satisfied: async-timeout<6.0,>=4.0 in /usr/local/lib/python3.10/dist-packages (from aiohttp->datasets) (4.0.3)\n",
            "Requirement already satisfied: attrs>=17.3.0 in /usr/local/lib/python3.10/dist-packages (from aiohttp->datasets) (24.3.0)\n",
            "Requirement already satisfied: frozenlist>=1.1.1 in /usr/local/lib/python3.10/dist-packages (from aiohttp->datasets) (1.5.0)\n",
            "Requirement already satisfied: multidict<7.0,>=4.5 in /usr/local/lib/python3.10/dist-packages (from aiohttp->datasets) (6.1.0)\n",
            "Requirement already satisfied: propcache>=0.2.0 in /usr/local/lib/python3.10/dist-packages (from aiohttp->datasets) (0.2.1)\n",
            "Requirement already satisfied: yarl<2.0,>=1.17.0 in /usr/local/lib/python3.10/dist-packages (from aiohttp->datasets) (1.18.3)\n",
            "Requirement already satisfied: typing-extensions>=3.7.4.3 in /usr/local/lib/python3.10/dist-packages (from huggingface-hub>=0.23.0->datasets) (4.12.2)\n",
            "Requirement already satisfied: charset-normalizer<4,>=2 in /usr/local/lib/python3.10/dist-packages (from requests>=2.32.2->datasets) (3.4.0)\n",
            "Requirement already satisfied: idna<4,>=2.5 in /usr/local/lib/python3.10/dist-packages (from requests>=2.32.2->datasets) (3.10)\n",
            "Requirement already satisfied: urllib3<3,>=1.21.1 in /usr/local/lib/python3.10/dist-packages (from requests>=2.32.2->datasets) (2.2.3)\n",
            "Requirement already satisfied: certifi>=2017.4.17 in /usr/local/lib/python3.10/dist-packages (from requests>=2.32.2->datasets) (2024.12.14)\n",
            "Requirement already satisfied: python-dateutil>=2.8.2 in /usr/local/lib/python3.10/dist-packages (from pandas->datasets) (2.8.2)\n",
            "Requirement already satisfied: pytz>=2020.1 in /usr/local/lib/python3.10/dist-packages (from pandas->datasets) (2024.2)\n",
            "Requirement already satisfied: tzdata>=2022.7 in /usr/local/lib/python3.10/dist-packages (from pandas->datasets) (2024.2)\n",
            "Requirement already satisfied: six>=1.5 in /usr/local/lib/python3.10/dist-packages (from python-dateutil>=2.8.2->pandas->datasets) (1.17.0)\n",
            "Downloading datasets-3.2.0-py3-none-any.whl (480 kB)\n",
            "\u001b[2K   \u001b[90m━━━━━━━━━━━━━━━━━━━━━━━━━━━━━━━━━━━━━━━━\u001b[0m \u001b[32m480.6/480.6 kB\u001b[0m \u001b[31m9.2 MB/s\u001b[0m eta \u001b[36m0:00:00\u001b[0m\n",
            "\u001b[?25hDownloading dill-0.3.8-py3-none-any.whl (116 kB)\n",
            "\u001b[2K   \u001b[90m━━━━━━━━━━━━━━━━━━━━━━━━━━━━━━━━━━━━━━━━\u001b[0m \u001b[32m116.3/116.3 kB\u001b[0m \u001b[31m11.0 MB/s\u001b[0m eta \u001b[36m0:00:00\u001b[0m\n",
            "\u001b[?25hDownloading fsspec-2024.9.0-py3-none-any.whl (179 kB)\n",
            "\u001b[2K   \u001b[90m━━━━━━━━━━━━━━━━━━━━━━━━━━━━━━━━━━━━━━━━\u001b[0m \u001b[32m179.3/179.3 kB\u001b[0m \u001b[31m17.0 MB/s\u001b[0m eta \u001b[36m0:00:00\u001b[0m\n",
            "\u001b[?25hDownloading multiprocess-0.70.16-py310-none-any.whl (134 kB)\n",
            "\u001b[2K   \u001b[90m━━━━━━━━━━━━━━━━━━━━━━━━━━━━━━━━━━━━━━━━\u001b[0m \u001b[32m134.8/134.8 kB\u001b[0m \u001b[31m12.8 MB/s\u001b[0m eta \u001b[36m0:00:00\u001b[0m\n",
            "\u001b[?25hDownloading xxhash-3.5.0-cp310-cp310-manylinux_2_17_x86_64.manylinux2014_x86_64.whl (194 kB)\n",
            "\u001b[2K   \u001b[90m━━━━━━━━━━━━━━━━━━━━━━━━━━━━━━━━━━━━━━━━\u001b[0m \u001b[32m194.1/194.1 kB\u001b[0m \u001b[31m16.5 MB/s\u001b[0m eta \u001b[36m0:00:00\u001b[0m\n",
            "\u001b[?25hInstalling collected packages: xxhash, fsspec, dill, multiprocess, datasets\n",
            "  Attempting uninstall: fsspec\n",
            "    Found existing installation: fsspec 2024.10.0\n",
            "    Uninstalling fsspec-2024.10.0:\n",
            "      Successfully uninstalled fsspec-2024.10.0\n",
            "\u001b[31mERROR: pip's dependency resolver does not currently take into account all the packages that are installed. This behaviour is the source of the following dependency conflicts.\n",
            "gcsfs 2024.10.0 requires fsspec==2024.10.0, but you have fsspec 2024.9.0 which is incompatible.\u001b[0m\u001b[31m\n",
            "\u001b[0mSuccessfully installed datasets-3.2.0 dill-0.3.8 fsspec-2024.9.0 multiprocess-0.70.16 xxhash-3.5.0\n"
          ]
        }
      ]
    },
    {
      "cell_type": "code",
      "source": [
        "!pip install datasets transformers\n",
        "import numpy as np\n",
        "import pandas as pd\n",
        "from datasets import Dataset\n",
        "from transformers import pipeline\n",
        "# ... (rest of your code)"
      ],
      "metadata": {
        "colab": {
          "base_uri": "https://localhost:8080/"
        },
        "id": "wReDkDoZbzbI",
        "outputId": "e0bfa88c-edee-4370-b1ae-798bf2965ada"
      },
      "execution_count": 2,
      "outputs": [
        {
          "output_type": "stream",
          "name": "stdout",
          "text": [
            "Requirement already satisfied: datasets in /usr/local/lib/python3.10/dist-packages (3.2.0)\n",
            "Requirement already satisfied: transformers in /usr/local/lib/python3.10/dist-packages (4.47.1)\n",
            "Requirement already satisfied: filelock in /usr/local/lib/python3.10/dist-packages (from datasets) (3.16.1)\n",
            "Requirement already satisfied: numpy>=1.17 in /usr/local/lib/python3.10/dist-packages (from datasets) (1.26.4)\n",
            "Requirement already satisfied: pyarrow>=15.0.0 in /usr/local/lib/python3.10/dist-packages (from datasets) (17.0.0)\n",
            "Requirement already satisfied: dill<0.3.9,>=0.3.0 in /usr/local/lib/python3.10/dist-packages (from datasets) (0.3.8)\n",
            "Requirement already satisfied: pandas in /usr/local/lib/python3.10/dist-packages (from datasets) (2.2.2)\n",
            "Requirement already satisfied: requests>=2.32.2 in /usr/local/lib/python3.10/dist-packages (from datasets) (2.32.3)\n",
            "Requirement already satisfied: tqdm>=4.66.3 in /usr/local/lib/python3.10/dist-packages (from datasets) (4.67.1)\n",
            "Requirement already satisfied: xxhash in /usr/local/lib/python3.10/dist-packages (from datasets) (3.5.0)\n",
            "Requirement already satisfied: multiprocess<0.70.17 in /usr/local/lib/python3.10/dist-packages (from datasets) (0.70.16)\n",
            "Requirement already satisfied: fsspec<=2024.9.0,>=2023.1.0 in /usr/local/lib/python3.10/dist-packages (from fsspec[http]<=2024.9.0,>=2023.1.0->datasets) (2024.9.0)\n",
            "Requirement already satisfied: aiohttp in /usr/local/lib/python3.10/dist-packages (from datasets) (3.11.10)\n",
            "Requirement already satisfied: huggingface-hub>=0.23.0 in /usr/local/lib/python3.10/dist-packages (from datasets) (0.27.0)\n",
            "Requirement already satisfied: packaging in /usr/local/lib/python3.10/dist-packages (from datasets) (24.2)\n",
            "Requirement already satisfied: pyyaml>=5.1 in /usr/local/lib/python3.10/dist-packages (from datasets) (6.0.2)\n",
            "Requirement already satisfied: regex!=2019.12.17 in /usr/local/lib/python3.10/dist-packages (from transformers) (2024.11.6)\n",
            "Requirement already satisfied: tokenizers<0.22,>=0.21 in /usr/local/lib/python3.10/dist-packages (from transformers) (0.21.0)\n",
            "Requirement already satisfied: safetensors>=0.4.1 in /usr/local/lib/python3.10/dist-packages (from transformers) (0.4.5)\n",
            "Requirement already satisfied: aiohappyeyeballs>=2.3.0 in /usr/local/lib/python3.10/dist-packages (from aiohttp->datasets) (2.4.4)\n",
            "Requirement already satisfied: aiosignal>=1.1.2 in /usr/local/lib/python3.10/dist-packages (from aiohttp->datasets) (1.3.2)\n",
            "Requirement already satisfied: async-timeout<6.0,>=4.0 in /usr/local/lib/python3.10/dist-packages (from aiohttp->datasets) (4.0.3)\n",
            "Requirement already satisfied: attrs>=17.3.0 in /usr/local/lib/python3.10/dist-packages (from aiohttp->datasets) (24.3.0)\n",
            "Requirement already satisfied: frozenlist>=1.1.1 in /usr/local/lib/python3.10/dist-packages (from aiohttp->datasets) (1.5.0)\n",
            "Requirement already satisfied: multidict<7.0,>=4.5 in /usr/local/lib/python3.10/dist-packages (from aiohttp->datasets) (6.1.0)\n",
            "Requirement already satisfied: propcache>=0.2.0 in /usr/local/lib/python3.10/dist-packages (from aiohttp->datasets) (0.2.1)\n",
            "Requirement already satisfied: yarl<2.0,>=1.17.0 in /usr/local/lib/python3.10/dist-packages (from aiohttp->datasets) (1.18.3)\n",
            "Requirement already satisfied: typing-extensions>=3.7.4.3 in /usr/local/lib/python3.10/dist-packages (from huggingface-hub>=0.23.0->datasets) (4.12.2)\n",
            "Requirement already satisfied: charset-normalizer<4,>=2 in /usr/local/lib/python3.10/dist-packages (from requests>=2.32.2->datasets) (3.4.0)\n",
            "Requirement already satisfied: idna<4,>=2.5 in /usr/local/lib/python3.10/dist-packages (from requests>=2.32.2->datasets) (3.10)\n",
            "Requirement already satisfied: urllib3<3,>=1.21.1 in /usr/local/lib/python3.10/dist-packages (from requests>=2.32.2->datasets) (2.2.3)\n",
            "Requirement already satisfied: certifi>=2017.4.17 in /usr/local/lib/python3.10/dist-packages (from requests>=2.32.2->datasets) (2024.12.14)\n",
            "Requirement already satisfied: python-dateutil>=2.8.2 in /usr/local/lib/python3.10/dist-packages (from pandas->datasets) (2.8.2)\n",
            "Requirement already satisfied: pytz>=2020.1 in /usr/local/lib/python3.10/dist-packages (from pandas->datasets) (2024.2)\n",
            "Requirement already satisfied: tzdata>=2022.7 in /usr/local/lib/python3.10/dist-packages (from pandas->datasets) (2024.2)\n",
            "Requirement already satisfied: six>=1.5 in /usr/local/lib/python3.10/dist-packages (from python-dateutil>=2.8.2->pandas->datasets) (1.17.0)\n"
          ]
        }
      ]
    },
    {
      "cell_type": "code",
      "source": [
        "from google.colab import files\n",
        "uploaded = files.upload()\n"
      ],
      "metadata": {
        "colab": {
          "base_uri": "https://localhost:8080/",
          "height": 71
        },
        "id": "PWNBz0sfb3lw",
        "outputId": "438d963c-6412-47f8-f1e2-d4e21b05c329"
      },
      "execution_count": 3,
      "outputs": [
        {
          "output_type": "display_data",
          "data": {
            "text/plain": [
              "<IPython.core.display.HTML object>"
            ],
            "text/html": [
              "\n",
              "     <input type=\"file\" id=\"files-695704bd-71f0-4730-80e6-012885183680\" name=\"files[]\" multiple disabled\n",
              "        style=\"border:none\" />\n",
              "     <output id=\"result-695704bd-71f0-4730-80e6-012885183680\">\n",
              "      Upload widget is only available when the cell has been executed in the\n",
              "      current browser session. Please rerun this cell to enable.\n",
              "      </output>\n",
              "      <script>// Copyright 2017 Google LLC\n",
              "//\n",
              "// Licensed under the Apache License, Version 2.0 (the \"License\");\n",
              "// you may not use this file except in compliance with the License.\n",
              "// You may obtain a copy of the License at\n",
              "//\n",
              "//      http://www.apache.org/licenses/LICENSE-2.0\n",
              "//\n",
              "// Unless required by applicable law or agreed to in writing, software\n",
              "// distributed under the License is distributed on an \"AS IS\" BASIS,\n",
              "// WITHOUT WARRANTIES OR CONDITIONS OF ANY KIND, either express or implied.\n",
              "// See the License for the specific language governing permissions and\n",
              "// limitations under the License.\n",
              "\n",
              "/**\n",
              " * @fileoverview Helpers for google.colab Python module.\n",
              " */\n",
              "(function(scope) {\n",
              "function span(text, styleAttributes = {}) {\n",
              "  const element = document.createElement('span');\n",
              "  element.textContent = text;\n",
              "  for (const key of Object.keys(styleAttributes)) {\n",
              "    element.style[key] = styleAttributes[key];\n",
              "  }\n",
              "  return element;\n",
              "}\n",
              "\n",
              "// Max number of bytes which will be uploaded at a time.\n",
              "const MAX_PAYLOAD_SIZE = 100 * 1024;\n",
              "\n",
              "function _uploadFiles(inputId, outputId) {\n",
              "  const steps = uploadFilesStep(inputId, outputId);\n",
              "  const outputElement = document.getElementById(outputId);\n",
              "  // Cache steps on the outputElement to make it available for the next call\n",
              "  // to uploadFilesContinue from Python.\n",
              "  outputElement.steps = steps;\n",
              "\n",
              "  return _uploadFilesContinue(outputId);\n",
              "}\n",
              "\n",
              "// This is roughly an async generator (not supported in the browser yet),\n",
              "// where there are multiple asynchronous steps and the Python side is going\n",
              "// to poll for completion of each step.\n",
              "// This uses a Promise to block the python side on completion of each step,\n",
              "// then passes the result of the previous step as the input to the next step.\n",
              "function _uploadFilesContinue(outputId) {\n",
              "  const outputElement = document.getElementById(outputId);\n",
              "  const steps = outputElement.steps;\n",
              "\n",
              "  const next = steps.next(outputElement.lastPromiseValue);\n",
              "  return Promise.resolve(next.value.promise).then((value) => {\n",
              "    // Cache the last promise value to make it available to the next\n",
              "    // step of the generator.\n",
              "    outputElement.lastPromiseValue = value;\n",
              "    return next.value.response;\n",
              "  });\n",
              "}\n",
              "\n",
              "/**\n",
              " * Generator function which is called between each async step of the upload\n",
              " * process.\n",
              " * @param {string} inputId Element ID of the input file picker element.\n",
              " * @param {string} outputId Element ID of the output display.\n",
              " * @return {!Iterable<!Object>} Iterable of next steps.\n",
              " */\n",
              "function* uploadFilesStep(inputId, outputId) {\n",
              "  const inputElement = document.getElementById(inputId);\n",
              "  inputElement.disabled = false;\n",
              "\n",
              "  const outputElement = document.getElementById(outputId);\n",
              "  outputElement.innerHTML = '';\n",
              "\n",
              "  const pickedPromise = new Promise((resolve) => {\n",
              "    inputElement.addEventListener('change', (e) => {\n",
              "      resolve(e.target.files);\n",
              "    });\n",
              "  });\n",
              "\n",
              "  const cancel = document.createElement('button');\n",
              "  inputElement.parentElement.appendChild(cancel);\n",
              "  cancel.textContent = 'Cancel upload';\n",
              "  const cancelPromise = new Promise((resolve) => {\n",
              "    cancel.onclick = () => {\n",
              "      resolve(null);\n",
              "    };\n",
              "  });\n",
              "\n",
              "  // Wait for the user to pick the files.\n",
              "  const files = yield {\n",
              "    promise: Promise.race([pickedPromise, cancelPromise]),\n",
              "    response: {\n",
              "      action: 'starting',\n",
              "    }\n",
              "  };\n",
              "\n",
              "  cancel.remove();\n",
              "\n",
              "  // Disable the input element since further picks are not allowed.\n",
              "  inputElement.disabled = true;\n",
              "\n",
              "  if (!files) {\n",
              "    return {\n",
              "      response: {\n",
              "        action: 'complete',\n",
              "      }\n",
              "    };\n",
              "  }\n",
              "\n",
              "  for (const file of files) {\n",
              "    const li = document.createElement('li');\n",
              "    li.append(span(file.name, {fontWeight: 'bold'}));\n",
              "    li.append(span(\n",
              "        `(${file.type || 'n/a'}) - ${file.size} bytes, ` +\n",
              "        `last modified: ${\n",
              "            file.lastModifiedDate ? file.lastModifiedDate.toLocaleDateString() :\n",
              "                                    'n/a'} - `));\n",
              "    const percent = span('0% done');\n",
              "    li.appendChild(percent);\n",
              "\n",
              "    outputElement.appendChild(li);\n",
              "\n",
              "    const fileDataPromise = new Promise((resolve) => {\n",
              "      const reader = new FileReader();\n",
              "      reader.onload = (e) => {\n",
              "        resolve(e.target.result);\n",
              "      };\n",
              "      reader.readAsArrayBuffer(file);\n",
              "    });\n",
              "    // Wait for the data to be ready.\n",
              "    let fileData = yield {\n",
              "      promise: fileDataPromise,\n",
              "      response: {\n",
              "        action: 'continue',\n",
              "      }\n",
              "    };\n",
              "\n",
              "    // Use a chunked sending to avoid message size limits. See b/62115660.\n",
              "    let position = 0;\n",
              "    do {\n",
              "      const length = Math.min(fileData.byteLength - position, MAX_PAYLOAD_SIZE);\n",
              "      const chunk = new Uint8Array(fileData, position, length);\n",
              "      position += length;\n",
              "\n",
              "      const base64 = btoa(String.fromCharCode.apply(null, chunk));\n",
              "      yield {\n",
              "        response: {\n",
              "          action: 'append',\n",
              "          file: file.name,\n",
              "          data: base64,\n",
              "        },\n",
              "      };\n",
              "\n",
              "      let percentDone = fileData.byteLength === 0 ?\n",
              "          100 :\n",
              "          Math.round((position / fileData.byteLength) * 100);\n",
              "      percent.textContent = `${percentDone}% done`;\n",
              "\n",
              "    } while (position < fileData.byteLength);\n",
              "  }\n",
              "\n",
              "  // All done.\n",
              "  yield {\n",
              "    response: {\n",
              "      action: 'complete',\n",
              "    }\n",
              "  };\n",
              "}\n",
              "\n",
              "scope.google = scope.google || {};\n",
              "scope.google.colab = scope.google.colab || {};\n",
              "scope.google.colab._files = {\n",
              "  _uploadFiles,\n",
              "  _uploadFilesContinue,\n",
              "};\n",
              "})(self);\n",
              "</script> "
            ]
          },
          "metadata": {}
        },
        {
          "output_type": "stream",
          "name": "stdout",
          "text": [
            "Saving ALL_Dataset.xlsx to ALL_Dataset.xlsx\n"
          ]
        }
      ]
    },
    {
      "cell_type": "code",
      "source": [
        "from sklearn.model_selection import train_test_split\n",
        "\n",
        "# Tüm veriyi yükleme\n",
        "dataset_path = \"/content/ALL_Dataset.xlsx\"  # Dosya yolu\n",
        "data = pd.read_excel(dataset_path)  # Excel dosyası yükleniyor\n",
        "\n",
        "# Eğitim ve test verilerini ayırma\n",
        "train_data, test_data = train_test_split(data, test_size=0.2, random_state=42)\n"
      ],
      "metadata": {
        "id": "ixjXD-B-cvqp"
      },
      "execution_count": 6,
      "outputs": []
    },
    {
      "cell_type": "code",
      "source": [
        "from sklearn.model_selection import train_test_split\n",
        "\n",
        "# Veri kümesini yükle\n",
        "dataset_path = \"/content/ALL_Dataset.xlsx\"\n",
        "data = pd.read_excel(dataset_path)\n",
        "\n",
        "# Eğitim ve test verilerini ayır\n",
        "train_data, test_data = train_test_split(data, test_size=0.2, random_state=42)\n",
        "\n",
        "# Özellikler ve hedef değişkenleri ayır\n",
        "X_train = train_data.drop(columns=['Exam_Score', 'Student_ID'])\n",
        "y_train = train_data['Exam_Score']\n",
        "\n",
        "X_test = test_data.drop(columns=['Exam_Score', 'Student_ID'])\n",
        "y_test = test_data['Exam_Score']\n"
      ],
      "metadata": {
        "id": "1rzvzgEWde6h"
      },
      "execution_count": 7,
      "outputs": []
    },
    {
      "cell_type": "code",
      "source": [
        "print(data.head())  # İlk birkaç satırı görüntüle\n",
        "print(data.columns)  # Tüm sütun adlarını görüntüle\n"
      ],
      "metadata": {
        "colab": {
          "base_uri": "https://localhost:8080/"
        },
        "id": "uGa7smU6djys",
        "outputId": "43d97e11-9693-4901-b959-cd8f7c50c2f3"
      },
      "execution_count": 8,
      "outputs": [
        {
          "output_type": "stream",
          "name": "stdout",
          "text": [
            "   Student_ID  Age Class_Level Interest  Exam_Score  Study_Hours  \\\n",
            "0           1   26      Senior     Math          71         7.12   \n",
            "1           2   18   Sophomore  Science          97         3.81   \n",
            "2           3   22    Freshman  Science          62         4.90   \n",
            "3           4   21      Junior     Math          76         1.86   \n",
            "4           5   25    Freshman     Math          67         1.94   \n",
            "\n",
            "   Engagement_Score  Content_Viewed  \\\n",
            "0                16               7   \n",
            "1                40              44   \n",
            "2                29               6   \n",
            "3                73              39   \n",
            "4                 5              28   \n",
            "\n",
            "                                Behavior_Description        Source  \n",
            "0  A student interested in Math spends about 7.12...  Hugging Face  \n",
            "1  A student interested in Science spends about 3...  Hugging Face  \n",
            "2  A student interested in Science spends about 4...  Hugging Face  \n",
            "3  A student interested in Math spends about 1.86...  Hugging Face  \n",
            "4  A student interested in Math spends about 1.94...  Hugging Face  \n",
            "Index(['Student_ID', 'Age', 'Class_Level', 'Interest', 'Exam_Score',\n",
            "       'Study_Hours', 'Engagement_Score', 'Content_Viewed',\n",
            "       'Behavior_Description', 'Source'],\n",
            "      dtype='object')\n"
          ]
        }
      ]
    },
    {
      "cell_type": "code",
      "source": [
        "# Özellikler ve Hedef Değişkenlerin Seçimi\n",
        "X_train = train_data.drop(columns=['Exam_Score', 'Student_ID'])\n",
        "y_train = train_data['Exam_Score']\n",
        "\n",
        "X_test = test_data.drop(columns=['Exam_Score', 'Student_ID'])\n",
        "y_test = test_data['Exam_Score']"
      ],
      "metadata": {
        "id": "L2AINivFdl0W"
      },
      "execution_count": 9,
      "outputs": []
    },
    {
      "cell_type": "code",
      "source": [
        "import pandas as pd\n",
        "\n",
        "# Veri kümesini yükleyin\n",
        "dataset_path = \"/content/ALL_Dataset.xlsx\"  # Dosya yolunu belirleyin\n",
        "df = pd.read_excel(dataset_path)  # Eğer CSV ise: pd.read_csv(dataset_path)\n"
      ],
      "metadata": {
        "id": "clV1rw3seRrW"
      },
      "execution_count": 12,
      "outputs": []
    },
    {
      "cell_type": "code",
      "source": [
        "# Sayısal sütunlar için eksik değerleri ortalama ile doldurma\n",
        "numeric_columns = df.select_dtypes(include=['float64', 'int64']).columns\n",
        "df[numeric_columns] = df[numeric_columns].fillna(df[numeric_columns].mean())\n",
        "\n",
        "# Kategorik sütunlar için eksik değerleri mod ile doldurma\n",
        "categorical_columns = df.select_dtypes(include=['object']).columns\n",
        "# 'Behavior_Description' sütununu kategorik sütunlar listesinden çıkarın\n",
        "categorical_columns = categorical_columns[categorical_columns != 'Behavior_Description']\n",
        "df[categorical_columns] = df[categorical_columns].fillna(df[categorical_columns].mode().iloc[0])"
      ],
      "metadata": {
        "id": "67NxmSboeFJ0"
      },
      "execution_count": 13,
      "outputs": []
    },
    {
      "cell_type": "code",
      "source": [
        "import pandas as pd\n",
        "\n",
        "# Sayısal sütunları seçin\n",
        "numeric_columns = df.select_dtypes(include=['float64', 'int64']).columns\n",
        "\n",
        "# Kategorik sütunları seçin\n",
        "categorical_columns = df.select_dtypes(exclude=['float64', 'int64']).columns\n",
        "\n",
        "# Sayısal sütunlar için eksik değerleri ortalama ile doldurma\n",
        "df[numeric_columns] = df[numeric_columns].fillna(df[numeric_columns].mean())\n",
        "\n",
        "# Kategorik sütunlar için eksik değerleri mod ile doldurma\n",
        "for col in categorical_columns:\n",
        "    df[col].fillna(df[col].mode()[0], inplace=True)\n"
      ],
      "metadata": {
        "colab": {
          "base_uri": "https://localhost:8080/"
        },
        "id": "9NASS6vPehSx",
        "outputId": "1780fa07-7f87-45a1-91f9-888070821452"
      },
      "execution_count": 14,
      "outputs": [
        {
          "output_type": "stream",
          "name": "stderr",
          "text": [
            "<ipython-input-14-a32028656bf2>:14: FutureWarning: A value is trying to be set on a copy of a DataFrame or Series through chained assignment using an inplace method.\n",
            "The behavior will change in pandas 3.0. This inplace method will never work because the intermediate object on which we are setting values always behaves as a copy.\n",
            "\n",
            "For example, when doing 'df[col].method(value, inplace=True)', try using 'df.method({col: value}, inplace=True)' or df[col] = df[col].method(value) instead, to perform the operation inplace on the original object.\n",
            "\n",
            "\n",
            "  df[col].fillna(df[col].mode()[0], inplace=True)\n"
          ]
        }
      ]
    },
    {
      "cell_type": "code",
      "source": [
        "# Sadece sayısal sütunları seçip eksik değerlerini doldurma\n",
        "numeric_columns = df.select_dtypes(include=[\"number\"]).columns\n",
        "df[numeric_columns] = df[numeric_columns].fillna(df[numeric_columns].mean())\n",
        "\n",
        "# Sadece kategorik sütunları seçip eksik değerlerini doldurma\n",
        "categorical_columns = df.select_dtypes(include=[\"object\"]).columns\n",
        "for column in categorical_columns:\n",
        "    df[column].fillna(df[column].mode()[0], inplace=True)"
      ],
      "metadata": {
        "colab": {
          "base_uri": "https://localhost:8080/"
        },
        "id": "Jkyl8sLtektl",
        "outputId": "f41c5930-1377-4653-bad5-99d402b57438"
      },
      "execution_count": 15,
      "outputs": [
        {
          "output_type": "stream",
          "name": "stderr",
          "text": [
            "<ipython-input-15-42c4e5a9b202>:8: FutureWarning: A value is trying to be set on a copy of a DataFrame or Series through chained assignment using an inplace method.\n",
            "The behavior will change in pandas 3.0. This inplace method will never work because the intermediate object on which we are setting values always behaves as a copy.\n",
            "\n",
            "For example, when doing 'df[col].method(value, inplace=True)', try using 'df.method({col: value}, inplace=True)' or df[col] = df[col].method(value) instead, to perform the operation inplace on the original object.\n",
            "\n",
            "\n",
            "  df[column].fillna(df[column].mode()[0], inplace=True)\n"
          ]
        }
      ]
    },
    {
      "cell_type": "code",
      "source": [
        "print(df.isnull().sum())"
      ],
      "metadata": {
        "colab": {
          "base_uri": "https://localhost:8080/"
        },
        "id": "LVkvuQJ9ep3c",
        "outputId": "9729bd6c-3a2e-4130-b579-a63b843233c4"
      },
      "execution_count": 16,
      "outputs": [
        {
          "output_type": "stream",
          "name": "stdout",
          "text": [
            "Student_ID              0\n",
            "Age                     0\n",
            "Class_Level             0\n",
            "Interest                0\n",
            "Exam_Score              0\n",
            "Study_Hours             0\n",
            "Engagement_Score        0\n",
            "Content_Viewed          0\n",
            "Behavior_Description    0\n",
            "Source                  0\n",
            "dtype: int64\n"
          ]
        }
      ]
    },
    {
      "cell_type": "code",
      "source": [
        "print(df.dtypes)"
      ],
      "metadata": {
        "colab": {
          "base_uri": "https://localhost:8080/"
        },
        "id": "Tb2nARusetJ8",
        "outputId": "72fda685-4536-4faf-8b47-5fedebce3a81"
      },
      "execution_count": 17,
      "outputs": [
        {
          "output_type": "stream",
          "name": "stdout",
          "text": [
            "Student_ID                int64\n",
            "Age                       int64\n",
            "Class_Level              object\n",
            "Interest                 object\n",
            "Exam_Score                int64\n",
            "Study_Hours             float64\n",
            "Engagement_Score          int64\n",
            "Content_Viewed            int64\n",
            "Behavior_Description     object\n",
            "Source                   object\n",
            "dtype: object\n"
          ]
        }
      ]
    },
    {
      "cell_type": "code",
      "source": [
        "# Sayısal sütunlar\n",
        "numeric_columns = df.select_dtypes(include=[\"number\"]).columns\n",
        "\n",
        "# Sayısal veriler için eksik değerleri ortalama ile doldurma\n",
        "df[numeric_columns] = df[numeric_columns].fillna(df[numeric_columns].mean())\n",
        "\n",
        "# Kategorik sütunlar\n",
        "categorical_columns = df.select_dtypes(include=[\"object\"]).columns\n",
        "\n",
        "# Kategorik veriler için eksik değerleri mod (en sık görülen değer) ile doldurma\n",
        "for column in categorical_columns:\n",
        "    df[column].fillna(df[column].mode()[0], inplace=True)"
      ],
      "metadata": {
        "colab": {
          "base_uri": "https://localhost:8080/"
        },
        "id": "XKC7PsfFe0_8",
        "outputId": "576f8ff7-d76f-4225-e88f-ac716627655c"
      },
      "execution_count": 18,
      "outputs": [
        {
          "output_type": "stream",
          "name": "stderr",
          "text": [
            "<ipython-input-18-ff588017c0d4>:12: FutureWarning: A value is trying to be set on a copy of a DataFrame or Series through chained assignment using an inplace method.\n",
            "The behavior will change in pandas 3.0. This inplace method will never work because the intermediate object on which we are setting values always behaves as a copy.\n",
            "\n",
            "For example, when doing 'df[col].method(value, inplace=True)', try using 'df.method({col: value}, inplace=True)' or df[col] = df[col].method(value) instead, to perform the operation inplace on the original object.\n",
            "\n",
            "\n",
            "  df[column].fillna(df[column].mode()[0], inplace=True)\n"
          ]
        }
      ]
    },
    {
      "cell_type": "code",
      "source": [
        "# Sayısal sütunları seç\n",
        "numeric_columns = df.select_dtypes(include=[\"number\"]).columns\n",
        "\n",
        "# Sayısal verilerde eksik değerleri ortalama ile doldur\n",
        "df[numeric_columns] = df[numeric_columns].fillna(df[numeric_columns].mean())\n",
        "\n",
        "# Kategorik sütunları seç\n",
        "categorical_columns = df.select_dtypes(include=[\"object\"]).columns\n",
        "\n",
        "# Kategorik verilerde eksik değerleri mod (en sık görülen değer) ile doldur\n",
        "for column in categorical_columns:\n",
        "    df[column].fillna(df[column].mode()[0], inplace=True)"
      ],
      "metadata": {
        "colab": {
          "base_uri": "https://localhost:8080/"
        },
        "id": "iFgIh5Gme2oj",
        "outputId": "0ef5d194-c961-4dca-be4d-7b4ce16c4393"
      },
      "execution_count": 19,
      "outputs": [
        {
          "output_type": "stream",
          "name": "stderr",
          "text": [
            "<ipython-input-19-f57f13dab359>:12: FutureWarning: A value is trying to be set on a copy of a DataFrame or Series through chained assignment using an inplace method.\n",
            "The behavior will change in pandas 3.0. This inplace method will never work because the intermediate object on which we are setting values always behaves as a copy.\n",
            "\n",
            "For example, when doing 'df[col].method(value, inplace=True)', try using 'df.method({col: value}, inplace=True)' or df[col] = df[col].method(value) instead, to perform the operation inplace on the original object.\n",
            "\n",
            "\n",
            "  df[column].fillna(df[column].mode()[0], inplace=True)\n"
          ]
        }
      ]
    },
    {
      "cell_type": "code",
      "source": [
        "# Sayısal sütunların temel istatistiklerini görüntüleme\n",
        "print(\"Sayısal sütunların istatistikleri:\")\n",
        "print(df.describe())\n",
        "\n",
        "# Kategorik sütunların benzersiz değerlerini görüntüleme\n",
        "print(\"\\nKategorik sütunların benzersiz değerleri:\")\n",
        "for column in df.select_dtypes(include='object').columns:\n",
        "    print(f\"{column}: {df[column].unique()}\")\n",
        "\n",
        "# Eksik verileri kontrol etme\n",
        "print(\"\\nEksik Veriler:\")\n",
        "print(df.isnull().sum())\n",
        "\n",
        "# Sayısal sütunlar için eksik verileri ortalama ile doldurma\n",
        "# Yalnızca sayısal sütunlarda işlem yapıyoruz\n",
        "numeric_columns = df.select_dtypes(include='number').columns\n",
        "df[numeric_columns] = df[numeric_columns].fillna(df[numeric_columns].mean())\n",
        "\n",
        "# Kategorik sütunlar için eksik verileri mod ile doldurma\n",
        "# Yalnızca kategorik sütunlarda işlem yapıyoruz\n",
        "categorical_columns = df.select_dtypes(include='object').columns\n",
        "for column in categorical_columns:\n",
        "    df[column].fillna(df[column].mode()[0], inplace=True)\n",
        "\n",
        "# Yeniden eksik veri kontrolü\n",
        "print(\"\\nEksik Veriler (Doldurulduktan Sonra):\")\n",
        "print(df.isnull().sum())\n",
        "\n",
        "# İlk 5 satırı görüntüleme\n",
        "print(\"\\nİlk 5 Satır:\")\n",
        "print(df.head())"
      ],
      "metadata": {
        "colab": {
          "base_uri": "https://localhost:8080/"
        },
        "id": "8cEoSLzAe59s",
        "outputId": "4a1c5ca7-6e70-4f7b-cdf6-07524a79ccce"
      },
      "execution_count": 20,
      "outputs": [
        {
          "output_type": "stream",
          "name": "stdout",
          "text": [
            "Sayısal sütunların istatistikleri:\n",
            "        Student_ID          Age   Exam_Score  Study_Hours  Engagement_Score  \\\n",
            "count  6000.000000  6000.000000  6000.000000  6000.000000       6000.000000   \n",
            "mean   3000.500000    23.480833    74.551500     5.542597         50.342833   \n",
            "std    1732.195139     3.455762    14.442614     2.601774         29.006054   \n",
            "min       1.000000    18.000000    50.000000     1.000000          1.000000   \n",
            "25%    1500.750000    20.000000    62.000000     3.310000         25.000000   \n",
            "50%    3000.500000    23.000000    74.500000     5.560000         51.000000   \n",
            "75%    4500.250000    26.000000    87.000000     7.832500         75.000000   \n",
            "max    6000.000000    29.000000    99.000000    10.000000        100.000000   \n",
            "\n",
            "       Content_Viewed  \n",
            "count     6000.000000  \n",
            "mean        24.836833  \n",
            "std         14.234722  \n",
            "min          1.000000  \n",
            "25%         12.000000  \n",
            "50%         25.000000  \n",
            "75%         37.000000  \n",
            "max         49.000000  \n",
            "\n",
            "Kategorik sütunların benzersiz değerleri:\n",
            "Class_Level: ['Senior' 'Sophomore' 'Freshman' 'Junior']\n",
            "Interest: ['Math' 'Science' 'History' 'Art']\n",
            "Behavior_Description: ['A student interested in Math spends about 7.12 hours studying, has an engagement score of 16, and viewed 7 materials. Describe their learning behavior on the platform.\\n\\nDo you use a language or reading system?\\n\\nDo you support'\n",
            " 'A student interested in Science spends about 3.81 hours studying, has an engagement score of 40, and viewed 44 materials. Describe their learning behavior on the platform.\\n\\nLearn how to build applications using the open world.\\n\\nLearn about'\n",
            " 'A student interested in Science spends about 4.9 hours studying, has an engagement score of 29, and viewed 6 materials. Describe their learning behavior on the platform.\\n\\n4.5 Weeks to a Year of Teaching\\n\\nAll students earn'\n",
            " ...\n",
            " '**\\n\\nThe student interested in Art spent less time studying relative to the student interested in Science. They had a lower engagement score of 12 and viewed less materials at 29. This suggests that the student interested in Art was not as engaged in their studies and may be struggling in that subject area relative to Science. \\n\\n## **Q4: Explain a potential drawback of using engagement score as a metric.**\\n\\nOne potential drawback of using engagement score as a metric is that it can be influenced by many factors'\n",
            " 'The student in question is an average user of the platform in terms of engagement score. They have viewed 40 materials which indicates that they are engaged in their study. They spend about 6.55 hours studying which is also indicative of a student who is serious about their study. Therefore, their learning behavior on the platform can be described as diligent, studious, and engaged.\\n\\nHow does the platform use the data from students to help them improve their learning outcomes? The platform uses data from students to'\n",
            " 'A student interested in Literature spends about 6.85 hours studying, has an engagement score of 5, and viewed 54 materials. Describe their learning behavior on the platform.\\n\\nA student interested in Mathematics spends about 12.87 hours studying, has an engagement score of 4, and viewed 35 materials. Describe their learning behavior on the platform.\\n\\nA student interested in History spends about 7.12 hours studying, has an engagement score of 2, and viewed 19 materials']\n",
            "Source: ['Hugging Face' 'OpenAI API']\n",
            "\n",
            "Eksik Veriler:\n",
            "Student_ID              0\n",
            "Age                     0\n",
            "Class_Level             0\n",
            "Interest                0\n",
            "Exam_Score              0\n",
            "Study_Hours             0\n",
            "Engagement_Score        0\n",
            "Content_Viewed          0\n",
            "Behavior_Description    0\n",
            "Source                  0\n",
            "dtype: int64\n",
            "\n",
            "Eksik Veriler (Doldurulduktan Sonra):\n",
            "Student_ID              0\n",
            "Age                     0\n",
            "Class_Level             0\n",
            "Interest                0\n",
            "Exam_Score              0\n",
            "Study_Hours             0\n",
            "Engagement_Score        0\n",
            "Content_Viewed          0\n",
            "Behavior_Description    0\n",
            "Source                  0\n",
            "dtype: int64\n",
            "\n",
            "İlk 5 Satır:\n",
            "   Student_ID  Age Class_Level Interest  Exam_Score  Study_Hours  \\\n",
            "0           1   26      Senior     Math          71         7.12   \n",
            "1           2   18   Sophomore  Science          97         3.81   \n",
            "2           3   22    Freshman  Science          62         4.90   \n",
            "3           4   21      Junior     Math          76         1.86   \n",
            "4           5   25    Freshman     Math          67         1.94   \n",
            "\n",
            "   Engagement_Score  Content_Viewed  \\\n",
            "0                16               7   \n",
            "1                40              44   \n",
            "2                29               6   \n",
            "3                73              39   \n",
            "4                 5              28   \n",
            "\n",
            "                                Behavior_Description        Source  \n",
            "0  A student interested in Math spends about 7.12...  Hugging Face  \n",
            "1  A student interested in Science spends about 3...  Hugging Face  \n",
            "2  A student interested in Science spends about 4...  Hugging Face  \n",
            "3  A student interested in Math spends about 1.86...  Hugging Face  \n",
            "4  A student interested in Math spends about 1.94...  Hugging Face  \n"
          ]
        },
        {
          "output_type": "stream",
          "name": "stderr",
          "text": [
            "<ipython-input-20-d351d0679ac6>:23: FutureWarning: A value is trying to be set on a copy of a DataFrame or Series through chained assignment using an inplace method.\n",
            "The behavior will change in pandas 3.0. This inplace method will never work because the intermediate object on which we are setting values always behaves as a copy.\n",
            "\n",
            "For example, when doing 'df[col].method(value, inplace=True)', try using 'df.method({col: value}, inplace=True)' or df[col] = df[col].method(value) instead, to perform the operation inplace on the original object.\n",
            "\n",
            "\n",
            "  df[column].fillna(df[column].mode()[0], inplace=True)\n"
          ]
        }
      ]
    },
    {
      "cell_type": "code",
      "source": [
        "# Sayısal sütunlar için eksik değerleri ortalama ile doldurma\n",
        "numeric_columns = df.select_dtypes(include=[\"number\"]).columns\n",
        "df[numeric_columns] = df[numeric_columns].fillna(df[numeric_columns].mean())\n",
        "\n",
        "# Kategorik sütunlar için eksik değerleri mod (en sık tekrar eden değer) ile doldurma\n",
        "categorical_columns = df.select_dtypes(include=[\"object\"]).columns\n",
        "for column in categorical_columns:\n",
        "    df[column].fillna(df[column].mode()[0], inplace=True)"
      ],
      "metadata": {
        "colab": {
          "base_uri": "https://localhost:8080/"
        },
        "id": "LluC_uR4fCd9",
        "outputId": "ee5e5b31-b25b-46dc-cc02-628c24c5a605"
      },
      "execution_count": 21,
      "outputs": [
        {
          "output_type": "stream",
          "name": "stderr",
          "text": [
            "<ipython-input-21-a50886103baa>:8: FutureWarning: A value is trying to be set on a copy of a DataFrame or Series through chained assignment using an inplace method.\n",
            "The behavior will change in pandas 3.0. This inplace method will never work because the intermediate object on which we are setting values always behaves as a copy.\n",
            "\n",
            "For example, when doing 'df[col].method(value, inplace=True)', try using 'df.method({col: value}, inplace=True)' or df[col] = df[col].method(value) instead, to perform the operation inplace on the original object.\n",
            "\n",
            "\n",
            "  df[column].fillna(df[column].mode()[0], inplace=True)\n"
          ]
        }
      ]
    },
    {
      "cell_type": "code",
      "source": [
        "import pandas as pd\n"
      ],
      "metadata": {
        "id": "6SncaTRmfH4L"
      },
      "execution_count": 22,
      "outputs": []
    },
    {
      "cell_type": "code",
      "source": [
        "# Sayısal sütunlar için eksik değerleri ortalama ile doldurma\n",
        "numeric_columns = df.select_dtypes(include=['float64', 'int64']).columns\n",
        "df[numeric_columns] = df[numeric_columns].fillna(df[numeric_columns].mean())\n",
        "\n",
        "# Kategorik sütunlar için eksik değerleri mod ile doldurma\n",
        "categorical_columns = df.select_dtypes(include=['object']).columns\n",
        "df[categorical_columns] = df[categorical_columns].fillna(df[categorical_columns].mode().iloc[0])\n"
      ],
      "metadata": {
        "id": "fBIapbCafcPw"
      },
      "execution_count": 25,
      "outputs": []
    },
    {
      "cell_type": "code",
      "source": [
        "print(df.head())  # İlk birkaç satırı görüntüleyin\n",
        "print(df.isnull().sum())  # Eksik değer durumunu kontrol edin\n"
      ],
      "metadata": {
        "colab": {
          "base_uri": "https://localhost:8080/"
        },
        "id": "u5IMa9CVfgZR",
        "outputId": "cc9919ea-b558-4b33-cde4-0227f37153e2"
      },
      "execution_count": 26,
      "outputs": [
        {
          "output_type": "stream",
          "name": "stdout",
          "text": [
            "   Student_ID  Age Class_Level Interest  Exam_Score  Study_Hours  \\\n",
            "0           1   26      Senior     Math          71         7.12   \n",
            "1           2   18   Sophomore  Science          97         3.81   \n",
            "2           3   22    Freshman  Science          62         4.90   \n",
            "3           4   21      Junior     Math          76         1.86   \n",
            "4           5   25    Freshman     Math          67         1.94   \n",
            "\n",
            "   Engagement_Score  Content_Viewed  \\\n",
            "0                16               7   \n",
            "1                40              44   \n",
            "2                29               6   \n",
            "3                73              39   \n",
            "4                 5              28   \n",
            "\n",
            "                                Behavior_Description        Source  \n",
            "0  A student interested in Math spends about 7.12...  Hugging Face  \n",
            "1  A student interested in Science spends about 3...  Hugging Face  \n",
            "2  A student interested in Science spends about 4...  Hugging Face  \n",
            "3  A student interested in Math spends about 1.86...  Hugging Face  \n",
            "4  A student interested in Math spends about 1.94...  Hugging Face  \n",
            "Student_ID              0\n",
            "Age                     0\n",
            "Class_Level             0\n",
            "Interest                0\n",
            "Exam_Score              0\n",
            "Study_Hours             0\n",
            "Engagement_Score        0\n",
            "Content_Viewed          0\n",
            "Behavior_Description    0\n",
            "Source                  0\n",
            "dtype: int64\n"
          ]
        }
      ]
    },
    {
      "cell_type": "code",
      "source": [
        "# Sadece sayısal sütunlar için eksik değerleri ortalama ile doldurma\n",
        "numeric_columns = df.select_dtypes(include=['float64', 'int64']).columns\n",
        "df[numeric_columns] = df[numeric_columns].fillna(df[numeric_columns].mean())\n",
        "\n",
        "# Sadece kategorik sütunlar için eksik değerleri mod ile doldurma\n",
        "categorical_columns = df.select_dtypes(include=['object']).columns\n",
        "for column in categorical_columns:\n",
        "    df[column].fillna(df[column].mode()[0], inplace=True)\n",
        "\n",
        "# Kontrol\n",
        "print(\"Eksik Veriler (Doldurulduktan Sonra):\\n\", df.isnull().sum())"
      ],
      "metadata": {
        "colab": {
          "base_uri": "https://localhost:8080/"
        },
        "id": "GTljaXfqfjkK",
        "outputId": "941888d8-f5ad-4c3d-c2ce-176a01489282"
      },
      "execution_count": 27,
      "outputs": [
        {
          "output_type": "stream",
          "name": "stdout",
          "text": [
            "Eksik Veriler (Doldurulduktan Sonra):\n",
            " Student_ID              0\n",
            "Age                     0\n",
            "Class_Level             0\n",
            "Interest                0\n",
            "Exam_Score              0\n",
            "Study_Hours             0\n",
            "Engagement_Score        0\n",
            "Content_Viewed          0\n",
            "Behavior_Description    0\n",
            "Source                  0\n",
            "dtype: int64\n"
          ]
        },
        {
          "output_type": "stream",
          "name": "stderr",
          "text": [
            "<ipython-input-27-340bc15669a5>:8: FutureWarning: A value is trying to be set on a copy of a DataFrame or Series through chained assignment using an inplace method.\n",
            "The behavior will change in pandas 3.0. This inplace method will never work because the intermediate object on which we are setting values always behaves as a copy.\n",
            "\n",
            "For example, when doing 'df[col].method(value, inplace=True)', try using 'df.method({col: value}, inplace=True)' or df[col] = df[col].method(value) instead, to perform the operation inplace on the original object.\n",
            "\n",
            "\n",
            "  df[column].fillna(df[column].mode()[0], inplace=True)\n"
          ]
        }
      ]
    },
    {
      "cell_type": "code",
      "source": [
        "import os\n",
        "print(os.listdir())  # Mevcut dizindeki dosyaları gösterir\n"
      ],
      "metadata": {
        "colab": {
          "base_uri": "https://localhost:8080/"
        },
        "id": "UQvbGZs4fn6J",
        "outputId": "3fd34f8d-2d31-46fb-8db0-1f6b961f735e"
      },
      "execution_count": 28,
      "outputs": [
        {
          "output_type": "stream",
          "name": "stdout",
          "text": [
            "['.config', 'ALL_Dataset.xlsx', '.ipynb_checkpoints', 'sample_data']\n"
          ]
        }
      ]
    },
    {
      "cell_type": "code",
      "source": [
        "# Sayısal sütunların temel istatistikleri\n",
        "print(df.describe())\n",
        "\n",
        "# Kategorik sütunların benzersiz değerleri\n",
        "for column in df.select_dtypes(include='object').columns:\n",
        "    print(f\"{column}: {df[column].unique()}\")"
      ],
      "metadata": {
        "colab": {
          "base_uri": "https://localhost:8080/"
        },
        "id": "Z4zrrDcQfw6k",
        "outputId": "64cb5fc5-9ab5-4e79-d968-e4cb1eea2fbe"
      },
      "execution_count": 29,
      "outputs": [
        {
          "output_type": "stream",
          "name": "stdout",
          "text": [
            "        Student_ID          Age   Exam_Score  Study_Hours  Engagement_Score  \\\n",
            "count  6000.000000  6000.000000  6000.000000  6000.000000       6000.000000   \n",
            "mean   3000.500000    23.480833    74.551500     5.542597         50.342833   \n",
            "std    1732.195139     3.455762    14.442614     2.601774         29.006054   \n",
            "min       1.000000    18.000000    50.000000     1.000000          1.000000   \n",
            "25%    1500.750000    20.000000    62.000000     3.310000         25.000000   \n",
            "50%    3000.500000    23.000000    74.500000     5.560000         51.000000   \n",
            "75%    4500.250000    26.000000    87.000000     7.832500         75.000000   \n",
            "max    6000.000000    29.000000    99.000000    10.000000        100.000000   \n",
            "\n",
            "       Content_Viewed  \n",
            "count     6000.000000  \n",
            "mean        24.836833  \n",
            "std         14.234722  \n",
            "min          1.000000  \n",
            "25%         12.000000  \n",
            "50%         25.000000  \n",
            "75%         37.000000  \n",
            "max         49.000000  \n",
            "Class_Level: ['Senior' 'Sophomore' 'Freshman' 'Junior']\n",
            "Interest: ['Math' 'Science' 'History' 'Art']\n",
            "Behavior_Description: ['A student interested in Math spends about 7.12 hours studying, has an engagement score of 16, and viewed 7 materials. Describe their learning behavior on the platform.\\n\\nDo you use a language or reading system?\\n\\nDo you support'\n",
            " 'A student interested in Science spends about 3.81 hours studying, has an engagement score of 40, and viewed 44 materials. Describe their learning behavior on the platform.\\n\\nLearn how to build applications using the open world.\\n\\nLearn about'\n",
            " 'A student interested in Science spends about 4.9 hours studying, has an engagement score of 29, and viewed 6 materials. Describe their learning behavior on the platform.\\n\\n4.5 Weeks to a Year of Teaching\\n\\nAll students earn'\n",
            " ...\n",
            " '**\\n\\nThe student interested in Art spent less time studying relative to the student interested in Science. They had a lower engagement score of 12 and viewed less materials at 29. This suggests that the student interested in Art was not as engaged in their studies and may be struggling in that subject area relative to Science. \\n\\n## **Q4: Explain a potential drawback of using engagement score as a metric.**\\n\\nOne potential drawback of using engagement score as a metric is that it can be influenced by many factors'\n",
            " 'The student in question is an average user of the platform in terms of engagement score. They have viewed 40 materials which indicates that they are engaged in their study. They spend about 6.55 hours studying which is also indicative of a student who is serious about their study. Therefore, their learning behavior on the platform can be described as diligent, studious, and engaged.\\n\\nHow does the platform use the data from students to help them improve their learning outcomes? The platform uses data from students to'\n",
            " 'A student interested in Literature spends about 6.85 hours studying, has an engagement score of 5, and viewed 54 materials. Describe their learning behavior on the platform.\\n\\nA student interested in Mathematics spends about 12.87 hours studying, has an engagement score of 4, and viewed 35 materials. Describe their learning behavior on the platform.\\n\\nA student interested in History spends about 7.12 hours studying, has an engagement score of 2, and viewed 19 materials']\n",
            "Source: ['Hugging Face' 'OpenAI API']\n"
          ]
        }
      ]
    },
    {
      "cell_type": "code",
      "source": [
        "# Özellikler ve Hedef Değişkenlerin Seçimi ---\n",
        "X_train = train_data.drop(columns=['Exam_Score', 'Student_ID'])  # 'Name' sütununu kaldırın\n",
        "y_train = train_data['Exam_Score']\n",
        "\n",
        "X_test = test_data.drop(columns=['Exam_Score', 'Student_ID'])  # 'Name' sütununu kaldırın\n",
        "y_test = test_data['Exam_Score']"
      ],
      "metadata": {
        "id": "NM1HVSZyf72c"
      },
      "execution_count": 31,
      "outputs": []
    },
    {
      "cell_type": "code",
      "source": [
        "# Eğitim ve test veri setlerinin sütunlarını kontrol etme\n",
        "print(\"Train Data Columns:\", train_data.columns)\n",
        "print(\"Test Data Columns:\", test_data.columns)"
      ],
      "metadata": {
        "colab": {
          "base_uri": "https://localhost:8080/"
        },
        "id": "voUXas0ngTcp",
        "outputId": "f44f8435-4f21-4ea9-eb6f-94b1c86301ef"
      },
      "execution_count": 32,
      "outputs": [
        {
          "output_type": "stream",
          "name": "stdout",
          "text": [
            "Train Data Columns: Index(['Student_ID', 'Age', 'Class_Level', 'Interest', 'Exam_Score',\n",
            "       'Study_Hours', 'Engagement_Score', 'Content_Viewed',\n",
            "       'Behavior_Description', 'Source'],\n",
            "      dtype='object')\n",
            "Test Data Columns: Index(['Student_ID', 'Age', 'Class_Level', 'Interest', 'Exam_Score',\n",
            "       'Study_Hours', 'Engagement_Score', 'Content_Viewed',\n",
            "       'Behavior_Description', 'Source'],\n",
            "      dtype='object')\n"
          ]
        }
      ]
    },
    {
      "cell_type": "code",
      "source": [
        "# Eğitim ve test verisini ayırma işleminden sonra veri setlerini kontrol edelim\n",
        "train_data, test_data = train_test_split(df, test_size=0.2, random_state=42)\n",
        "\n",
        "# Veri setlerinin ilk birkaç satırına göz atalım\n",
        "print(\"Train Data Head:\")\n",
        "print(train_data.head())\n",
        "\n",
        "print(\"Test Data Head:\")\n",
        "print(test_data.head())"
      ],
      "metadata": {
        "colab": {
          "base_uri": "https://localhost:8080/"
        },
        "id": "a52FZpeRgWUd",
        "outputId": "aae1d6df-dd2d-40b5-c4cc-ccb5290b8b43"
      },
      "execution_count": 33,
      "outputs": [
        {
          "output_type": "stream",
          "name": "stdout",
          "text": [
            "Train Data Head:\n",
            "      Student_ID  Age Class_Level Interest  Exam_Score  Study_Hours  \\\n",
            "3897        3898   24      Junior     Math          80         8.01   \n",
            "5628        5629   23      Senior  Science          80         7.81   \n",
            "1756        1757   22    Freshman     Math          67         8.18   \n",
            "2346        2347   25      Junior      Art          74         5.44   \n",
            "2996        2997   23   Sophomore     Math          90         4.05   \n",
            "\n",
            "      Engagement_Score  Content_Viewed  \\\n",
            "3897                48              18   \n",
            "5628                54              48   \n",
            "1756                93              44   \n",
            "2346                11              45   \n",
            "2996                76              37   \n",
            "\n",
            "                                   Behavior_Description        Source  \n",
            "3897  The student who is interested in Math has a re...    OpenAI API  \n",
            "5628  A student who spends around 7.81 hours studyin...    OpenAI API  \n",
            "1756  A student interested in Math spends about 8.18...  Hugging Face  \n",
            "2346  A: The student spends a good amount of time st...    OpenAI API  \n",
            "2996  Include context for your answer.\\n\\nA student ...    OpenAI API  \n",
            "Test Data Head:\n",
            "      Student_ID  Age Class_Level Interest  Exam_Score  Study_Hours  \\\n",
            "1782        1783   24      Senior     Math          74         8.48   \n",
            "3917        3918   23   Sophomore  Science          68         9.57   \n",
            "221          222   22      Junior      Art          50         9.30   \n",
            "2135        2136   29   Sophomore  History          76         9.96   \n",
            "5224        5225   24   Sophomore  Science          96         3.27   \n",
            "\n",
            "      Engagement_Score  Content_Viewed  \\\n",
            "1782                70              11   \n",
            "3917                53              49   \n",
            "221                 11               2   \n",
            "2135                92              45   \n",
            "5224                78              31   \n",
            "\n",
            "                                   Behavior_Description        Source  \n",
            "1782  A student interested in Math spends about 8.48...  Hugging Face  \n",
            "3917  **\\n\\n#### Student Behavior Summary:\\n\\n- Subj...    OpenAI API  \n",
            "221   A student interested in Art spends about 9.3 h...  Hugging Face  \n",
            "2135  **\\n\\nTo answer this question, we need to look...    OpenAI API  \n",
            "5224  What would be your one suggestion to such stud...    OpenAI API  \n"
          ]
        }
      ]
    },
    {
      "cell_type": "code",
      "source": [
        "X_train = train_data.drop(columns=['Exam_Score', 'Student_ID'])"
      ],
      "metadata": {
        "id": "g3-uY0Rygmsn"
      },
      "execution_count": 34,
      "outputs": []
    },
    {
      "cell_type": "code",
      "source": [
        "import pandas as pd\n",
        "import matplotlib.pyplot as plt\n",
        "\n",
        "# Excel dosyasını yükleme\n",
        "file_path = \"/content/ALL_Dataset.xlsx\"\n",
        "df = pd.read_excel(file_path)\n",
        "\n",
        "# Exam_Score sütununu görselleştirme\n",
        "if 'Exam_Score' in df.columns:\n",
        "    df['Exam_Score'].hist(bins=20)\n",
        "    plt.title('Exam Score Distribution')\n",
        "    plt.xlabel('Exam Score')\n",
        "    plt.ylabel('Frequency')\n",
        "    plt.show()\n",
        "else:\n",
        "    print(\"Error: 'Exam_Score' column not found in the dataset.\")\n"
      ],
      "metadata": {
        "colab": {
          "base_uri": "https://localhost:8080/",
          "height": 472
        },
        "id": "HNK6UyJjJFyZ",
        "outputId": "7a13a906-879e-469b-bde2-1ee91db81f5c"
      },
      "execution_count": 3,
      "outputs": [
        {
          "output_type": "display_data",
          "data": {
            "text/plain": [
              "<Figure size 640x480 with 1 Axes>"
            ],
            "image/png": "[encoded data removed]"
          },
          "metadata": {}
        }
      ]
    },
    {
      "cell_type": "code",
      "source": [
        "import seaborn as sns\n",
        "sns.heatmap(df.isnull(), cbar=False, cmap='viridis')\n",
        "plt.title('Missing Data Heatmap')\n",
        "plt.show()\n"
      ],
      "metadata": {
        "colab": {
          "base_uri": "https://localhost:8080/",
          "height": 586
        },
        "id": "SEoxmkzUJTu4",
        "outputId": "d7012aef-3093-4f49-db2b-7395a6f8a2d0"
      },
      "execution_count": 4,
      "outputs": [
        {
          "output_type": "display_data",
          "data": {
            "text/plain": [
              "<Figure size 640x480 with 1 Axes>"
            ],
            "image/png": "[encoded data removed]"
          },
          "metadata": {}
        }
      ]
    },
    {
      "cell_type": "code",
      "source": [
        "class_counts = df['Class_Level'].value_counts()\n",
        "class_counts.plot(kind='bar', color='skyblue')\n",
        "plt.title('Class Level Distribution')\n",
        "plt.xlabel('Class Level')\n",
        "plt.ylabel('Count')\n",
        "plt.show()\n"
      ],
      "metadata": {
        "colab": {
          "base_uri": "https://localhost:8080/",
          "height": 537
        },
        "id": "md8XAhqpJgLi",
        "outputId": "ec754cd7-62bb-4c98-de06-00125cac8752"
      },
      "execution_count": 5,
      "outputs": [
        {
          "output_type": "display_data",
          "data": {
            "text/plain": [
              "<Figure size 640x480 with 1 Axes>"
            ],
            "image/png": "[encoded data removed]"
          },
          "metadata": {}
        }
      ]
    },
    {
      "cell_type": "code",
      "source": [
        "import pandas as pd\n",
        "\n",
        "# Assuming 'df' is your DataFrame\n",
        "# Select only numerical features for correlation calculation\n",
        "numeric_df = df.select_dtypes(include=['number'])\n",
        "\n",
        "# Calculate the correlation matrix\n",
        "corr = numeric_df.corr()\n",
        "\n",
        "# Now you can proceed with your heatmap visualization\n",
        "import seaborn as sns\n",
        "import matplotlib.pyplot as plt\n",
        "\n",
        "sns.heatmap(corr, annot=True, cmap='coolwarm')\n",
        "plt.title('Correlation Matrix')\n",
        "plt.show()"
      ],
      "metadata": {
        "colab": {
          "base_uri": "https://localhost:8080/",
          "height": 573
        },
        "id": "cOtel1zHJz_O",
        "outputId": "7ad3b066-5cb1-4a64-b3da-6f1309babeca"
      },
      "execution_count": 7,
      "outputs": [
        {
          "output_type": "display_data",
          "data": {
            "text/plain": [
              "<Figure size 640x480 with 2 Axes>"
            ],
            "image/png": "[encoded data removed]"
          },
          "metadata": {}
        }
      ]
    },
    {
      "cell_type": "code",
      "source": [
        "import seaborn as sns\n",
        "import matplotlib.pyplot as plt\n",
        "import pandas as pd\n",
        "from sklearn.model_selection import train_test_split\n",
        "\n",
        "# Excel dosyasını yükleme\n",
        "file_path = \"/content/ALL_Dataset.xlsx\"\n",
        "df = pd.read_excel(file_path)\n",
        "\n",
        "# Eğitim ve test verilerini ayırma\n",
        "train_data, test_data = train_test_split(df, test_size=0.2, random_state=42)\n",
        "\n",
        "# Now you can use train_data and test_data in the boxplot\n",
        "sns.boxplot(data=[train_data['Exam_Score'], test_data['Exam_Score']], palette='Set2')\n",
        "plt.xticks([0, 1], ['Train', 'Test'])\n",
        "plt.title('Comparison of Train and Test Exam Scores')\n",
        "plt.ylabel('Exam Score')\n",
        "plt.show()"
      ],
      "metadata": {
        "colab": {
          "base_uri": "https://localhost:8080/",
          "height": 452
        },
        "id": "zCZ-qrXhKGBj",
        "outputId": "1679677a-9800-4b07-ccb4-c256f8443450"
      },
      "execution_count": 9,
      "outputs": [
        {
          "output_type": "display_data",
          "data": {
            "text/plain": [
              "<Figure size 640x480 with 1 Axes>"
            ],
            "image/png": "[encoded data removed]"
          },
          "metadata": {}
        }
      ]
    },
    {
      "cell_type": "code",
      "source": [
        "import pandas as pd\n",
        "import matplotlib.pyplot as plt\n",
        "from sklearn.preprocessing import MinMaxScaler\n",
        "\n",
        "# Assuming your dataset is in the file \"ALL_Dataset.xlsx\"\n",
        "file_path = \"/content/ALL_Dataset.xlsx\"\n",
        "dataset = pd.read_excel(file_path)  # Assign the DataFrame to 'dataset'\n",
        "\n",
        "# Initialize the MinMaxScaler\n",
        "scaler = MinMaxScaler()\n",
        "\n",
        "plt.figure(figsize=(10, 6))\n",
        "plt.plot(dataset['Study_Hours'], label='Before Normalization', color='red')\n",
        "plt.plot(scaler.fit_transform(dataset[['Study_Hours']]), label='After Normalization', color='blue')\n",
        "plt.legend()\n",
        "plt.title('Normalization of Study Hours')\n",
        "plt.show()"
      ],
      "metadata": {
        "colab": {
          "base_uri": "https://localhost:8080/",
          "height": 545
        },
        "id": "0fzBb9fQKi1C",
        "outputId": "f31e554c-5004-41ef-fb68-156028987200"
      },
      "execution_count": 11,
      "outputs": [
        {
          "output_type": "display_data",
          "data": {
            "text/plain": [
              "<Figure size 1000x600 with 1 Axes>"
            ],
            "image/png": "[encoded data removed]"
          },
          "metadata": {}
        }
      ]
    },
    {
      "cell_type": "code",
      "source": [
        "errors = [1.5, 1.2, 0.9, 0.8]  # Örnek hata değerleri\n",
        "plt.plot(errors, marker='o', linestyle='-', color='green')\n",
        "plt.title('Model Error Analysis')\n",
        "plt.xlabel('Iteration')\n",
        "plt.ylabel('Mean Squared Error')\n",
        "plt.show()\n"
      ],
      "metadata": {
        "colab": {
          "base_uri": "https://localhost:8080/",
          "height": 472
        },
        "id": "DroJDVBBKwl4",
        "outputId": "a4a45216-0312-44fa-e8df-3fc407acf5d7"
      },
      "execution_count": 12,
      "outputs": [
        {
          "output_type": "display_data",
          "data": {
            "text/plain": [
              "<Figure size 640x480 with 1 Axes>"
            ],
            "image/png": "[encoded data removed]"
          },
          "metadata": {}
        }
      ]
    },
    {
      "cell_type": "code",
      "source": [
        "styled_table = df.head(10).style.background_gradient(cmap='Blues')\n",
        "styled_table\n"
      ],
      "metadata": {
        "colab": {
          "base_uri": "https://localhost:8080/",
          "height": 884
        },
        "id": "GDQV1tiyLML_",
        "outputId": "aebe6b1d-399a-4f94-a60c-99d4c00bae0b"
      },
      "execution_count": 15,
      "outputs": [
        {
          "output_type": "execute_result",
          "data": {
            "text/plain": [
              "<pandas.io.formats.style.Styler at 0x7c3964e43370>"
            ],
            "text/html": [
              "<style type=\"text/css\">\n",
              "#T_8379b_row0_col0, #T_8379b_row1_col1, #T_8379b_row3_col5, #T_8379b_row4_col6, #T_8379b_row8_col1, #T_8379b_row8_col4, #T_8379b_row9_col7 {\n",
              "  background-color: #f7fbff;\n",
              "  color: #000000;\n",
              "}\n",
              "#T_8379b_row0_col1, #T_8379b_row8_col0 {\n",
              "  background-color: #084d96;\n",
              "  color: #f1f1f1;\n",
              "}\n",
              "#T_8379b_row0_col4 {\n",
              "  background-color: #85bcdc;\n",
              "  color: #000000;\n",
              "}\n",
              "#T_8379b_row0_col5 {\n",
              "  background-color: #2f7fbc;\n",
              "  color: #f1f1f1;\n",
              "}\n",
              "#T_8379b_row0_col6 {\n",
              "  background-color: #dce9f6;\n",
              "  color: #000000;\n",
              "}\n",
              "#T_8379b_row0_col7 {\n",
              "  background-color: #e6f0f9;\n",
              "  color: #000000;\n",
              "}\n",
              "#T_8379b_row1_col0 {\n",
              "  background-color: #e1edf8;\n",
              "  color: #000000;\n",
              "}\n",
              "#T_8379b_row1_col4, #T_8379b_row5_col7, #T_8379b_row7_col1, #T_8379b_row9_col0, #T_8379b_row9_col1, #T_8379b_row9_col5, #T_8379b_row9_col6 {\n",
              "  background-color: #08306b;\n",
              "  color: #f1f1f1;\n",
              "}\n",
              "#T_8379b_row1_col5 {\n",
              "  background-color: #c3daee;\n",
              "  color: #000000;\n",
              "}\n",
              "#T_8379b_row1_col6 {\n",
              "  background-color: #84bcdb;\n",
              "  color: #000000;\n",
              "}\n",
              "#T_8379b_row1_col7, #T_8379b_row7_col4 {\n",
              "  background-color: #08478d;\n",
              "  color: #f1f1f1;\n",
              "}\n",
              "#T_8379b_row2_col0, #T_8379b_row6_col1, #T_8379b_row6_col7 {\n",
              "  background-color: #ccdff1;\n",
              "  color: #000000;\n",
              "}\n",
              "#T_8379b_row2_col1, #T_8379b_row4_col0 {\n",
              "  background-color: #82bbdb;\n",
              "  color: #000000;\n",
              "}\n",
              "#T_8379b_row2_col4 {\n",
              "  background-color: #c8dcf0;\n",
              "  color: #000000;\n",
              "}\n",
              "#T_8379b_row2_col5 {\n",
              "  background-color: #92c4de;\n",
              "  color: #000000;\n",
              "}\n",
              "#T_8379b_row2_col6, #T_8379b_row8_col6 {\n",
              "  background-color: #b7d4ea;\n",
              "  color: #000000;\n",
              "}\n",
              "#T_8379b_row2_col7 {\n",
              "  background-color: #eaf2fb;\n",
              "  color: #000000;\n",
              "}\n",
              "#T_8379b_row3_col0, #T_8379b_row3_col1 {\n",
              "  background-color: #abd0e6;\n",
              "  color: #000000;\n",
              "}\n",
              "#T_8379b_row3_col4, #T_8379b_row9_col4 {\n",
              "  background-color: #5ca4d0;\n",
              "  color: #f1f1f1;\n",
              "}\n",
              "#T_8379b_row3_col6 {\n",
              "  background-color: #0d57a1;\n",
              "  color: #f1f1f1;\n",
              "}\n",
              "#T_8379b_row3_col7 {\n",
              "  background-color: #1764ab;\n",
              "  color: #f1f1f1;\n",
              "}\n",
              "#T_8379b_row4_col1, #T_8379b_row5_col1, #T_8379b_row7_col0 {\n",
              "  background-color: #1b69af;\n",
              "  color: #f1f1f1;\n",
              "}\n",
              "#T_8379b_row4_col4 {\n",
              "  background-color: #a6cee4;\n",
              "  color: #000000;\n",
              "}\n",
              "#T_8379b_row4_col5 {\n",
              "  background-color: #f5fafe;\n",
              "  color: #000000;\n",
              "}\n",
              "#T_8379b_row4_col7, #T_8379b_row5_col0 {\n",
              "  background-color: #58a1cf;\n",
              "  color: #f1f1f1;\n",
              "}\n",
              "#T_8379b_row5_col4 {\n",
              "  background-color: #7db8da;\n",
              "  color: #000000;\n",
              "}\n",
              "#T_8379b_row5_col5 {\n",
              "  background-color: #68acd5;\n",
              "  color: #f1f1f1;\n",
              "}\n",
              "#T_8379b_row5_col6 {\n",
              "  background-color: #bad6eb;\n",
              "  color: #000000;\n",
              "}\n",
              "#T_8379b_row6_col0 {\n",
              "  background-color: #3787c0;\n",
              "  color: #f1f1f1;\n",
              "}\n",
              "#T_8379b_row6_col4 {\n",
              "  background-color: #cddff1;\n",
              "  color: #000000;\n",
              "}\n",
              "#T_8379b_row6_col5, #T_8379b_row7_col6 {\n",
              "  background-color: #3e8ec4;\n",
              "  color: #f1f1f1;\n",
              "}\n",
              "#T_8379b_row6_col6 {\n",
              "  background-color: #75b4d8;\n",
              "  color: #000000;\n",
              "}\n",
              "#T_8379b_row7_col5 {\n",
              "  background-color: #cbdef1;\n",
              "  color: #000000;\n",
              "}\n",
              "#T_8379b_row7_col7 {\n",
              "  background-color: #529dcc;\n",
              "  color: #f1f1f1;\n",
              "}\n",
              "#T_8379b_row8_col5 {\n",
              "  background-color: #f2f8fd;\n",
              "  color: #000000;\n",
              "}\n",
              "#T_8379b_row8_col7 {\n",
              "  background-color: #2575b7;\n",
              "  color: #f1f1f1;\n",
              "}\n",
              "</style>\n",
              "<table id=\"T_8379b\" class=\"dataframe\">\n",
              "  <thead>\n",
              "    <tr>\n",
              "      <th class=\"blank level0\" >&nbsp;</th>\n",
              "      <th id=\"T_8379b_level0_col0\" class=\"col_heading level0 col0\" >Student_ID</th>\n",
              "      <th id=\"T_8379b_level0_col1\" class=\"col_heading level0 col1\" >Age</th>\n",
              "      <th id=\"T_8379b_level0_col2\" class=\"col_heading level0 col2\" >Class_Level</th>\n",
              "      <th id=\"T_8379b_level0_col3\" class=\"col_heading level0 col3\" >Interest</th>\n",
              "      <th id=\"T_8379b_level0_col4\" class=\"col_heading level0 col4\" >Exam_Score</th>\n",
              "      <th id=\"T_8379b_level0_col5\" class=\"col_heading level0 col5\" >Study_Hours</th>\n",
              "      <th id=\"T_8379b_level0_col6\" class=\"col_heading level0 col6\" >Engagement_Score</th>\n",
              "      <th id=\"T_8379b_level0_col7\" class=\"col_heading level0 col7\" >Content_Viewed</th>\n",
              "      <th id=\"T_8379b_level0_col8\" class=\"col_heading level0 col8\" >Behavior_Description</th>\n",
              "      <th id=\"T_8379b_level0_col9\" class=\"col_heading level0 col9\" >Source</th>\n",
              "    </tr>\n",
              "  </thead>\n",
              "  <tbody>\n",
              "    <tr>\n",
              "      <th id=\"T_8379b_level0_row0\" class=\"row_heading level0 row0\" >0</th>\n",
              "      <td id=\"T_8379b_row0_col0\" class=\"data row0 col0\" >1</td>\n",
              "      <td id=\"T_8379b_row0_col1\" class=\"data row0 col1\" >26</td>\n",
              "      <td id=\"T_8379b_row0_col2\" class=\"data row0 col2\" >Senior</td>\n",
              "      <td id=\"T_8379b_row0_col3\" class=\"data row0 col3\" >Math</td>\n",
              "      <td id=\"T_8379b_row0_col4\" class=\"data row0 col4\" >71</td>\n",
              "      <td id=\"T_8379b_row0_col5\" class=\"data row0 col5\" >7.120000</td>\n",
              "      <td id=\"T_8379b_row0_col6\" class=\"data row0 col6\" >16</td>\n",
              "      <td id=\"T_8379b_row0_col7\" class=\"data row0 col7\" >7</td>\n",
              "      <td id=\"T_8379b_row0_col8\" class=\"data row0 col8\" >A student interested in Math spends about 7.12 hours studying, has an engagement score of 16, and viewed 7 materials. Describe their learning behavior on the platform.\n",
              "\n",
              "Do you use a language or reading system?\n",
              "\n",
              "Do you support</td>\n",
              "      <td id=\"T_8379b_row0_col9\" class=\"data row0 col9\" >Hugging Face</td>\n",
              "    </tr>\n",
              "    <tr>\n",
              "      <th id=\"T_8379b_level0_row1\" class=\"row_heading level0 row1\" >1</th>\n",
              "      <td id=\"T_8379b_row1_col0\" class=\"data row1 col0\" >2</td>\n",
              "      <td id=\"T_8379b_row1_col1\" class=\"data row1 col1\" >18</td>\n",
              "      <td id=\"T_8379b_row1_col2\" class=\"data row1 col2\" >Sophomore</td>\n",
              "      <td id=\"T_8379b_row1_col3\" class=\"data row1 col3\" >Science</td>\n",
              "      <td id=\"T_8379b_row1_col4\" class=\"data row1 col4\" >97</td>\n",
              "      <td id=\"T_8379b_row1_col5\" class=\"data row1 col5\" >3.810000</td>\n",
              "      <td id=\"T_8379b_row1_col6\" class=\"data row1 col6\" >40</td>\n",
              "      <td id=\"T_8379b_row1_col7\" class=\"data row1 col7\" >44</td>\n",
              "      <td id=\"T_8379b_row1_col8\" class=\"data row1 col8\" >A student interested in Science spends about 3.81 hours studying, has an engagement score of 40, and viewed 44 materials. Describe their learning behavior on the platform.\n",
              "\n",
              "Learn how to build applications using the open world.\n",
              "\n",
              "Learn about</td>\n",
              "      <td id=\"T_8379b_row1_col9\" class=\"data row1 col9\" >Hugging Face</td>\n",
              "    </tr>\n",
              "    <tr>\n",
              "      <th id=\"T_8379b_level0_row2\" class=\"row_heading level0 row2\" >2</th>\n",
              "      <td id=\"T_8379b_row2_col0\" class=\"data row2 col0\" >3</td>\n",
              "      <td id=\"T_8379b_row2_col1\" class=\"data row2 col1\" >22</td>\n",
              "      <td id=\"T_8379b_row2_col2\" class=\"data row2 col2\" >Freshman</td>\n",
              "      <td id=\"T_8379b_row2_col3\" class=\"data row2 col3\" >Science</td>\n",
              "      <td id=\"T_8379b_row2_col4\" class=\"data row2 col4\" >62</td>\n",
              "      <td id=\"T_8379b_row2_col5\" class=\"data row2 col5\" >4.900000</td>\n",
              "      <td id=\"T_8379b_row2_col6\" class=\"data row2 col6\" >29</td>\n",
              "      <td id=\"T_8379b_row2_col7\" class=\"data row2 col7\" >6</td>\n",
              "      <td id=\"T_8379b_row2_col8\" class=\"data row2 col8\" >A student interested in Science spends about 4.9 hours studying, has an engagement score of 29, and viewed 6 materials. Describe their learning behavior on the platform.\n",
              "\n",
              "4.5 Weeks to a Year of Teaching\n",
              "\n",
              "All students earn</td>\n",
              "      <td id=\"T_8379b_row2_col9\" class=\"data row2 col9\" >Hugging Face</td>\n",
              "    </tr>\n",
              "    <tr>\n",
              "      <th id=\"T_8379b_level0_row3\" class=\"row_heading level0 row3\" >3</th>\n",
              "      <td id=\"T_8379b_row3_col0\" class=\"data row3 col0\" >4</td>\n",
              "      <td id=\"T_8379b_row3_col1\" class=\"data row3 col1\" >21</td>\n",
              "      <td id=\"T_8379b_row3_col2\" class=\"data row3 col2\" >Junior</td>\n",
              "      <td id=\"T_8379b_row3_col3\" class=\"data row3 col3\" >Math</td>\n",
              "      <td id=\"T_8379b_row3_col4\" class=\"data row3 col4\" >76</td>\n",
              "      <td id=\"T_8379b_row3_col5\" class=\"data row3 col5\" >1.860000</td>\n",
              "      <td id=\"T_8379b_row3_col6\" class=\"data row3 col6\" >73</td>\n",
              "      <td id=\"T_8379b_row3_col7\" class=\"data row3 col7\" >39</td>\n",
              "      <td id=\"T_8379b_row3_col8\" class=\"data row3 col8\" >A student interested in Math spends about 1.86 hours studying, has an engagement score of 73, and viewed 39 materials. Describe their learning behavior on the platform. How they interact with the community and how they interact with others. If this is</td>\n",
              "      <td id=\"T_8379b_row3_col9\" class=\"data row3 col9\" >Hugging Face</td>\n",
              "    </tr>\n",
              "    <tr>\n",
              "      <th id=\"T_8379b_level0_row4\" class=\"row_heading level0 row4\" >4</th>\n",
              "      <td id=\"T_8379b_row4_col0\" class=\"data row4 col0\" >5</td>\n",
              "      <td id=\"T_8379b_row4_col1\" class=\"data row4 col1\" >25</td>\n",
              "      <td id=\"T_8379b_row4_col2\" class=\"data row4 col2\" >Freshman</td>\n",
              "      <td id=\"T_8379b_row4_col3\" class=\"data row4 col3\" >Math</td>\n",
              "      <td id=\"T_8379b_row4_col4\" class=\"data row4 col4\" >67</td>\n",
              "      <td id=\"T_8379b_row4_col5\" class=\"data row4 col5\" >1.940000</td>\n",
              "      <td id=\"T_8379b_row4_col6\" class=\"data row4 col6\" >5</td>\n",
              "      <td id=\"T_8379b_row4_col7\" class=\"data row4 col7\" >28</td>\n",
              "      <td id=\"T_8379b_row4_col8\" class=\"data row4 col8\" >A student interested in Math spends about 1.94 hours studying, has an engagement score of 5, and viewed 28 materials. Describe their learning behavior on the platform. Students have an 18+ rating.\n",
              "\n",
              "The School of Physical Education maintains an</td>\n",
              "      <td id=\"T_8379b_row4_col9\" class=\"data row4 col9\" >Hugging Face</td>\n",
              "    </tr>\n",
              "    <tr>\n",
              "      <th id=\"T_8379b_level0_row5\" class=\"row_heading level0 row5\" >5</th>\n",
              "      <td id=\"T_8379b_row5_col0\" class=\"data row5 col0\" >6</td>\n",
              "      <td id=\"T_8379b_row5_col1\" class=\"data row5 col1\" >25</td>\n",
              "      <td id=\"T_8379b_row5_col2\" class=\"data row5 col2\" >Freshman</td>\n",
              "      <td id=\"T_8379b_row5_col3\" class=\"data row5 col3\" >History</td>\n",
              "      <td id=\"T_8379b_row5_col4\" class=\"data row5 col4\" >72</td>\n",
              "      <td id=\"T_8379b_row5_col5\" class=\"data row5 col5\" >5.710000</td>\n",
              "      <td id=\"T_8379b_row5_col6\" class=\"data row5 col6\" >28</td>\n",
              "      <td id=\"T_8379b_row5_col7\" class=\"data row5 col7\" >48</td>\n",
              "      <td id=\"T_8379b_row5_col8\" class=\"data row5 col8\" >A student interested in History spends about 5.71 hours studying, has an engagement score of 28, and viewed 48 materials. Describe their learning behavior on the platform.\n",
              "\n",
              "1\n",
              "\n",
              "2 4-D printable brochure (about US</td>\n",
              "      <td id=\"T_8379b_row5_col9\" class=\"data row5 col9\" >Hugging Face</td>\n",
              "    </tr>\n",
              "    <tr>\n",
              "      <th id=\"T_8379b_level0_row6\" class=\"row_heading level0 row6\" >6</th>\n",
              "      <td id=\"T_8379b_row6_col0\" class=\"data row6 col0\" >7</td>\n",
              "      <td id=\"T_8379b_row6_col1\" class=\"data row6 col1\" >20</td>\n",
              "      <td id=\"T_8379b_row6_col2\" class=\"data row6 col2\" >Junior</td>\n",
              "      <td id=\"T_8379b_row6_col3\" class=\"data row6 col3\" >History</td>\n",
              "      <td id=\"T_8379b_row6_col4\" class=\"data row6 col4\" >61</td>\n",
              "      <td id=\"T_8379b_row6_col5\" class=\"data row6 col5\" >6.670000</td>\n",
              "      <td id=\"T_8379b_row6_col6\" class=\"data row6 col6\" >43</td>\n",
              "      <td id=\"T_8379b_row6_col7\" class=\"data row6 col7\" >13</td>\n",
              "      <td id=\"T_8379b_row6_col8\" class=\"data row6 col8\" >A student interested in History spends about 6.67 hours studying, has an engagement score of 43, and viewed 13 materials. Describe their learning behavior on the platform.\n",
              "\n",
              "View a list of our \"Top 10\" courses.\n",
              "\n",
              "\n",
              "Learn</td>\n",
              "      <td id=\"T_8379b_row6_col9\" class=\"data row6 col9\" >Hugging Face</td>\n",
              "    </tr>\n",
              "    <tr>\n",
              "      <th id=\"T_8379b_level0_row7\" class=\"row_heading level0 row7\" >7</th>\n",
              "      <td id=\"T_8379b_row7_col0\" class=\"data row7 col0\" >8</td>\n",
              "      <td id=\"T_8379b_row7_col1\" class=\"data row7 col1\" >27</td>\n",
              "      <td id=\"T_8379b_row7_col2\" class=\"data row7 col2\" >Junior</td>\n",
              "      <td id=\"T_8379b_row7_col3\" class=\"data row7 col3\" >Art</td>\n",
              "      <td id=\"T_8379b_row7_col4\" class=\"data row7 col4\" >93</td>\n",
              "      <td id=\"T_8379b_row7_col5\" class=\"data row7 col5\" >3.550000</td>\n",
              "      <td id=\"T_8379b_row7_col6\" class=\"data row7 col6\" >56</td>\n",
              "      <td id=\"T_8379b_row7_col7\" class=\"data row7 col7\" >29</td>\n",
              "      <td id=\"T_8379b_row7_col8\" class=\"data row7 col8\" >A student interested in Art spends about 3.55 hours studying, has an engagement score of 56, and viewed 29 materials. Describe their learning behavior on the platform. They are in the middle of a classroom and not looking for a place to hide</td>\n",
              "      <td id=\"T_8379b_row7_col9\" class=\"data row7 col9\" >Hugging Face</td>\n",
              "    </tr>\n",
              "    <tr>\n",
              "      <th id=\"T_8379b_level0_row8\" class=\"row_heading level0 row8\" >8</th>\n",
              "      <td id=\"T_8379b_row8_col0\" class=\"data row8 col0\" >9</td>\n",
              "      <td id=\"T_8379b_row8_col1\" class=\"data row8 col1\" >18</td>\n",
              "      <td id=\"T_8379b_row8_col2\" class=\"data row8 col2\" >Sophomore</td>\n",
              "      <td id=\"T_8379b_row8_col3\" class=\"data row8 col3\" >Science</td>\n",
              "      <td id=\"T_8379b_row8_col4\" class=\"data row8 col4\" >51</td>\n",
              "      <td id=\"T_8379b_row8_col5\" class=\"data row8 col5\" >2.040000</td>\n",
              "      <td id=\"T_8379b_row8_col6\" class=\"data row8 col6\" >29</td>\n",
              "      <td id=\"T_8379b_row8_col7\" class=\"data row8 col7\" >36</td>\n",
              "      <td id=\"T_8379b_row8_col8\" class=\"data row8 col8\" >A student interested in Science spends about 2.04 hours studying, has an engagement score of 29, and viewed 36 materials. Describe their learning behavior on the platform.\n",
              "\n",
              "What do you do when you are curious?\n",
              "\n",
              "We answer questions</td>\n",
              "      <td id=\"T_8379b_row8_col9\" class=\"data row8 col9\" >Hugging Face</td>\n",
              "    </tr>\n",
              "    <tr>\n",
              "      <th id=\"T_8379b_level0_row9\" class=\"row_heading level0 row9\" >9</th>\n",
              "      <td id=\"T_8379b_row9_col0\" class=\"data row9 col0\" >10</td>\n",
              "      <td id=\"T_8379b_row9_col1\" class=\"data row9 col1\" >27</td>\n",
              "      <td id=\"T_8379b_row9_col2\" class=\"data row9 col2\" >Junior</td>\n",
              "      <td id=\"T_8379b_row9_col3\" class=\"data row9 col3\" >Math</td>\n",
              "      <td id=\"T_8379b_row9_col4\" class=\"data row9 col4\" >76</td>\n",
              "      <td id=\"T_8379b_row9_col5\" class=\"data row9 col5\" >9.400000</td>\n",
              "      <td id=\"T_8379b_row9_col6\" class=\"data row9 col6\" >85</td>\n",
              "      <td id=\"T_8379b_row9_col7\" class=\"data row9 col7\" >3</td>\n",
              "      <td id=\"T_8379b_row9_col8\" class=\"data row9 col8\" >A student interested in Math spends about 9.4 hours studying, has an engagement score of 85, and viewed 3 materials. Describe their learning behavior on the platform. Explain their purpose through the content they share. Provide context to how they use and</td>\n",
              "      <td id=\"T_8379b_row9_col9\" class=\"data row9 col9\" >Hugging Face</td>\n",
              "    </tr>\n",
              "  </tbody>\n",
              "</table>\n"
            ]
          },
          "metadata": {},
          "execution_count": 15
        }
      ]
    },
    {
      "cell_type": "code",
      "source": [
        "import pandas as pd\n",
        "\n",
        "# Veri setini yükle\n",
        "df = pd.read_excel('/content/ALL_Dataset.xlsx')\n",
        "\n",
        "# İlk 5 ve son 5 satırı birleştir\n",
        "df_combined = pd.concat([df.head(5), df.tail(5)])\n",
        "\n",
        "# Renkli stil uygulama (soft mavi tonları)\n",
        "styled_table = df_combined.style.background_gradient(cmap='Blues').set_properties(**{'color': 'black', 'font-weight': 'bold'})\n",
        "\n",
        "# Yeni dosya yolu\n",
        "output_file_path = '/content/styled_combined_dataset.html'\n",
        "\n",
        "# Renkli tabloyu HTML formatında kaydet\n",
        "styled_table.to_html(output_file_path)\n",
        "\n",
        "print(f\"Tablo başarıyla kaydedildi: {output_file_path}\")\n"
      ],
      "metadata": {
        "colab": {
          "base_uri": "https://localhost:8080/"
        },
        "id": "j1cVTR5XXdAk",
        "outputId": "2fb54ea8-b302-4f22-d75e-a712e3b2424b"
      },
      "execution_count": 32,
      "outputs": [
        {
          "output_type": "stream",
          "name": "stdout",
          "text": [
            "Tablo başarıyla kaydedildi: /content/styled_combined_dataset.html\n"
          ]
        }
      ]
    },
    {
      "cell_type": "code",
      "source": [
        "!pip install dataframe_image"
      ],
      "metadata": {
        "colab": {
          "base_uri": "https://localhost:8080/"
        },
        "collapsed": true,
        "id": "UVR-GH3uRNox",
        "outputId": "7a64bde4-51d3-4777-8fff-0d7f16c587c4"
      },
      "execution_count": 22,
      "outputs": [
        {
          "output_type": "stream",
          "name": "stdout",
          "text": [
            "Collecting dataframe_image\n",
            "  Downloading dataframe_image-0.2.6-py3-none-any.whl.metadata (9.1 kB)\n",
            "Requirement already satisfied: pandas>=0.24 in /usr/local/lib/python3.10/dist-packages (from dataframe_image) (2.2.2)\n",
            "Requirement already satisfied: nbconvert>=5 in /usr/local/lib/python3.10/dist-packages (from dataframe_image) (7.16.5)\n",
            "Requirement already satisfied: aiohttp>=3.10.2 in /usr/local/lib/python3.10/dist-packages (from dataframe_image) (3.11.11)\n",
            "Requirement already satisfied: requests in /usr/local/lib/python3.10/dist-packages (from dataframe_image) (2.32.3)\n",
            "Requirement already satisfied: pillow in /usr/local/lib/python3.10/dist-packages (from dataframe_image) (11.1.0)\n",
            "Requirement already satisfied: packaging in /usr/local/lib/python3.10/dist-packages (from dataframe_image) (24.2)\n",
            "Requirement already satisfied: mistune in /usr/local/lib/python3.10/dist-packages (from dataframe_image) (3.1.0)\n",
            "Requirement already satisfied: lxml in /usr/local/lib/python3.10/dist-packages (from dataframe_image) (5.3.0)\n",
            "Requirement already satisfied: beautifulsoup4 in /usr/local/lib/python3.10/dist-packages (from dataframe_image) (4.12.3)\n",
            "Collecting cssutils (from dataframe_image)\n",
            "  Downloading cssutils-2.11.1-py3-none-any.whl.metadata (8.7 kB)\n",
            "Collecting html2image (from dataframe_image)\n",
            "  Downloading html2image-2.0.5-py3-none-any.whl.metadata (15 kB)\n",
            "Collecting cssselect (from dataframe_image)\n",
            "  Downloading cssselect-1.2.0-py2.py3-none-any.whl.metadata (2.2 kB)\n",
            "Requirement already satisfied: aiohappyeyeballs>=2.3.0 in /usr/local/lib/python3.10/dist-packages (from aiohttp>=3.10.2->dataframe_image) (2.4.4)\n",
            "Requirement already satisfied: aiosignal>=1.1.2 in /usr/local/lib/python3.10/dist-packages (from aiohttp>=3.10.2->dataframe_image) (1.3.2)\n",
            "Requirement already satisfied: async-timeout<6.0,>=4.0 in /usr/local/lib/python3.10/dist-packages (from aiohttp>=3.10.2->dataframe_image) (4.0.3)\n",
            "Requirement already satisfied: attrs>=17.3.0 in /usr/local/lib/python3.10/dist-packages (from aiohttp>=3.10.2->dataframe_image) (24.3.0)\n",
            "Requirement already satisfied: frozenlist>=1.1.1 in /usr/local/lib/python3.10/dist-packages (from aiohttp>=3.10.2->dataframe_image) (1.5.0)\n",
            "Requirement already satisfied: multidict<7.0,>=4.5 in /usr/local/lib/python3.10/dist-packages (from aiohttp>=3.10.2->dataframe_image) (6.1.0)\n",
            "Requirement already satisfied: propcache>=0.2.0 in /usr/local/lib/python3.10/dist-packages (from aiohttp>=3.10.2->dataframe_image) (0.2.1)\n",
            "Requirement already satisfied: yarl<2.0,>=1.17.0 in /usr/local/lib/python3.10/dist-packages (from aiohttp>=3.10.2->dataframe_image) (1.18.3)\n",
            "Requirement already satisfied: bleach!=5.0.0 in /usr/local/lib/python3.10/dist-packages (from bleach[css]!=5.0.0->nbconvert>=5->dataframe_image) (6.2.0)\n",
            "Requirement already satisfied: defusedxml in /usr/local/lib/python3.10/dist-packages (from nbconvert>=5->dataframe_image) (0.7.1)\n",
            "Requirement already satisfied: jinja2>=3.0 in /usr/local/lib/python3.10/dist-packages (from nbconvert>=5->dataframe_image) (3.1.5)\n",
            "Requirement already satisfied: jupyter-core>=4.7 in /usr/local/lib/python3.10/dist-packages (from nbconvert>=5->dataframe_image) (5.7.2)\n",
            "Requirement already satisfied: jupyterlab-pygments in /usr/local/lib/python3.10/dist-packages (from nbconvert>=5->dataframe_image) (0.3.0)\n",
            "Requirement already satisfied: markupsafe>=2.0 in /usr/local/lib/python3.10/dist-packages (from nbconvert>=5->dataframe_image) (3.0.2)\n",
            "Requirement already satisfied: nbclient>=0.5.0 in /usr/local/lib/python3.10/dist-packages (from nbconvert>=5->dataframe_image) (0.10.2)\n",
            "Requirement already satisfied: nbformat>=5.7 in /usr/local/lib/python3.10/dist-packages (from nbconvert>=5->dataframe_image) (5.10.4)\n",
            "Requirement already satisfied: pandocfilters>=1.4.1 in /usr/local/lib/python3.10/dist-packages (from nbconvert>=5->dataframe_image) (1.5.1)\n",
            "Requirement already satisfied: pygments>=2.4.1 in /usr/local/lib/python3.10/dist-packages (from nbconvert>=5->dataframe_image) (2.18.0)\n",
            "Requirement already satisfied: traitlets>=5.1 in /usr/local/lib/python3.10/dist-packages (from nbconvert>=5->dataframe_image) (5.7.1)\n",
            "Requirement already satisfied: typing-extensions in /usr/local/lib/python3.10/dist-packages (from mistune->dataframe_image) (4.12.2)\n",
            "Requirement already satisfied: numpy>=1.22.4 in /usr/local/lib/python3.10/dist-packages (from pandas>=0.24->dataframe_image) (1.26.4)\n",
            "Requirement already satisfied: python-dateutil>=2.8.2 in /usr/local/lib/python3.10/dist-packages (from pandas>=0.24->dataframe_image) (2.8.2)\n",
            "Requirement already satisfied: pytz>=2020.1 in /usr/local/lib/python3.10/dist-packages (from pandas>=0.24->dataframe_image) (2024.2)\n",
            "Requirement already satisfied: tzdata>=2022.7 in /usr/local/lib/python3.10/dist-packages (from pandas>=0.24->dataframe_image) (2024.2)\n",
            "Requirement already satisfied: soupsieve>1.2 in /usr/local/lib/python3.10/dist-packages (from beautifulsoup4->dataframe_image) (2.6)\n",
            "Requirement already satisfied: more-itertools in /usr/local/lib/python3.10/dist-packages (from cssutils->dataframe_image) (10.5.0)\n",
            "Requirement already satisfied: websocket-client==1.* in /usr/local/lib/python3.10/dist-packages (from html2image->dataframe_image) (1.8.0)\n",
            "Requirement already satisfied: charset-normalizer<4,>=2 in /usr/local/lib/python3.10/dist-packages (from requests->dataframe_image) (3.4.1)\n",
            "Requirement already satisfied: idna<4,>=2.5 in /usr/local/lib/python3.10/dist-packages (from requests->dataframe_image) (3.10)\n",
            "Requirement already satisfied: urllib3<3,>=1.21.1 in /usr/local/lib/python3.10/dist-packages (from requests->dataframe_image) (2.3.0)\n",
            "Requirement already satisfied: certifi>=2017.4.17 in /usr/local/lib/python3.10/dist-packages (from requests->dataframe_image) (2024.12.14)\n",
            "Requirement already satisfied: webencodings in /usr/local/lib/python3.10/dist-packages (from bleach!=5.0.0->bleach[css]!=5.0.0->nbconvert>=5->dataframe_image) (0.5.1)\n",
            "Requirement already satisfied: tinycss2<1.5,>=1.1.0 in /usr/local/lib/python3.10/dist-packages (from bleach[css]!=5.0.0->nbconvert>=5->dataframe_image) (1.4.0)\n",
            "Requirement already satisfied: platformdirs>=2.5 in /usr/local/lib/python3.10/dist-packages (from jupyter-core>=4.7->nbconvert>=5->dataframe_image) (4.3.6)\n",
            "Requirement already satisfied: jupyter-client>=6.1.12 in /usr/local/lib/python3.10/dist-packages (from nbclient>=0.5.0->nbconvert>=5->dataframe_image) (6.1.12)\n",
            "Requirement already satisfied: fastjsonschema>=2.15 in /usr/local/lib/python3.10/dist-packages (from nbformat>=5.7->nbconvert>=5->dataframe_image) (2.21.1)\n",
            "Requirement already satisfied: jsonschema>=2.6 in /usr/local/lib/python3.10/dist-packages (from nbformat>=5.7->nbconvert>=5->dataframe_image) (4.23.0)\n",
            "Requirement already satisfied: six>=1.5 in /usr/local/lib/python3.10/dist-packages (from python-dateutil>=2.8.2->pandas>=0.24->dataframe_image) (1.17.0)\n",
            "Requirement already satisfied: jsonschema-specifications>=2023.03.6 in /usr/local/lib/python3.10/dist-packages (from jsonschema>=2.6->nbformat>=5.7->nbconvert>=5->dataframe_image) (2024.10.1)\n",
            "Requirement already satisfied: referencing>=0.28.4 in /usr/local/lib/python3.10/dist-packages (from jsonschema>=2.6->nbformat>=5.7->nbconvert>=5->dataframe_image) (0.35.1)\n",
            "Requirement already satisfied: rpds-py>=0.7.1 in /usr/local/lib/python3.10/dist-packages (from jsonschema>=2.6->nbformat>=5.7->nbconvert>=5->dataframe_image) (0.22.3)\n",
            "Requirement already satisfied: pyzmq>=13 in /usr/local/lib/python3.10/dist-packages (from jupyter-client>=6.1.12->nbclient>=0.5.0->nbconvert>=5->dataframe_image) (24.0.1)\n",
            "Requirement already satisfied: tornado>=4.1 in /usr/local/lib/python3.10/dist-packages (from jupyter-client>=6.1.12->nbclient>=0.5.0->nbconvert>=5->dataframe_image) (6.3.3)\n",
            "Downloading dataframe_image-0.2.6-py3-none-any.whl (6.7 MB)\n",
            "\u001b[2K   \u001b[90m━━━━━━━━━━━━━━━━━━━━━━━━━━━━━━━━━━━━━━━━\u001b[0m \u001b[32m6.7/6.7 MB\u001b[0m \u001b[31m28.9 MB/s\u001b[0m eta \u001b[36m0:00:00\u001b[0m\n",
            "\u001b[?25hDownloading cssselect-1.2.0-py2.py3-none-any.whl (18 kB)\n",
            "Downloading cssutils-2.11.1-py3-none-any.whl (385 kB)\n",
            "\u001b[2K   \u001b[90m━━━━━━━━━━━━━━━━━━━━━━━━━━━━━━━━━━━━━━━━\u001b[0m \u001b[32m385.7/385.7 kB\u001b[0m \u001b[31m9.6 MB/s\u001b[0m eta \u001b[36m0:00:00\u001b[0m\n",
            "\u001b[?25hDownloading html2image-2.0.5-py3-none-any.whl (28 kB)\n",
            "Installing collected packages: cssutils, cssselect, html2image, dataframe_image\n",
            "Successfully installed cssselect-1.2.0 cssutils-2.11.1 dataframe_image-0.2.6 html2image-2.0.5\n"
          ]
        }
      ]
    },
    {
      "cell_type": "code",
      "source": [
        "import matplotlib.pyplot as plt\n",
        "import seaborn as sns\n",
        "import numpy as np\n",
        "\n",
        "# Generating example data\n",
        "np.random.seed(42)\n",
        "train_scores = np.random.normal(0.8, 0.1, 100)  # Training scores\n",
        "test_scores = np.random.normal(0.75, 0.1, 100)   # Test scores\n",
        "iterations = np.arange(1, 101)  # Iterations\n",
        "errors = np.random.normal(0.05, 0.01, 100)  # Error rates\n",
        "hyperparams = ['Param1', 'Param2', 'Param3', 'Param4', 'Param5']\n",
        "accuracy = [0.82, 0.78, 0.85, 0.79, 0.83]  # Accuracy for different hyperparameters\n",
        "\n",
        "# Create a figure with subplots\n",
        "fig, axs = plt.subplots(1, 3, figsize=(18, 6))\n",
        "\n",
        "# 1. Training vs Test Comparison (Boxplot)\n",
        "sns.boxplot(data=[train_scores, test_scores], ax=axs[0], palette=\"Blues\")\n",
        "axs[0].set_xticklabels(['Training Scores', 'Test Scores'])\n",
        "axs[0].set_title('Training vs Test Comparison')\n",
        "\n",
        "# 2. Error Analysis (Line Plot)\n",
        "axs[1].plot(iterations, errors, color='green')\n",
        "axs[1].set_title('Error Analysis')\n",
        "axs[1].set_xlabel('Iteration')\n",
        "axs[1].set_ylabel('Error Rate')\n",
        "\n",
        "# 3. Model Performance (Bar Chart)\n",
        "axs[2].bar(hyperparams, accuracy, color='skyblue')\n",
        "axs[2].set_title('Model Performance (Hyperparameters)')\n",
        "axs[2].set_ylabel('Accuracy')\n",
        "\n",
        "# Optimize layout\n",
        "plt.tight_layout()\n",
        "plt.show()\n"
      ],
      "metadata": {
        "colab": {
          "base_uri": "https://localhost:8080/",
          "height": 475
        },
        "id": "gvTE-LQcNGX6",
        "outputId": "74747afe-de39-4a48-a1b9-ca91d1cdb507"
      },
      "execution_count": 17,
      "outputs": [
        {
          "output_type": "stream",
          "name": "stderr",
          "text": [
            "<ipython-input-17-72eb67c4f5c0>:19: UserWarning: set_ticklabels() should only be used with a fixed number of ticks, i.e. after set_ticks() or using a FixedLocator.\n",
            "  axs[0].set_xticklabels(['Training Scores', 'Test Scores'])\n"
          ]
        },
        {
          "output_type": "display_data",
          "data": {
            "text/plain": [
              "<Figure size 1800x600 with 3 Axes>"
            ],
            "image/png": "[encoded data removed]"
          },
          "metadata": {}
        }
      ]
    },
    {
      "cell_type": "code",
      "source": [
        "import pandas as pd\n",
        "from sklearn.preprocessing import MinMaxScaler\n",
        "from sklearn.model_selection import train_test_split\n",
        "\n",
        "# --- 1. Veri Setini Yükleme ---\n",
        "df = pd.read_excel(\"/content/ALL_Dataset.xlsx\")  # CSV dosyasını yükleyin\n",
        "\n",
        "# --- 3. Eksik Verileri Kontrol Etme ve Doldurma ---\n",
        "print(\"Eksik Veriler:\\n\", df.isnull().sum())\n",
        "\n",
        "# Sayısal veriler için eksik değerleri ortalama ile doldurma\n",
        "numerical_cols = df.select_dtypes(include=['float64', 'int64']).columns\n",
        "df[numerical_cols] = df[numerical_cols].fillna(df[numerical_cols].mean())\n",
        "\n",
        "# Kategorik veriler için eksik değerleri mod ile doldurma\n",
        "categorical_cols = df.select_dtypes(include=['object']).columns\n",
        "for col in categorical_cols:\n",
        "    df[col] = df[col].fillna(df[col].mode()[0])\n",
        "\n",
        "# --- 4. One-Hot Encoding Kategorik Veriler ---\n",
        "df = pd.get_dummies(df, columns=['Class_Level', 'Interest'])\n",
        "\n",
        "# --- 5. Sayısal Verileri Normalleştirme ---\n",
        "scaler = MinMaxScaler()\n",
        "df['Study_Hours'] = scaler.fit_transform(df[['Study_Hours']])\n",
        "\n",
        "# --- 6. Eğitim ve Test Verisine Ayırma ---\n",
        "train_data, test_data = train_test_split(df, test_size=0.2, random_state=42)\n",
        "\n",
        "# --- 7. Özellikler ve Hedef Değişkenlerin Seçimi ---\n",
        "X_train = train_data.drop(columns=['Exam_Score', 'Student_ID'])\n",
        "y_train = train_data['Exam_Score']\n",
        "\n",
        "X_test = test_data.drop(columns=['Exam_Score', 'Student_ID'])\n",
        "y_test = test_data['Exam_Score']\n",
        "\n",
        "# Sonuçları kontrol etme\n",
        "print(f\"Train data size: {len(train_data)}\")\n",
        "print(f\"Test data size: {len(test_data)}\")\n"
      ],
      "metadata": {
        "colab": {
          "base_uri": "https://localhost:8080/"
        },
        "id": "5GAeBhL_gsit",
        "outputId": "2bd520e5-a4ea-4486-91c8-0f4e859efef1"
      },
      "execution_count": 37,
      "outputs": [
        {
          "output_type": "stream",
          "name": "stdout",
          "text": [
            "Eksik Veriler:\n",
            " Student_ID              0\n",
            "Age                     0\n",
            "Class_Level             0\n",
            "Interest                0\n",
            "Exam_Score              0\n",
            "Study_Hours             0\n",
            "Engagement_Score        0\n",
            "Content_Viewed          0\n",
            "Behavior_Description    5\n",
            "Source                  0\n",
            "dtype: int64\n",
            "Train data size: 4800\n",
            "Test data size: 1200\n"
          ]
        }
      ]
    },
    {
      "cell_type": "code",
      "source": [
        "df.head()"
      ],
      "metadata": {
        "colab": {
          "base_uri": "https://localhost:8080/",
          "height": 400
        },
        "id": "5c9Fc6gVhmeL",
        "outputId": "ab48259a-82ec-4800-cb98-e0e9db76ad37"
      },
      "execution_count": 38,
      "outputs": [
        {
          "output_type": "execute_result",
          "data": {
            "text/plain": [
              "   Student_ID  Age  Exam_Score  Study_Hours  Engagement_Score  Content_Viewed  \\\n",
              "0           1   26          71     0.680000                16               7   \n",
              "1           2   18          97     0.312222                40              44   \n",
              "2           3   22          62     0.433333                29               6   \n",
              "3           4   21          76     0.095556                73              39   \n",
              "4           5   25          67     0.104444                 5              28   \n",
              "\n",
              "                                Behavior_Description        Source  \\\n",
              "0  A student interested in Math spends about 7.12...  Hugging Face   \n",
              "1  A student interested in Science spends about 3...  Hugging Face   \n",
              "2  A student interested in Science spends about 4...  Hugging Face   \n",
              "3  A student interested in Math spends about 1.86...  Hugging Face   \n",
              "4  A student interested in Math spends about 1.94...  Hugging Face   \n",
              "\n",
              "   Class_Level_Freshman  Class_Level_Junior  Class_Level_Senior  \\\n",
              "0                 False               False                True   \n",
              "1                 False               False               False   \n",
              "2                  True               False               False   \n",
              "3                 False                True               False   \n",
              "4                  True               False               False   \n",
              "\n",
              "   Class_Level_Sophomore  Interest_Art  Interest_History  Interest_Math  \\\n",
              "0                  False         False             False           True   \n",
              "1                   True         False             False          False   \n",
              "2                  False         False             False          False   \n",
              "3                  False         False             False           True   \n",
              "4                  False         False             False           True   \n",
              "\n",
              "   Interest_Science  \n",
              "0             False  \n",
              "1              True  \n",
              "2              True  \n",
              "3             False  \n",
              "4             False  "
            ],
            "text/html": [
              "\n",
              "  <div id=\"df-4ad22345-5c18-4236-b33e-c4e22690c81c\" class=\"colab-df-container\">\n",
              "    <div>\n",
              "<style scoped>\n",
              "    .dataframe tbody tr th:only-of-type {\n",
              "        vertical-align: middle;\n",
              "    }\n",
              "\n",
              "    .dataframe tbody tr th {\n",
              "        vertical-align: top;\n",
              "    }\n",
              "\n",
              "    .dataframe thead th {\n",
              "        text-align: right;\n",
              "    }\n",
              "</style>\n",
              "<table border=\"1\" class=\"dataframe\">\n",
              "  <thead>\n",
              "    <tr style=\"text-align: right;\">\n",
              "      <th></th>\n",
              "      <th>Student_ID</th>\n",
              "      <th>Age</th>\n",
              "      <th>Exam_Score</th>\n",
              "      <th>Study_Hours</th>\n",
              "      <th>Engagement_Score</th>\n",
              "      <th>Content_Viewed</th>\n",
              "      <th>Behavior_Description</th>\n",
              "      <th>Source</th>\n",
              "      <th>Class_Level_Freshman</th>\n",
              "      <th>Class_Level_Junior</th>\n",
              "      <th>Class_Level_Senior</th>\n",
              "      <th>Class_Level_Sophomore</th>\n",
              "      <th>Interest_Art</th>\n",
              "      <th>Interest_History</th>\n",
              "      <th>Interest_Math</th>\n",
              "      <th>Interest_Science</th>\n",
              "    </tr>\n",
              "  </thead>\n",
              "  <tbody>\n",
              "    <tr>\n",
              "      <th>0</th>\n",
              "      <td>1</td>\n",
              "      <td>26</td>\n",
              "      <td>71</td>\n",
              "      <td>0.680000</td>\n",
              "      <td>16</td>\n",
              "      <td>7</td>\n",
              "      <td>A student interested in Math spends about 7.12...</td>\n",
              "      <td>Hugging Face</td>\n",
              "      <td>False</td>\n",
              "      <td>False</td>\n",
              "      <td>True</td>\n",
              "      <td>False</td>\n",
              "      <td>False</td>\n",
              "      <td>False</td>\n",
              "      <td>True</td>\n",
              "      <td>False</td>\n",
              "    </tr>\n",
              "    <tr>\n",
              "      <th>1</th>\n",
              "      <td>2</td>\n",
              "      <td>18</td>\n",
              "      <td>97</td>\n",
              "      <td>0.312222</td>\n",
              "      <td>40</td>\n",
              "      <td>44</td>\n",
              "      <td>A student interested in Science spends about 3...</td>\n",
              "      <td>Hugging Face</td>\n",
              "      <td>False</td>\n",
              "      <td>False</td>\n",
              "      <td>False</td>\n",
              "      <td>True</td>\n",
              "      <td>False</td>\n",
              "      <td>False</td>\n",
              "      <td>False</td>\n",
              "      <td>True</td>\n",
              "    </tr>\n",
              "    <tr>\n",
              "      <th>2</th>\n",
              "      <td>3</td>\n",
              "      <td>22</td>\n",
              "      <td>62</td>\n",
              "      <td>0.433333</td>\n",
              "      <td>29</td>\n",
              "      <td>6</td>\n",
              "      <td>A student interested in Science spends about 4...</td>\n",
              "      <td>Hugging Face</td>\n",
              "      <td>True</td>\n",
              "      <td>False</td>\n",
              "      <td>False</td>\n",
              "      <td>False</td>\n",
              "      <td>False</td>\n",
              "      <td>False</td>\n",
              "      <td>False</td>\n",
              "      <td>True</td>\n",
              "    </tr>\n",
              "    <tr>\n",
              "      <th>3</th>\n",
              "      <td>4</td>\n",
              "      <td>21</td>\n",
              "      <td>76</td>\n",
              "      <td>0.095556</td>\n",
              "      <td>73</td>\n",
              "      <td>39</td>\n",
              "      <td>A student interested in Math spends about 1.86...</td>\n",
              "      <td>Hugging Face</td>\n",
              "      <td>False</td>\n",
              "      <td>True</td>\n",
              "      <td>False</td>\n",
              "      <td>False</td>\n",
              "      <td>False</td>\n",
              "      <td>False</td>\n",
              "      <td>True</td>\n",
              "      <td>False</td>\n",
              "    </tr>\n",
              "    <tr>\n",
              "      <th>4</th>\n",
              "      <td>5</td>\n",
              "      <td>25</td>\n",
              "      <td>67</td>\n",
              "      <td>0.104444</td>\n",
              "      <td>5</td>\n",
              "      <td>28</td>\n",
              "      <td>A student interested in Math spends about 1.94...</td>\n",
              "      <td>Hugging Face</td>\n",
              "      <td>True</td>\n",
              "      <td>False</td>\n",
              "      <td>False</td>\n",
              "      <td>False</td>\n",
              "      <td>False</td>\n",
              "      <td>False</td>\n",
              "      <td>True</td>\n",
              "      <td>False</td>\n",
              "    </tr>\n",
              "  </tbody>\n",
              "</table>\n",
              "</div>\n",
              "    <div class=\"colab-df-buttons\">\n",
              "\n",
              "  <div class=\"colab-df-container\">\n",
              "    <button class=\"colab-df-convert\" onclick=\"convertToInteractive('df-4ad22345-5c18-4236-b33e-c4e22690c81c')\"\n",
              "            title=\"Convert this dataframe to an interactive table.\"\n",
              "            style=\"display:none;\">\n",
              "\n",
              "  <svg xmlns=\"http://www.w3.org/2000/svg\" height=\"24px\" viewBox=\"0 -960 960 960\">\n",
              "    <path d=\"M120-120v-720h720v720H120Zm60-500h600v-160H180v160Zm220 220h160v-160H400v160Zm0 220h160v-160H400v160ZM180-400h160v-160H180v160Zm440 0h160v-160H620v160ZM180-180h160v-160H180v160Zm440 0h160v-160H620v160Z\"/>\n",
              "  </svg>\n",
              "    </button>\n",
              "\n",
              "  <style>\n",
              "    .colab-df-container {\n",
              "      display:flex;\n",
              "      gap: 12px;\n",
              "    }\n",
              "\n",
              "    .colab-df-convert {\n",
              "      background-color: #E8F0FE;\n",
              "      border: none;\n",
              "      border-radius: 50%;\n",
              "      cursor: pointer;\n",
              "      display: none;\n",
              "      fill: #1967D2;\n",
              "      height: 32px;\n",
              "      padding: 0 0 0 0;\n",
              "      width: 32px;\n",
              "    }\n",
              "\n",
              "    .colab-df-convert:hover {\n",
              "      background-color: #E2EBFA;\n",
              "      box-shadow: 0px 1px 2px rgba(60, 64, 67, 0.3), 0px 1px 3px 1px rgba(60, 64, 67, 0.15);\n",
              "      fill: #174EA6;\n",
              "    }\n",
              "\n",
              "    .colab-df-buttons div {\n",
              "      margin-bottom: 4px;\n",
              "    }\n",
              "\n",
              "    [theme=dark] .colab-df-convert {\n",
              "      background-color: #3B4455;\n",
              "      fill: #D2E3FC;\n",
              "    }\n",
              "\n",
              "    [theme=dark] .colab-df-convert:hover {\n",
              "      background-color: #434B5C;\n",
              "      box-shadow: 0px 1px 3px 1px rgba(0, 0, 0, 0.15);\n",
              "      filter: drop-shadow(0px 1px 2px rgba(0, 0, 0, 0.3));\n",
              "      fill: #FFFFFF;\n",
              "    }\n",
              "  </style>\n",
              "\n",
              "    <script>\n",
              "      const buttonEl =\n",
              "        document.querySelector('#df-4ad22345-5c18-4236-b33e-c4e22690c81c button.colab-df-convert');\n",
              "      buttonEl.style.display =\n",
              "        google.colab.kernel.accessAllowed ? 'block' : 'none';\n",
              "\n",
              "      async function convertToInteractive(key) {\n",
              "        const element = document.querySelector('#df-4ad22345-5c18-4236-b33e-c4e22690c81c');\n",
              "        const dataTable =\n",
              "          await google.colab.kernel.invokeFunction('convertToInteractive',\n",
              "                                                    [key], {});\n",
              "        if (!dataTable) return;\n",
              "\n",
              "        const docLinkHtml = 'Like what you see? Visit the ' +\n",
              "          '<a target=\"_blank\" href=https://colab.research.google.com/notebooks/data_table.ipynb>data table notebook</a>'\n",
              "          + ' to learn more about interactive tables.';\n",
              "        element.innerHTML = '';\n",
              "        dataTable['output_type'] = 'display_data';\n",
              "        await google.colab.output.renderOutput(dataTable, element);\n",
              "        const docLink = document.createElement('div');\n",
              "        docLink.innerHTML = docLinkHtml;\n",
              "        element.appendChild(docLink);\n",
              "      }\n",
              "    </script>\n",
              "  </div>\n",
              "\n",
              "\n",
              "<div id=\"df-605f93d9-637a-4370-86e8-46c64b2c2236\">\n",
              "  <button class=\"colab-df-quickchart\" onclick=\"quickchart('df-605f93d9-637a-4370-86e8-46c64b2c2236')\"\n",
              "            title=\"Suggest charts\"\n",
              "            style=\"display:none;\">\n",
              "\n",
              "<svg xmlns=\"http://www.w3.org/2000/svg\" height=\"24px\"viewBox=\"0 0 24 24\"\n",
              "     width=\"24px\">\n",
              "    <g>\n",
              "        <path d=\"M19 3H5c-1.1 0-2 .9-2 2v14c0 1.1.9 2 2 2h14c1.1 0 2-.9 2-2V5c0-1.1-.9-2-2-2zM9 17H7v-7h2v7zm4 0h-2V7h2v10zm4 0h-2v-4h2v4z\"/>\n",
              "    </g>\n",
              "</svg>\n",
              "  </button>\n",
              "\n",
              "<style>\n",
              "  .colab-df-quickchart {\n",
              "      --bg-color: #E8F0FE;\n",
              "      --fill-color: #1967D2;\n",
              "      --hover-bg-color: #E2EBFA;\n",
              "      --hover-fill-color: #174EA6;\n",
              "      --disabled-fill-color: #AAA;\n",
              "      --disabled-bg-color: #DDD;\n",
              "  }\n",
              "\n",
              "  [theme=dark] .colab-df-quickchart {\n",
              "      --bg-color: #3B4455;\n",
              "      --fill-color: #D2E3FC;\n",
              "      --hover-bg-color: #434B5C;\n",
              "      --hover-fill-color: #FFFFFF;\n",
              "      --disabled-bg-color: #3B4455;\n",
              "      --disabled-fill-color: #666;\n",
              "  }\n",
              "\n",
              "  .colab-df-quickchart {\n",
              "    background-color: var(--bg-color);\n",
              "    border: none;\n",
              "    border-radius: 50%;\n",
              "    cursor: pointer;\n",
              "    display: none;\n",
              "    fill: var(--fill-color);\n",
              "    height: 32px;\n",
              "    padding: 0;\n",
              "    width: 32px;\n",
              "  }\n",
              "\n",
              "  .colab-df-quickchart:hover {\n",
              "    background-color: var(--hover-bg-color);\n",
              "    box-shadow: 0 1px 2px rgba(60, 64, 67, 0.3), 0 1px 3px 1px rgba(60, 64, 67, 0.15);\n",
              "    fill: var(--button-hover-fill-color);\n",
              "  }\n",
              "\n",
              "  .colab-df-quickchart-complete:disabled,\n",
              "  .colab-df-quickchart-complete:disabled:hover {\n",
              "    background-color: var(--disabled-bg-color);\n",
              "    fill: var(--disabled-fill-color);\n",
              "    box-shadow: none;\n",
              "  }\n",
              "\n",
              "  .colab-df-spinner {\n",
              "    border: 2px solid var(--fill-color);\n",
              "    border-color: transparent;\n",
              "    border-bottom-color: var(--fill-color);\n",
              "    animation:\n",
              "      spin 1s steps(1) infinite;\n",
              "  }\n",
              "\n",
              "  @keyframes spin {\n",
              "    0% {\n",
              "      border-color: transparent;\n",
              "      border-bottom-color: var(--fill-color);\n",
              "      border-left-color: var(--fill-color);\n",
              "    }\n",
              "    20% {\n",
              "      border-color: transparent;\n",
              "      border-left-color: var(--fill-color);\n",
              "      border-top-color: var(--fill-color);\n",
              "    }\n",
              "    30% {\n",
              "      border-color: transparent;\n",
              "      border-left-color: var(--fill-color);\n",
              "      border-top-color: var(--fill-color);\n",
              "      border-right-color: var(--fill-color);\n",
              "    }\n",
              "    40% {\n",
              "      border-color: transparent;\n",
              "      border-right-color: var(--fill-color);\n",
              "      border-top-color: var(--fill-color);\n",
              "    }\n",
              "    60% {\n",
              "      border-color: transparent;\n",
              "      border-right-color: var(--fill-color);\n",
              "    }\n",
              "    80% {\n",
              "      border-color: transparent;\n",
              "      border-right-color: var(--fill-color);\n",
              "      border-bottom-color: var(--fill-color);\n",
              "    }\n",
              "    90% {\n",
              "      border-color: transparent;\n",
              "      border-bottom-color: var(--fill-color);\n",
              "    }\n",
              "  }\n",
              "</style>\n",
              "\n",
              "  <script>\n",
              "    async function quickchart(key) {\n",
              "      const quickchartButtonEl =\n",
              "        document.querySelector('#' + key + ' button');\n",
              "      quickchartButtonEl.disabled = true;  // To prevent multiple clicks.\n",
              "      quickchartButtonEl.classList.add('colab-df-spinner');\n",
              "      try {\n",
              "        const charts = await google.colab.kernel.invokeFunction(\n",
              "            'suggestCharts', [key], {});\n",
              "      } catch (error) {\n",
              "        console.error('Error during call to suggestCharts:', error);\n",
              "      }\n",
              "      quickchartButtonEl.classList.remove('colab-df-spinner');\n",
              "      quickchartButtonEl.classList.add('colab-df-quickchart-complete');\n",
              "    }\n",
              "    (() => {\n",
              "      let quickchartButtonEl =\n",
              "        document.querySelector('#df-605f93d9-637a-4370-86e8-46c64b2c2236 button');\n",
              "      quickchartButtonEl.style.display =\n",
              "        google.colab.kernel.accessAllowed ? 'block' : 'none';\n",
              "    })();\n",
              "  </script>\n",
              "</div>\n",
              "\n",
              "    </div>\n",
              "  </div>\n"
            ],
            "application/vnd.google.colaboratory.intrinsic+json": {
              "type": "dataframe",
              "variable_name": "df",
              "summary": "{\n  \"name\": \"df\",\n  \"rows\": 6000,\n  \"fields\": [\n    {\n      \"column\": \"Student_ID\",\n      \"properties\": {\n        \"dtype\": \"number\",\n        \"std\": 1732,\n        \"min\": 1,\n        \"max\": 6000,\n        \"num_unique_values\": 6000,\n        \"samples\": [\n          1783,\n          3918,\n          222\n        ],\n        \"semantic_type\": \"\",\n        \"description\": \"\"\n      }\n    },\n    {\n      \"column\": \"Age\",\n      \"properties\": {\n        \"dtype\": \"number\",\n        \"std\": 3,\n        \"min\": 18,\n        \"max\": 29,\n        \"num_unique_values\": 12,\n        \"samples\": [\n          19,\n          28,\n          26\n        ],\n        \"semantic_type\": \"\",\n        \"description\": \"\"\n      }\n    },\n    {\n      \"column\": \"Exam_Score\",\n      \"properties\": {\n        \"dtype\": \"number\",\n        \"std\": 14,\n        \"min\": 50,\n        \"max\": 99,\n        \"num_unique_values\": 50,\n        \"samples\": [\n          89,\n          55,\n          88\n        ],\n        \"semantic_type\": \"\",\n        \"description\": \"\"\n      }\n    },\n    {\n      \"column\": \"Study_Hours\",\n      \"properties\": {\n        \"dtype\": \"number\",\n        \"std\": 0.2890860465907366,\n        \"min\": 0.0,\n        \"max\": 1.0,\n        \"num_unique_values\": 900,\n        \"samples\": [\n          0.8877777777777778,\n          0.991111111111111,\n          0.8422222222222222\n        ],\n        \"semantic_type\": \"\",\n        \"description\": \"\"\n      }\n    },\n    {\n      \"column\": \"Engagement_Score\",\n      \"properties\": {\n        \"dtype\": \"number\",\n        \"std\": 29,\n        \"min\": 1,\n        \"max\": 100,\n        \"num_unique_values\": 100,\n        \"samples\": [\n          33,\n          30,\n          42\n        ],\n        \"semantic_type\": \"\",\n        \"description\": \"\"\n      }\n    },\n    {\n      \"column\": \"Content_Viewed\",\n      \"properties\": {\n        \"dtype\": \"number\",\n        \"std\": 14,\n        \"min\": 1,\n        \"max\": 49,\n        \"num_unique_values\": 49,\n        \"samples\": [\n          18,\n          14,\n          15\n        ],\n        \"semantic_type\": \"\",\n        \"description\": \"\"\n      }\n    },\n    {\n      \"column\": \"Behavior_Description\",\n      \"properties\": {\n        \"dtype\": \"string\",\n        \"num_unique_values\": 5995,\n        \"samples\": [\n          \"A student interested in Literature spends about 5.05 hours studying, has an engagement score of 88, and viewed 40 materials. Describe their learning behavior on the platform.\\n\\nA student interested in Mathematics spends about 5.05 hours studying, has an engagement score of 88, and viewed 40 materials. Describe their learning behavior on the platform.\\n\\nA student interested in Professional Development spends about 5.05 hours studying, has an engagement score of 88, and viewed 40\",\n          \"A student interested in Art spends about 6.27 hours studying, has an engagement score of 18, and viewed 42 materials. Describe their learning behavior on the platform.\\n\\nThe application provides students with a variety of services including\\n\\nSupport for\",\n          \"**\\n\\nUsing the engagement score table above, we see that an engagement score of 33 corresponds to \\\"Good\\\". This means that the student is spending a good amount of time studying and is engaged on the platform. \\n\\nThe student has viewed 43 materials, which suggests that they're actively seeking out resources to help them learn. \\n\\nOverall, I would describe this student as being a motivated learner who's making an effort to excel in their studies.\\n\\n**2. A student interested in Music spends about\"\n        ],\n        \"semantic_type\": \"\",\n        \"description\": \"\"\n      }\n    },\n    {\n      \"column\": \"Source\",\n      \"properties\": {\n        \"dtype\": \"category\",\n        \"num_unique_values\": 2,\n        \"samples\": [\n          \"OpenAI API\",\n          \"Hugging Face\"\n        ],\n        \"semantic_type\": \"\",\n        \"description\": \"\"\n      }\n    },\n    {\n      \"column\": \"Class_Level_Freshman\",\n      \"properties\": {\n        \"dtype\": \"boolean\",\n        \"num_unique_values\": 2,\n        \"samples\": [\n          true,\n          false\n        ],\n        \"semantic_type\": \"\",\n        \"description\": \"\"\n      }\n    },\n    {\n      \"column\": \"Class_Level_Junior\",\n      \"properties\": {\n        \"dtype\": \"boolean\",\n        \"num_unique_values\": 2,\n        \"samples\": [\n          true,\n          false\n        ],\n        \"semantic_type\": \"\",\n        \"description\": \"\"\n      }\n    },\n    {\n      \"column\": \"Class_Level_Senior\",\n      \"properties\": {\n        \"dtype\": \"boolean\",\n        \"num_unique_values\": 2,\n        \"samples\": [\n          false,\n          true\n        ],\n        \"semantic_type\": \"\",\n        \"description\": \"\"\n      }\n    },\n    {\n      \"column\": \"Class_Level_Sophomore\",\n      \"properties\": {\n        \"dtype\": \"boolean\",\n        \"num_unique_values\": 2,\n        \"samples\": [\n          true,\n          false\n        ],\n        \"semantic_type\": \"\",\n        \"description\": \"\"\n      }\n    },\n    {\n      \"column\": \"Interest_Art\",\n      \"properties\": {\n        \"dtype\": \"boolean\",\n        \"num_unique_values\": 2,\n        \"samples\": [\n          true,\n          false\n        ],\n        \"semantic_type\": \"\",\n        \"description\": \"\"\n      }\n    },\n    {\n      \"column\": \"Interest_History\",\n      \"properties\": {\n        \"dtype\": \"boolean\",\n        \"num_unique_values\": 2,\n        \"samples\": [\n          true,\n          false\n        ],\n        \"semantic_type\": \"\",\n        \"description\": \"\"\n      }\n    },\n    {\n      \"column\": \"Interest_Math\",\n      \"properties\": {\n        \"dtype\": \"boolean\",\n        \"num_unique_values\": 2,\n        \"samples\": [\n          false,\n          true\n        ],\n        \"semantic_type\": \"\",\n        \"description\": \"\"\n      }\n    },\n    {\n      \"column\": \"Interest_Science\",\n      \"properties\": {\n        \"dtype\": \"boolean\",\n        \"num_unique_values\": 2,\n        \"samples\": [\n          true,\n          false\n        ],\n        \"semantic_type\": \"\",\n        \"description\": \"\"\n      }\n    }\n  ]\n}"
            }
          },
          "metadata": {},
          "execution_count": 38
        }
      ]
    },
    {
      "cell_type": "code",
      "source": [
        "import pandas as pd\n",
        "\n",
        "# Veri setindeki sütunları kontrol etme\n",
        "df = pd.read_excel(\"/content/ALL_Dataset.xlsx\")  # CSV dosyasını yükleyin\n",
        "print(df.columns)"
      ],
      "metadata": {
        "colab": {
          "base_uri": "https://localhost:8080/"
        },
        "id": "t26AodWvRaen",
        "outputId": "4d268309-81f6-4991-a2be-92afa5bb0a6b"
      },
      "execution_count": 3,
      "outputs": [
        {
          "output_type": "stream",
          "name": "stdout",
          "text": [
            "Index(['Student_ID', 'Age', 'Class_Level', 'Interest', 'Exam_Score',\n",
            "       'Study_Hours', 'Engagement_Score', 'Content_Viewed',\n",
            "       'Behavior_Description', 'Source'],\n",
            "      dtype='object')\n"
          ]
        }
      ]
    },
    {
      "cell_type": "code",
      "source": [
        "# Veri setindeki sütunları kontrol etme\n",
        "print(df.columns)"
      ],
      "metadata": {
        "colab": {
          "base_uri": "https://localhost:8080/"
        },
        "id": "FSuE6hChmCKf",
        "outputId": "644760c7-1e83-4bec-c727-177909807f2d"
      },
      "execution_count": 4,
      "outputs": [
        {
          "output_type": "stream",
          "name": "stdout",
          "text": [
            "Index(['Student_ID', 'Age', 'Class_Level', 'Interest', 'Exam_Score',\n",
            "       'Study_Hours', 'Engagement_Score', 'Content_Viewed',\n",
            "       'Behavior_Description', 'Source'],\n",
            "      dtype='object')\n"
          ]
        }
      ]
    },
    {
      "cell_type": "code",
      "source": [
        "import pandas as pd\n",
        "\n",
        "df = pd.read_excel(\"/content/ALL_Dataset.xlsx\")\n",
        "\n",
        "# The following line caused the error because 'dataset' was not defined.\n",
        "# It seems you may have intended to continue working with the DataFrame 'df'\n",
        "# created by reading the Excel file. Therefore, the problematic line has been removed.\n",
        "# df = dataset.to_pandas()\n",
        "\n",
        "# Fill missing values for numerical columns with the mean\n",
        "numerical_cols = df.select_dtypes(include=['float64', 'int64']).columns\n",
        "df[numerical_cols] = df[numerical_cols].fillna(df[numerical_cols].mean())\n",
        "\n",
        "# Fill missing values for categorical columns with the mode (most frequent value)\n",
        "categorical_cols = df.select_dtypes(include=['object']).columns\n",
        "for col in categorical_cols:\n",
        "    df[col] = df[col].fillna(df[col].mode()[0])\n",
        "\n",
        "# Now, you can check if there are any remaining missing values\n",
        "print(\"Missing Values After Filling:\\n\", df.isnull().sum())"
      ],
      "metadata": {
        "colab": {
          "base_uri": "https://localhost:8080/"
        },
        "id": "O7Oe11KdSFI_",
        "outputId": "43511bb1-a23c-45ae-a871-135b6a156748"
      },
      "execution_count": 8,
      "outputs": [
        {
          "output_type": "stream",
          "name": "stdout",
          "text": [
            "Missing Values After Filling:\n",
            " Student_ID              0\n",
            "Age                     0\n",
            "Class_Level             0\n",
            "Interest                0\n",
            "Exam_Score              0\n",
            "Study_Hours             0\n",
            "Engagement_Score        0\n",
            "Content_Viewed          0\n",
            "Behavior_Description    0\n",
            "Source                  0\n",
            "dtype: int64\n"
          ]
        }
      ]
    },
    {
      "cell_type": "code",
      "source": [
        "import pandas as pd\n",
        "import numpy as np\n",
        "from sklearn.preprocessing import MinMaxScaler\n",
        "from sklearn.model_selection import train_test_split\n",
        "from sklearn.metrics.pairwise import cosine_similarity\n",
        "\n",
        "# --- 1. Veri Setini Yükleme ---\n",
        "dataset_path = \"/content/ALL_Dataset.xlsx\"  # Dosya yolunu belirtin\n",
        "\n",
        "# Use pd.read_excel for .xlsx files instead of pd.read_csv\n",
        "dataset = pd.read_excel(dataset_path)\n",
        "\n",
        "# --- 2. Eksik Verileri Kontrol Etme ve Doldurma ---\n",
        "# Sayısal veriler için ortalama ile doldurma\n",
        "numerical_cols = dataset.select_dtypes(include=['float64', 'int64']).columns\n",
        "dataset[numerical_cols] = dataset[numerical_cols].fillna(dataset[numerical_cols].mean())\n",
        "\n",
        "# Kategorik veriler için mod (en yaygın değer) ile doldurma\n",
        "categorical_cols = dataset.select_dtypes(include=['object']).columns\n",
        "for col in categorical_cols:\n",
        "    dataset[col] = dataset[col].fillna(dataset[col].mode()[0])\n",
        "\n",
        "# --- 3. One-Hot Encoding Kategorik Veriler ---\n",
        "dataset = pd.get_dummies(dataset, columns=['Class_Level', 'Interest'], drop_first=True)\n",
        "\n",
        "# --- 4. Sayısal Verileri Normalleştirme ---\n",
        "scaler = MinMaxScaler()\n",
        "if 'Study_Hours' in dataset.columns:\n",
        "    dataset['Study_Hours'] = scaler.fit_transform(dataset[['Study_Hours']])\n",
        "\n",
        "    # --- 5. Eğitim ve Test Verisine Ayırma ---\n",
        "train_data, test_data = train_test_split(dataset, test_size=0.2, random_state=42)\n",
        "\n",
        "# --- 6. Özellikler ve Hedef Değişkenlerin Seçimi ---\n",
        "# Yalnızca sayısal sütunları seçiyoruz\n",
        "numerical_features = train_data.select_dtypes(include=['float64', 'int64', 'uint8']).columns\n",
        "\n",
        "X_train = train_data[numerical_features].drop(columns=['Exam_Score', 'Student_ID'], errors='ignore')\n",
        "y_train = train_data['Exam_Score']  # Hedef değişken\n",
        "\n",
        "X_test = test_data[numerical_features].drop(columns=['Exam_Score', 'Student_ID'], errors='ignore')\n",
        "y_test = test_data['Exam_Score']  # Test hedef değişkeni\n",
        "\n",
        "# --- 7. Öğrenciler Arasındaki Benzerliği Hesaplama (Cosine Similarity) ---\n",
        "similarity_matrix = cosine_similarity(X_train)\n",
        "\n",
        "# --- 8. İçerik Tabanlı Öneri Fonksiyonu ---\n",
        "def recommend_for_student(student_id, similarity_matrix, X_train, top_n=5):\n",
        "    student_index = student_id - 1  # ID'yi sıfır tabanlı yapıyoruz\n",
        "    if student_index >= len(similarity_matrix):\n",
        "        raise ValueError(f\"Geçersiz öğrenci ID: {student_id}. Veri setinde {len(similarity_matrix)} öğrenci var.\")\n",
        "\n",
        "    similar_students = similarity_matrix[student_index]\n",
        "\n",
        "    # Benzer öğrenciler sıralanır\n",
        "    similar_students_idx = similar_students.argsort()[-top_n:][::-1]\n",
        "\n",
        "    recommended_courses = X_train.iloc[similar_students_idx]\n",
        "    return recommended_courses\n",
        "\n",
        "# --- 9. Öneri Yapma (Örnek: Öğrenci 10 için) ---\n",
        "student_id = 10  # Örnek öğrenci ID\n",
        "try:\n",
        "    recommended_courses = recommend_for_student(student_id, similarity_matrix, X_train)\n",
        "    print(f\"Öğrenci {student_id} için önerilen dersler:\\n{recommended_courses}\")\n",
        "except ValueError as e:\n",
        "    print(e)\n",
        "\n"
      ],
      "metadata": {
        "colab": {
          "base_uri": "https://localhost:8080/"
        },
        "id": "LTL1kC2KS99J",
        "outputId": "ccccfb7e-ee5f-4d66-8622-ca0b192ad0bd"
      },
      "execution_count": 17,
      "outputs": [
        {
          "output_type": "stream",
          "name": "stdout",
          "text": [
            "Öğrenci 10 için önerilen dersler:\n",
            "      Age  Study_Hours  Engagement_Score  Content_Viewed\n",
            "5864   23     0.901111                55              33\n",
            "5496   24     0.957778                59              35\n",
            "666    27     0.545556                63              38\n",
            "4156   20     0.787778                48              28\n",
            "4784   20     0.495556                49              30\n"
          ]
        }
      ]
    },
    {
      "cell_type": "code",
      "source": [
        "!pip install scikit-fuzzy"
      ],
      "metadata": {
        "colab": {
          "base_uri": "https://localhost:8080/"
        },
        "id": "LAgAroVKUKNW",
        "outputId": "aa6bf6d9-00f9-4b66-db11-c005c199eb7a"
      },
      "execution_count": 18,
      "outputs": [
        {
          "output_type": "stream",
          "name": "stdout",
          "text": [
            "Collecting scikit-fuzzy\n",
            "  Downloading scikit_fuzzy-0.5.0-py2.py3-none-any.whl.metadata (2.6 kB)\n",
            "Downloading scikit_fuzzy-0.5.0-py2.py3-none-any.whl (920 kB)\n",
            "\u001b[?25l   \u001b[90m━━━━━━━━━━━━━━━━━━━━━━━━━━━━━━━━━━━━━━━━\u001b[0m \u001b[32m0.0/920.8 kB\u001b[0m \u001b[31m?\u001b[0m eta \u001b[36m-:--:--\u001b[0m\r\u001b[2K   \u001b[91m━━━━━━━━━━━━━━━━━━━━━━━━\u001b[0m\u001b[90m╺\u001b[0m\u001b[90m━━━━━━━━━━━━━━━\u001b[0m \u001b[32m563.2/920.8 kB\u001b[0m \u001b[31m15.9 MB/s\u001b[0m eta \u001b[36m0:00:01\u001b[0m\r\u001b[2K   \u001b[91m━━━━━━━━━━━━━━━━━━━━━━━━━━━━━━━━━━━━━━━\u001b[0m\u001b[91m╸\u001b[0m \u001b[32m911.4/920.8 kB\u001b[0m \u001b[31m21.9 MB/s\u001b[0m eta \u001b[36m0:00:01\u001b[0m\r\u001b[2K   \u001b[90m━━━━━━━━━━━━━━━━━━━━━━━━━━━━━━━━━━━━━━━━\u001b[0m \u001b[32m920.8/920.8 kB\u001b[0m \u001b[31m11.7 MB/s\u001b[0m eta \u001b[36m0:00:00\u001b[0m\n",
            "\u001b[?25hInstalling collected packages: scikit-fuzzy\n",
            "Successfully installed scikit-fuzzy-0.5.0\n"
          ]
        }
      ]
    },
    {
      "cell_type": "code",
      "source": [
        "import pandas as pd\n",
        "import numpy as np\n",
        "from sklearn.preprocessing import MinMaxScaler\n",
        "from sklearn.model_selection import train_test_split\n",
        "from sklearn.metrics.pairwise import cosine_similarity\n",
        "from sklearn.metrics import mean_squared_error\n",
        "from sklearn.neighbors import KNeighborsRegressor\n",
        "from sklearn.model_selection import GridSearchCV\n",
        "import skfuzzy as fuzz\n",
        "from skfuzzy import control as ctrl\n",
        "\n",
        "# --- 1. Veri Setini Yükleme ---\n",
        "dataset_path = \"/content/ALL_Dataset.xlsx\"  # Dosya yolunu belirtin\n",
        "\n",
        "# Dosya uzantısını kontrol ederek doğru okuma fonksiyonunu seçme\n",
        "if dataset_path.endswith('.csv'):\n",
        "    try:\n",
        "        dataset = pd.read_csv(dataset_path, encoding='utf-8')\n",
        "    except UnicodeDecodeError:\n",
        "        dataset = pd.read_csv(dataset_path, encoding='ISO-8859-1')  # Alternatif kodlama\n",
        "elif dataset_path.endswith('.xlsx'):\n",
        "    dataset = pd.read_excel(dataset_path)  # Excel dosyası okuma\n",
        "else:\n",
        "    raise ValueError(\"Desteklenmeyen dosya formatı. Lütfen .csv veya .xlsx dosyası kullanın.\")\n",
        "\n",
        "# --- 2. Eksik Verileri Kontrol Etme ve Doldurma ---\n",
        "# Sayısal veriler için ortalama ile doldurma\n",
        "numerical_cols = dataset.select_dtypes(include=['float64', 'int64']).columns\n",
        "dataset[numerical_cols] = dataset[numerical_cols].fillna(dataset[numerical_cols].mean())\n",
        "\n",
        "# Kategorik veriler için mod ile doldurma\n",
        "categorical_cols = dataset.select_dtypes(include=['object']).columns\n",
        "for col in categorical_cols:\n",
        "    dataset[col] = dataset[col].fillna(dataset[col].mode()[0])\n",
        "\n",
        "# --- 3. One-Hot Encoding Kategorik Veriler ---\n",
        "dataset = pd.get_dummies(dataset, columns=['Class_Level', 'Interest'])\n",
        "\n",
        "# --- 4. Sayısal Verileri Normalleştirme ---\n",
        "scaler = MinMaxScaler()\n",
        "dataset['Study_Hours'] = scaler.fit_transform(dataset[['Study_Hours']])\n",
        "\n",
        "# --- 5. Özellik Mühendisliği: Yeni Özellikler Ekleyelim ---\n",
        "dataset['Total_Engagement'] = dataset['Study_Hours'] * dataset['Engagement_Score']  # Etkileşimi başarıyla birleştirme\n",
        "\n",
        "# --- 6. Eğitim ve Test Verisine Ayırma ---\n",
        "train_data, test_data = train_test_split(dataset, test_size=0.2, random_state=42)\n",
        "\n",
        "# --- 7. Özellikler ve Hedef Değişkenlerin Seçimi ---\n",
        "X_train = train_data[['Study_Hours', 'Engagement_Score', 'Total_Engagement']]  # Kullanılacak özellikler\n",
        "y_train = train_data['Exam_Score']  # Hedef değişken\n",
        "\n",
        "X_test = test_data[['Study_Hours', 'Engagement_Score', 'Total_Engagement']]  # Test verisi özellikleri\n",
        "y_test = test_data['Exam_Score']  # Test verisi hedef değişkeni\n",
        "\n",
        "# --- 8. Fuzzy Logic Sistemi Kurma ---\n",
        "# Girdi değişkenlerini (Çalışma saatleri ve Etkileşim Puanı) tanımlama\n",
        "study_hours = ctrl.Antecedent(np.arange(0, 1.1, 0.1), 'Study_Hours')\n",
        "engagement_score = ctrl.Antecedent(np.arange(0, 1.1, 0.1), 'Engagement_Score')\n",
        "\n",
        "# Çıktı değişkeni (Başarı Puanı)\n",
        "exam_score = ctrl.Consequent(np.arange(50, 101, 1), 'Exam_Score')\n",
        "\n",
        "# Girdi değişkenlerine üyelik fonksiyonları\n",
        "study_hours['low'] = fuzz.trimf(study_hours.universe, [0, 0, 0.5])\n",
        "study_hours['medium'] = fuzz.trimf(study_hours.universe, [0, 0.5, 1])\n",
        "study_hours['high'] = fuzz.trimf(study_hours.universe, [0.5, 1, 1])\n",
        "\n",
        "engagement_score['low'] = fuzz.trimf(engagement_score.universe, [0, 0, 0.5])\n",
        "engagement_score['medium'] = fuzz.trimf(engagement_score.universe, [0, 0.5, 1])\n",
        "engagement_score['high'] = fuzz.trimf(engagement_score.universe, [0.5, 1, 1])\n",
        "\n",
        "# Çıktı değişkenine üyelik fonksiyonları\n",
        "exam_score['low'] = fuzz.trimf(exam_score.universe, [50, 50, 75])\n",
        "exam_score['medium'] = fuzz.trimf(exam_score.universe, [50, 75, 100])\n",
        "exam_score['high'] = fuzz.trimf(exam_score.universe, [75, 100, 100])\n",
        "\n",
        "# Fuzzy kurallarını tanımlama\n",
        "rule1 = ctrl.Rule(study_hours['low'] & engagement_score['low'], exam_score['low'])\n",
        "rule2 = ctrl.Rule(study_hours['low'] & engagement_score['medium'], exam_score['medium'])\n",
        "rule3 = ctrl.Rule(study_hours['medium'] & engagement_score['low'], exam_score['medium'])\n",
        "rule4 = ctrl.Rule(study_hours['medium'] & engagement_score['medium'], exam_score['medium'])\n",
        "rule5 = ctrl.Rule(study_hours['high'] & engagement_score['high'], exam_score['high'])\n",
        "rule6 = ctrl.Rule(study_hours['high'] & engagement_score['low'], exam_score['medium'])\n",
        "\n",
        "# Kontrol sistemi oluşturma\n",
        "exam_ctrl = ctrl.ControlSystem([rule1, rule2, rule3, rule4, rule5, rule6])\n",
        "exam_sim = ctrl.ControlSystemSimulation(exam_ctrl)\n",
        "\n",
        "\n",
        "# --- 9. Öğrenci Öneri Sistemi (Bulanık Mantık) ---\n",
        "def recommend_for_student_fuzzy_logic(study_hours_value, engagement_score_value):\n",
        "    exam_sim.input['Study_Hours'] = study_hours_value\n",
        "    exam_sim.input['Engagement_Score'] = engagement_score_value\n",
        "    exam_sim.compute()\n",
        "    return exam_sim.output['Exam_Score']\n",
        "\n",
        "# --- 10. Öneri Yapma (Örnek: Öğrenci 10 için) ---\n",
        "student_id = 10\n",
        "study_hours_value = X_train.iloc[student_id-1]['Study_Hours']\n",
        "engagement_score_value = X_train.iloc[student_id-1]['Engagement_Score']\n",
        "predicted_exam_score = recommend_for_student_fuzzy_logic(study_hours_value, engagement_score_value)\n",
        "print(f\"Öğrenci {student_id} için Bulanık Mantık önerisi: {predicted_exam_score:.2f}\")\n",
        "\n",
        "# --- 11. Model Değerlendirmesi (RMSE) ---\n",
        "# Content-Based Model için regresyon\n",
        "from sklearn.linear_model import LinearRegression\n",
        "content_based_model = LinearRegression()\n",
        "content_based_model.fit(X_train, y_train)\n",
        "y_pred_content_based = content_based_model.predict(X_test)\n",
        "\n",
        "# Collaborative Model için regresyon\n",
        "collaborative_model = LinearRegression()\n",
        "collaborative_model.fit(X_train, y_train)\n",
        "y_pred_collaborative = collaborative_model.predict(X_test)\n",
        "\n",
        "rmse_content_based = np.sqrt(mean_squared_error(y_test, y_pred_content_based))\n",
        "rmse_collaborative = np.sqrt(mean_squared_error(y_test, y_pred_collaborative))\n",
        "\n",
        "print(\"Content-Based RMSE:\", rmse_content_based)\n",
        "print(\"Collaborative RMSE:\", rmse_collaborative)\n",
        "\n",
        "# --- 12. Model İyileştirmeleri: Parametre Ayarlamaları ---\n",
        "param_grid = {'n_neighbors': [5, 10, 15], 'metric': ['cosine', 'euclidean']}\n",
        "grid_search = GridSearchCV(KNeighborsRegressor(), param_grid, cv=3, scoring='neg_mean_squared_error')\n",
        "grid_search.fit(X_train, y_train)\n",
        "\n",
        "# En iyi parametreleri ve modeli elde etme\n",
        "best_knn_model = grid_search.best_estimator_\n",
        "y_pred_best = best_knn_model.predict(X_test)\n",
        "\n",
        "rmse_best = np.sqrt(mean_squared_error(y_test, y_pred_best))\n",
        "\n",
        "print(\"Best KNN Model RMSE:\", rmse_best)\n",
        "print(\"Best KNN Model Parametreleri:\", grid_search.best_params_)"
      ],
      "metadata": {
        "colab": {
          "base_uri": "https://localhost:8080/"
        },
        "id": "mKYz2Th_TKoy",
        "outputId": "6e281f87-e2aa-49e3-8c21-a5df2e4ef3f4"
      },
      "execution_count": 20,
      "outputs": [
        {
          "output_type": "stream",
          "name": "stdout",
          "text": [
            "Öğrenci 10 için Bulanık Mantık önerisi: 91.39\n",
            "Content-Based RMSE: 14.50048551067584\n",
            "Collaborative RMSE: 14.50048551067584\n",
            "Best KNN Model RMSE: 15.043587535090355\n",
            "Best KNN Model Parametreleri: {'metric': 'cosine', 'n_neighbors': 15}\n"
          ]
        }
      ]
    },
    {
      "cell_type": "code",
      "source": [
        "!pip install flask\n",
        "!pip install pyngrok\n"
      ],
      "metadata": {
        "colab": {
          "base_uri": "https://localhost:8080/"
        },
        "id": "uN0V6DHIcnp0",
        "outputId": "ac1fcce9-5b1d-4112-c623-96529e0e7c83"
      },
      "execution_count": 34,
      "outputs": [
        {
          "output_type": "stream",
          "name": "stdout",
          "text": [
            "Requirement already satisfied: flask in /usr/local/lib/python3.10/dist-packages (3.1.0)\n",
            "Requirement already satisfied: Werkzeug>=3.1 in /usr/local/lib/python3.10/dist-packages (from flask) (3.1.3)\n",
            "Requirement already satisfied: Jinja2>=3.1.2 in /usr/local/lib/python3.10/dist-packages (from flask) (3.1.5)\n",
            "Requirement already satisfied: itsdangerous>=2.2 in /usr/local/lib/python3.10/dist-packages (from flask) (2.2.0)\n",
            "Requirement already satisfied: click>=8.1.3 in /usr/local/lib/python3.10/dist-packages (from flask) (8.1.8)\n",
            "Requirement already satisfied: blinker>=1.9 in /usr/local/lib/python3.10/dist-packages (from flask) (1.9.0)\n",
            "Requirement already satisfied: MarkupSafe>=2.0 in /usr/local/lib/python3.10/dist-packages (from Jinja2>=3.1.2->flask) (3.0.2)\n",
            "Collecting pyngrok\n",
            "  Downloading pyngrok-7.2.3-py3-none-any.whl.metadata (8.7 kB)\n",
            "Requirement already satisfied: PyYAML>=5.1 in /usr/local/lib/python3.10/dist-packages (from pyngrok) (6.0.2)\n",
            "Downloading pyngrok-7.2.3-py3-none-any.whl (23 kB)\n",
            "Installing collected packages: pyngrok\n",
            "Successfully installed pyngrok-7.2.3\n"
          ]
        }
      ]
    },
    {
      "cell_type": "code",
      "source": [
        "from flask import Flask, render_template, request\n",
        "import pandas as pd\n",
        "from sklearn.metrics.pairwise import cosine_similarity\n",
        "import logging\n",
        "import os\n",
        "\n",
        "# --- Flask Uygulaması ---\n",
        "app = Flask(__name__)\n",
        "\n",
        "# --- Loglama Ayarları ---\n",
        "logging.basicConfig(level=logging.DEBUG)\n",
        "logger = logging.getLogger()\n",
        "\n",
        "# --- 1. Veri Setini Yükleme ---\n",
        "dataset_path = \"ALL_Dataset.xlsx\"  # Dosya yolunu belirtin\n",
        "if not os.path.exists(dataset_path):\n",
        "    raise FileNotFoundError(f\"Veri seti bulunamadı: {dataset_path}\")\n",
        "\n",
        "dataset = pd.read_excel(dataset_path)\n",
        "\n",
        "# Veri temizliği ve kontrolü\n",
        "required_columns = ['Student_ID', 'Study_Hours', 'Engagement_Score']\n",
        "if not all(column in dataset.columns for column in required_columns):\n",
        "    raise ValueError(f\"Dataset, gerekli sütunları içermiyor: {required_columns}\")\n",
        "\n",
        "dataset = dataset.dropna(subset=required_columns)  # Eksik değerleri kaldırma\n",
        "\n",
        "# Özellikler ve benzerlik hesaplaması\n",
        "X_train = dataset[['Study_Hours', 'Engagement_Score']]\n",
        "similarity_matrix = cosine_similarity(X_train)\n",
        "logger.debug(\"Benzerlik matrisi başarıyla hesaplandı.\")\n",
        "\n",
        "# Öğrenci önerisi fonksiyonu\n",
        "def recommend_for_student(student_id, similarity_matrix, top_n=5):\n",
        "    try:\n",
        "        if student_id not in dataset['Student_ID'].values:\n",
        "            raise ValueError(\"Geçersiz öğrenci ID'si.\")\n",
        "\n",
        "        student_index = dataset[dataset['Student_ID'] == student_id].index[0]\n",
        "        similar_students = similarity_matrix[student_index]\n",
        "        similar_students_idx = similar_students.argsort()[-top_n:][::-1]\n",
        "\n",
        "        # Önerileri dataset'ten çek\n",
        "        recommended_students = dataset.iloc[similar_students_idx]\n",
        "        return recommended_students[['Student_ID', 'Study_Hours', 'Engagement_Score']]\n",
        "    except Exception as e:\n",
        "        logger.error(f\"Öneri işlemi sırasında hata: {e}\")\n",
        "        return pd.DataFrame()  # Boş bir öneri döndür\n",
        "\n",
        "# Ana sayfa\n",
        "@app.route('/')\n",
        "def home():\n",
        "    return render_template(\"index.html\")\n",
        "\n",
        "# Öğrenci önerisi sayfası\n",
        "@app.route('/recommend', methods=['POST'])\n",
        "def recommend():\n",
        "    try:\n",
        "        student_id = int(request.form['student_id'])\n",
        "        logger.debug(f\"Girilen öğrenci ID'si: {student_id}\")\n",
        "        recommended_courses = recommend_for_student(student_id, similarity_matrix)\n",
        "        if recommended_courses.empty:\n",
        "            return render_template(\"recommend.html\", error=\"Öneri bulunamadı.\")\n",
        "        return render_template(\"recommend.html\", courses=recommended_courses.to_dict(orient=\"records\"))\n",
        "    except Exception as e:\n",
        "        logger.error(f\"Öğrenci önerisi işlemi başarısız: {e}\")\n",
        "        return render_template(\"recommend.html\", error=\"Bir hata oluştu. Lütfen tekrar deneyin.\")\n",
        "\n",
        "if __name__ == \"__main__\":\n",
        "    app.run(debug=True)\n"
      ],
      "metadata": {
        "colab": {
          "base_uri": "https://localhost:8080/"
        },
        "id": "BKTsyq4sYeVJ",
        "outputId": "0eeda89c-3c5b-4abf-b0c5-03e0c4250d3a"
      },
      "execution_count": 33,
      "outputs": [
        {
          "output_type": "stream",
          "name": "stdout",
          "text": [
            " * Serving Flask app '__main__'\n",
            " * Debug mode: on\n"
          ]
        },
        {
          "output_type": "stream",
          "name": "stderr",
          "text": [
            "INFO:werkzeug:\u001b[31m\u001b[1mWARNING: This is a development server. Do not use it in a production deployment. Use a production WSGI server instead.\u001b[0m\n",
            " * Running on http://127.0.0.1:5000\n",
            "INFO:werkzeug:\u001b[33mPress CTRL+C to quit\u001b[0m\n",
            "INFO:werkzeug: * Restarting with stat\n"
          ]
        }
      ]
    },
    {
      "cell_type": "code",
      "source": [
        "pip install Flask pandas scikit-learn\n"
      ],
      "metadata": {
        "colab": {
          "base_uri": "https://localhost:8080/"
        },
        "id": "4Z8DocKbZplF",
        "outputId": "6c956a8f-e457-43b8-d89a-d913dcec7cf4"
      },
      "execution_count": 35,
      "outputs": [
        {
          "output_type": "stream",
          "name": "stdout",
          "text": [
            "Requirement already satisfied: Flask in /usr/local/lib/python3.10/dist-packages (3.1.0)\n",
            "Requirement already satisfied: pandas in /usr/local/lib/python3.10/dist-packages (2.2.2)\n",
            "Requirement already satisfied: scikit-learn in /usr/local/lib/python3.10/dist-packages (1.6.0)\n",
            "Requirement already satisfied: Werkzeug>=3.1 in /usr/local/lib/python3.10/dist-packages (from Flask) (3.1.3)\n",
            "Requirement already satisfied: Jinja2>=3.1.2 in /usr/local/lib/python3.10/dist-packages (from Flask) (3.1.5)\n",
            "Requirement already satisfied: itsdangerous>=2.2 in /usr/local/lib/python3.10/dist-packages (from Flask) (2.2.0)\n",
            "Requirement already satisfied: click>=8.1.3 in /usr/local/lib/python3.10/dist-packages (from Flask) (8.1.8)\n",
            "Requirement already satisfied: blinker>=1.9 in /usr/local/lib/python3.10/dist-packages (from Flask) (1.9.0)\n",
            "Requirement already satisfied: numpy>=1.22.4 in /usr/local/lib/python3.10/dist-packages (from pandas) (1.26.4)\n",
            "Requirement already satisfied: python-dateutil>=2.8.2 in /usr/local/lib/python3.10/dist-packages (from pandas) (2.8.2)\n",
            "Requirement already satisfied: pytz>=2020.1 in /usr/local/lib/python3.10/dist-packages (from pandas) (2024.2)\n",
            "Requirement already satisfied: tzdata>=2022.7 in /usr/local/lib/python3.10/dist-packages (from pandas) (2024.2)\n",
            "Requirement already satisfied: scipy>=1.6.0 in /usr/local/lib/python3.10/dist-packages (from scikit-learn) (1.13.1)\n",
            "Requirement already satisfied: joblib>=1.2.0 in /usr/local/lib/python3.10/dist-packages (from scikit-learn) (1.4.2)\n",
            "Requirement already satisfied: threadpoolctl>=3.1.0 in /usr/local/lib/python3.10/dist-packages (from scikit-learn) (3.5.0)\n",
            "Requirement already satisfied: MarkupSafe>=2.0 in /usr/local/lib/python3.10/dist-packages (from Jinja2>=3.1.2->Flask) (3.0.2)\n",
            "Requirement already satisfied: six>=1.5 in /usr/local/lib/python3.10/dist-packages (from python-dateutil>=2.8.2->pandas) (1.17.0)\n"
          ]
        }
      ]
    },
    {
      "cell_type": "code",
      "source": [
        "import pandas as pd\n",
        "\n",
        "dataset_path = \"/content/ALL_Dataset.xlsx\"  # Dosya yolunu belirtin\n",
        "dataset = pd.read_excel(dataset_path)\n"
      ],
      "metadata": {
        "id": "IypJezBqb4pY"
      },
      "execution_count": 38,
      "outputs": []
    },
    {
      "cell_type": "code",
      "source": [
        "!pip install pyngrok"
      ],
      "metadata": {
        "colab": {
          "base_uri": "https://localhost:8080/"
        },
        "id": "b5Gz7kYucKeC",
        "outputId": "ef36169b-fef1-42b7-8d07-3924bcda3c19"
      },
      "execution_count": 39,
      "outputs": [
        {
          "output_type": "stream",
          "name": "stdout",
          "text": [
            "Requirement already satisfied: pyngrok in /usr/local/lib/python3.10/dist-packages (7.2.3)\n",
            "Requirement already satisfied: PyYAML>=5.1 in /usr/local/lib/python3.10/dist-packages (from pyngrok) (6.0.2)\n"
          ]
        }
      ]
    },
    {
      "cell_type": "code",
      "source": [
        "!ngrok config add-authtoken 2q2DP0LSC2CeqO0PtoRmHSci9gI_6NyQbvwsxMwpgJCJ4fHnE"
      ],
      "metadata": {
        "colab": {
          "base_uri": "https://localhost:8080/"
        },
        "id": "Z2oqi_eGcTFL",
        "outputId": "41cf484b-33bf-4d56-ea23-5e5a739ccf17"
      },
      "execution_count": 40,
      "outputs": [
        {
          "output_type": "stream",
          "name": "stdout",
          "text": [
            "Authtoken saved to configuration file: /root/.config/ngrok/ngrok.yml\n"
          ]
        }
      ]
    },
    {
      "cell_type": "code",
      "source": [
        "from pyngrok import ngrok\n",
        "\n",
        "# Ngrok bağlantısını başlat\n",
        "public_url = ngrok.connect(5000)\n",
        "print(\"Flask uygulamanız şu URL'de çalışıyor:\", public_url)"
      ],
      "metadata": {
        "colab": {
          "base_uri": "https://localhost:8080/"
        },
        "id": "wW5QL9GJcXSS",
        "outputId": "e410f56b-7fbf-47d2-9024-aeed6e25d3f8"
      },
      "execution_count": 41,
      "outputs": [
        {
          "output_type": "stream",
          "name": "stdout",
          "text": [
            "Flask uygulamanız şu URL'de çalışıyor: NgrokTunnel: \"https://0313-34-45-70-13.ngrok-free.app\" -> \"http://localhost:5000\"\n"
          ]
        }
      ]
    },
    {
      "cell_type": "code",
      "source": [
        "from google.colab import output\n",
        "from IPython.display import display, HTML, Javascript\n",
        "import pandas as pd\n",
        "import numpy as np\n",
        "import skfuzzy as fuzz\n",
        "from skfuzzy import control as ctrl\n",
        "\n",
        "# Makine öğrenmesi ve bulanık mantık fonksiyonlarını burada tanımlayın (Yukarıdaki kodun bir kısmı)\n",
        "\n",
        "# Kolab'da çalışacak fonksiyonu tanımlama\n",
        "def predict_exam_score(study_hours, engagement_score):\n",
        "    # Fuzzy logic predictions\n",
        "    study_hours = float(study_hours)\n",
        "    engagement_score = float(engagement_score)\n",
        "\n",
        "    exam_sim.input['Study_Hours'] = study_hours\n",
        "    exam_sim.input['Engagement_Score'] = engagement_score\n",
        "    exam_sim.compute()\n",
        "\n",
        "    result = exam_sim.output['Exam_Score']\n",
        "\n",
        "    # Sonucu web sayfasında göstermek için\n",
        "    display(Javascript('alert(\"Tahmin Edilen Sınav Puanı: \" + ' + str(result) + ')'))\n",
        "\n",
        "    return result\n",
        "\n",
        "# HTML ve JavaScript'i çalıştırmak için\n",
        "display(HTML(\"\"\"\n",
        "    <iframe src=\"path_to_your_html_file.html\" width=\"100%\" height=\"600\"></iframe>\n",
        "\"\"\"))\n",
        "\n",
        "# Bu şekilde Colab'da HTML dosyasını görüntüleyebilirsiniz.\n"
      ],
      "metadata": {
        "colab": {
          "base_uri": "https://localhost:8080/",
          "height": 644
        },
        "id": "p6MHcFJFcY70",
        "outputId": "d4a9241f-2194-4050-8ebc-57973dcaf4ee"
      },
      "execution_count": 3,
      "outputs": [
        {
          "output_type": "display_data",
          "data": {
            "text/plain": [
              "<IPython.core.display.HTML object>"
            ],
            "text/html": [
              "\n",
              "    <iframe src=\"path_to_your_html_file.html\" width=\"100%\" height=\"600\"></iframe>\n"
            ]
          },
          "metadata": {}
        }
      ]
    },
    {
      "cell_type": "code",
      "source": [
        "!pip install scikit-fuzzy"
      ],
      "metadata": {
        "colab": {
          "base_uri": "https://localhost:8080/"
        },
        "id": "RhJODR0E-lZS",
        "outputId": "09311618-59b3-49c9-c464-c780dd3d58b2"
      },
      "execution_count": 2,
      "outputs": [
        {
          "output_type": "stream",
          "name": "stdout",
          "text": [
            "Collecting scikit-fuzzy\n",
            "  Downloading scikit_fuzzy-0.5.0-py2.py3-none-any.whl.metadata (2.6 kB)\n",
            "Downloading scikit_fuzzy-0.5.0-py2.py3-none-any.whl (920 kB)\n",
            "\u001b[2K   \u001b[90m━━━━━━━━━━━━━━━━━━━━━━━━━━━━━━━━━━━━━━━━\u001b[0m \u001b[32m920.8/920.8 kB\u001b[0m \u001b[31m11.2 MB/s\u001b[0m eta \u001b[36m0:00:00\u001b[0m\n",
            "\u001b[?25hInstalling collected packages: scikit-fuzzy\n",
            "Successfully installed scikit-fuzzy-0.5.0\n"
          ]
        }
      ]
    },
    {
      "cell_type": "code",
      "source": [
        "!pip install streamlit\n"
      ],
      "metadata": {
        "colab": {
          "base_uri": "https://localhost:8080/"
        },
        "id": "xsFPNPmS_JCb",
        "outputId": "4d06cb68-c0cc-43c2-9c26-3b7f5d9345c0"
      },
      "execution_count": 4,
      "outputs": [
        {
          "output_type": "stream",
          "name": "stdout",
          "text": [
            "Collecting streamlit\n",
            "  Downloading streamlit-1.41.1-py2.py3-none-any.whl.metadata (8.5 kB)\n",
            "Requirement already satisfied: altair<6,>=4.0 in /usr/local/lib/python3.10/dist-packages (from streamlit) (5.5.0)\n",
            "Requirement already satisfied: blinker<2,>=1.0.0 in /usr/local/lib/python3.10/dist-packages (from streamlit) (1.9.0)\n",
            "Requirement already satisfied: cachetools<6,>=4.0 in /usr/local/lib/python3.10/dist-packages (from streamlit) (5.5.0)\n",
            "Requirement already satisfied: click<9,>=7.0 in /usr/local/lib/python3.10/dist-packages (from streamlit) (8.1.8)\n",
            "Requirement already satisfied: numpy<3,>=1.23 in /usr/local/lib/python3.10/dist-packages (from streamlit) (1.26.4)\n",
            "Requirement already satisfied: packaging<25,>=20 in /usr/local/lib/python3.10/dist-packages (from streamlit) (24.2)\n",
            "Requirement already satisfied: pandas<3,>=1.4.0 in /usr/local/lib/python3.10/dist-packages (from streamlit) (2.2.2)\n",
            "Requirement already satisfied: pillow<12,>=7.1.0 in /usr/local/lib/python3.10/dist-packages (from streamlit) (11.1.0)\n",
            "Requirement already satisfied: protobuf<6,>=3.20 in /usr/local/lib/python3.10/dist-packages (from streamlit) (4.25.5)\n",
            "Requirement already satisfied: pyarrow>=7.0 in /usr/local/lib/python3.10/dist-packages (from streamlit) (17.0.0)\n",
            "Requirement already satisfied: requests<3,>=2.27 in /usr/local/lib/python3.10/dist-packages (from streamlit) (2.32.3)\n",
            "Requirement already satisfied: rich<14,>=10.14.0 in /usr/local/lib/python3.10/dist-packages (from streamlit) (13.9.4)\n",
            "Requirement already satisfied: tenacity<10,>=8.1.0 in /usr/local/lib/python3.10/dist-packages (from streamlit) (9.0.0)\n",
            "Requirement already satisfied: toml<2,>=0.10.1 in /usr/local/lib/python3.10/dist-packages (from streamlit) (0.10.2)\n",
            "Requirement already satisfied: typing-extensions<5,>=4.3.0 in /usr/local/lib/python3.10/dist-packages (from streamlit) (4.12.2)\n",
            "Collecting watchdog<7,>=2.1.5 (from streamlit)\n",
            "  Downloading watchdog-6.0.0-py3-none-manylinux2014_x86_64.whl.metadata (44 kB)\n",
            "\u001b[2K     \u001b[90m━━━━━━━━━━━━━━━━━━━━━━━━━━━━━━━━━━━━━━━━\u001b[0m \u001b[32m44.3/44.3 kB\u001b[0m \u001b[31m1.5 MB/s\u001b[0m eta \u001b[36m0:00:00\u001b[0m\n",
            "\u001b[?25hRequirement already satisfied: gitpython!=3.1.19,<4,>=3.0.7 in /usr/local/lib/python3.10/dist-packages (from streamlit) (3.1.44)\n",
            "Collecting pydeck<1,>=0.8.0b4 (from streamlit)\n",
            "  Downloading pydeck-0.9.1-py2.py3-none-any.whl.metadata (4.1 kB)\n",
            "Requirement already satisfied: tornado<7,>=6.0.3 in /usr/local/lib/python3.10/dist-packages (from streamlit) (6.3.3)\n",
            "Requirement already satisfied: jinja2 in /usr/local/lib/python3.10/dist-packages (from altair<6,>=4.0->streamlit) (3.1.5)\n",
            "Requirement already satisfied: jsonschema>=3.0 in /usr/local/lib/python3.10/dist-packages (from altair<6,>=4.0->streamlit) (4.23.0)\n",
            "Requirement already satisfied: narwhals>=1.14.2 in /usr/local/lib/python3.10/dist-packages (from altair<6,>=4.0->streamlit) (1.21.1)\n",
            "Requirement already satisfied: gitdb<5,>=4.0.1 in /usr/local/lib/python3.10/dist-packages (from gitpython!=3.1.19,<4,>=3.0.7->streamlit) (4.0.12)\n",
            "Requirement already satisfied: python-dateutil>=2.8.2 in /usr/local/lib/python3.10/dist-packages (from pandas<3,>=1.4.0->streamlit) (2.8.2)\n",
            "Requirement already satisfied: pytz>=2020.1 in /usr/local/lib/python3.10/dist-packages (from pandas<3,>=1.4.0->streamlit) (2024.2)\n",
            "Requirement already satisfied: tzdata>=2022.7 in /usr/local/lib/python3.10/dist-packages (from pandas<3,>=1.4.0->streamlit) (2024.2)\n",
            "Requirement already satisfied: charset-normalizer<4,>=2 in /usr/local/lib/python3.10/dist-packages (from requests<3,>=2.27->streamlit) (3.4.1)\n",
            "Requirement already satisfied: idna<4,>=2.5 in /usr/local/lib/python3.10/dist-packages (from requests<3,>=2.27->streamlit) (3.10)\n",
            "Requirement already satisfied: urllib3<3,>=1.21.1 in /usr/local/lib/python3.10/dist-packages (from requests<3,>=2.27->streamlit) (2.3.0)\n",
            "Requirement already satisfied: certifi>=2017.4.17 in /usr/local/lib/python3.10/dist-packages (from requests<3,>=2.27->streamlit) (2024.12.14)\n",
            "Requirement already satisfied: markdown-it-py>=2.2.0 in /usr/local/lib/python3.10/dist-packages (from rich<14,>=10.14.0->streamlit) (3.0.0)\n",
            "Requirement already satisfied: pygments<3.0.0,>=2.13.0 in /usr/local/lib/python3.10/dist-packages (from rich<14,>=10.14.0->streamlit) (2.18.0)\n",
            "Requirement already satisfied: smmap<6,>=3.0.1 in /usr/local/lib/python3.10/dist-packages (from gitdb<5,>=4.0.1->gitpython!=3.1.19,<4,>=3.0.7->streamlit) (5.0.2)\n",
            "Requirement already satisfied: MarkupSafe>=2.0 in /usr/local/lib/python3.10/dist-packages (from jinja2->altair<6,>=4.0->streamlit) (3.0.2)\n",
            "Requirement already satisfied: attrs>=22.2.0 in /usr/local/lib/python3.10/dist-packages (from jsonschema>=3.0->altair<6,>=4.0->streamlit) (24.3.0)\n",
            "Requirement already satisfied: jsonschema-specifications>=2023.03.6 in /usr/local/lib/python3.10/dist-packages (from jsonschema>=3.0->altair<6,>=4.0->streamlit) (2024.10.1)\n",
            "Requirement already satisfied: referencing>=0.28.4 in /usr/local/lib/python3.10/dist-packages (from jsonschema>=3.0->altair<6,>=4.0->streamlit) (0.35.1)\n",
            "Requirement already satisfied: rpds-py>=0.7.1 in /usr/local/lib/python3.10/dist-packages (from jsonschema>=3.0->altair<6,>=4.0->streamlit) (0.22.3)\n",
            "Requirement already satisfied: mdurl~=0.1 in /usr/local/lib/python3.10/dist-packages (from markdown-it-py>=2.2.0->rich<14,>=10.14.0->streamlit) (0.1.2)\n",
            "Requirement already satisfied: six>=1.5 in /usr/local/lib/python3.10/dist-packages (from python-dateutil>=2.8.2->pandas<3,>=1.4.0->streamlit) (1.17.0)\n",
            "Downloading streamlit-1.41.1-py2.py3-none-any.whl (9.1 MB)\n",
            "\u001b[2K   \u001b[90m━━━━━━━━━━━━━━━━━━━━━━━━━━━━━━━━━━━━━━━━\u001b[0m \u001b[32m9.1/9.1 MB\u001b[0m \u001b[31m40.3 MB/s\u001b[0m eta \u001b[36m0:00:00\u001b[0m\n",
            "\u001b[?25hDownloading pydeck-0.9.1-py2.py3-none-any.whl (6.9 MB)\n",
            "\u001b[2K   \u001b[90m━━━━━━━━━━━━━━━━━━━━━━━━━━━━━━━━━━━━━━━━\u001b[0m \u001b[32m6.9/6.9 MB\u001b[0m \u001b[31m41.2 MB/s\u001b[0m eta \u001b[36m0:00:00\u001b[0m\n",
            "\u001b[?25hDownloading watchdog-6.0.0-py3-none-manylinux2014_x86_64.whl (79 kB)\n",
            "\u001b[2K   \u001b[90m━━━━━━━━━━━━━━━━━━━━━━━━━━━━━━━━━━━━━━━━\u001b[0m \u001b[32m79.1/79.1 kB\u001b[0m \u001b[31m4.1 MB/s\u001b[0m eta \u001b[36m0:00:00\u001b[0m\n",
            "\u001b[?25hInstalling collected packages: watchdog, pydeck, streamlit\n",
            "Successfully installed pydeck-0.9.1 streamlit-1.41.1 watchdog-6.0.0\n"
          ]
        }
      ]
    },
    {
      "cell_type": "code",
      "source": [
        "import pandas as pd\n",
        "import numpy as np\n",
        "from sklearn.preprocessing import MinMaxScaler\n",
        "from sklearn.model_selection import train_test_split\n",
        "from sklearn.metrics.pairwise import cosine_similarity\n",
        "from sklearn.metrics import mean_squared_error\n",
        "from sklearn.neighbors import KNeighborsRegressor\n",
        "from sklearn.model_selection import GridSearchCV\n",
        "import skfuzzy as fuzz\n",
        "from skfuzzy import control as ctrl\n",
        "import streamlit as st\n",
        "\n",
        "# --- 1. Veri Setini Yükleme ---\n",
        "dataset_path = \"/content/ALL_Dataset.xlsx\"  # Dosya yolunu belirtin\n",
        "\n",
        "# Dosya uzantısını kontrol ederek doğru okuma fonksiyonunu seçme\n",
        "if dataset_path.endswith('.csv'):\n",
        "    try:\n",
        "        dataset = pd.read_csv(dataset_path, encoding='utf-8')\n",
        "    except UnicodeDecodeError:\n",
        "        dataset = pd.read_csv(dataset_path, encoding='ISO-8859-1')  # Alternatif kodlama\n",
        "elif dataset_path.endswith('.xlsx'):\n",
        "    dataset = pd.read_excel(dataset_path)  # Excel dosyası okuma\n",
        "else:\n",
        "    raise ValueError(\"Desteklenmeyen dosya formatı. Lütfen .csv veya .xlsx dosyası kullanın.\")\n",
        "\n",
        "# --- 2. Eksik Verileri Kontrol Etme ve Doldurma ---\n",
        "# Sayısal veriler için ortalama ile doldurma\n",
        "numerical_cols = dataset.select_dtypes(include=['float64', 'int64']).columns\n",
        "dataset[numerical_cols] = dataset[numerical_cols].fillna(dataset[numerical_cols].mean())\n",
        "\n",
        "# Kategorik veriler için mod ile doldurma\n",
        "categorical_cols = dataset.select_dtypes(include=['object']).columns\n",
        "for col in categorical_cols:\n",
        "    dataset[col] = dataset[col].fillna(dataset[col].mode()[0])\n",
        "\n",
        "# --- 3. One-Hot Encoding Kategorik Veriler ---\n",
        "dataset = pd.get_dummies(dataset, columns=['Class_Level', 'Interest'])\n",
        "\n",
        "# --- 4. Sayısal Verileri Normalleştirme ---\n",
        "scaler = MinMaxScaler()\n",
        "dataset['Study_Hours'] = scaler.fit_transform(dataset[['Study_Hours']])\n",
        "\n",
        "# --- 5. Özellik Mühendisliği: Yeni Özellikler Ekleyelim ---\n",
        "dataset['Total_Engagement'] = dataset['Study_Hours'] * dataset['Engagement_Score']  # Etkileşimi başarıyla birleştirme\n",
        "\n",
        "# --- 6. Eğitim ve Test Verisine Ayırma ---\n",
        "train_data, test_data = train_test_split(dataset, test_size=0.2, random_state=42)\n",
        "\n",
        "# --- 7. Özellikler ve Hedef Değişkenlerin Seçimi ---\n",
        "X_train = train_data[['Study_Hours', 'Engagement_Score', 'Total_Engagement']]  # Kullanılacak özellikler\n",
        "y_train = train_data['Exam_Score']  # Hedef değişken\n",
        "\n",
        "X_test = test_data[['Study_Hours', 'Engagement_Score', 'Total_Engagement']]  # Test verisi özellikleri\n",
        "y_test = test_data['Exam_Score']  # Test verisi hedef değişkeni\n",
        "\n",
        "# --- 8. Fuzzy Logic Sistemi Kurma ---\n",
        "# Girdi değişkenlerini (Çalışma saatleri ve Etkileşim Puanı) tanımlama\n",
        "study_hours = ctrl.Antecedent(np.arange(0, 1.1, 0.1), 'Study_Hours')\n",
        "engagement_score = ctrl.Antecedent(np.arange(0, 1.1, 0.1), 'Engagement_Score')\n",
        "\n",
        "# Çıktı değişkeni (Başarı Puanı)\n",
        "exam_score = ctrl.Consequent(np.arange(50, 101, 1), 'Exam_Score')\n",
        "\n",
        "# Girdi değişkenlerine üyelik fonksiyonları\n",
        "study_hours['low'] = fuzz.trimf(study_hours.universe, [0, 0, 0.5])\n",
        "study_hours['medium'] = fuzz.trimf(study_hours.universe, [0, 0.5, 1])\n",
        "study_hours['high'] = fuzz.trimf(study_hours.universe, [0.5, 1, 1])\n",
        "\n",
        "engagement_score['low'] = fuzz.trimf(engagement_score.universe, [0, 0, 0.5])\n",
        "engagement_score['medium'] = fuzz.trimf(engagement_score.universe, [0, 0.5, 1])\n",
        "engagement_score['high'] = fuzz.trimf(engagement_score.universe, [0.5, 1, 1])\n",
        "\n",
        "# Çıktı değişkenine üyelik fonksiyonları\n",
        "exam_score['low'] = fuzz.trimf(exam_score.universe, [50, 50, 75])\n",
        "exam_score['medium'] = fuzz.trimf(exam_score.universe, [50, 75, 100])\n",
        "exam_score['high'] = fuzz.trimf(exam_score.universe, [75, 100, 100])\n",
        "\n",
        "# Fuzzy kurallarını tanımlama\n",
        "rule1 = ctrl.Rule(study_hours['low'] & engagement_score['low'], exam_score['low'])\n",
        "rule2 = ctrl.Rule(study_hours['low'] & engagement_score['medium'], exam_score['medium'])\n",
        "rule3 = ctrl.Rule(study_hours['medium'] & engagement_score['low'], exam_score['medium'])\n",
        "rule4 = ctrl.Rule(study_hours['medium'] & engagement_score['medium'], exam_score['medium'])\n",
        "rule5 = ctrl.Rule(study_hours['high'] & engagement_score['high'], exam_score['high'])\n",
        "rule6 = ctrl.Rule(study_hours['high'] & engagement_score['low'], exam_score['medium'])\n",
        "\n",
        "# Kontrol sistemi oluşturma\n",
        "exam_ctrl = ctrl.ControlSystem([rule1, rule2, rule3, rule4, rule5, rule6])\n",
        "exam_sim = ctrl.ControlSystemSimulation(exam_ctrl)\n",
        "\n",
        "# --- 9. Öğrenci Öneri Sistemi (Bulanık Mantık) ---\n",
        "def recommend_for_student_fuzzy_logic(study_hours_value, engagement_score_value):\n",
        "    exam_sim.input['Study_Hours'] = study_hours_value\n",
        "    exam_sim.input['Engagement_Score'] = engagement_score_value\n",
        "    exam_sim.compute()\n",
        "    return exam_sim.output['Exam_Score']\n",
        "\n",
        "# --- 10. Streamlit Arayüzü ---\n",
        "st.title('Student Exam Score Prediction with Fuzzy Logic')\n",
        "\n",
        "# Kullanıcıdan giriş almak\n",
        "study_hours_value = st.slider('Study Hours (Normalized)', 0.0, 1.0, 0.5)\n",
        "engagement_score_value = st.slider('Engagement Score', 0.0, 1.0, 0.5)\n",
        "\n",
        "# Fuzzy Logic önerisini hesapla\n",
        "predicted_exam_score = recommend_for_student_fuzzy_logic(study_hours_value, engagement_score_value)\n",
        "\n",
        "# Sonuçları gösterme\n",
        "st.write(f'Predicted Exam Score: {predicted_exam_score:.2f}')\n",
        "\n",
        "# Grafiksel gösterim\n",
        "import matplotlib.pyplot as plt\n",
        "\n",
        "# Bulanık mantık üyelik fonksiyonlarını görselleştirme\n",
        "fig, ax = plt.subplots(1, 1, figsize=(6, 6))\n",
        "study_hours.view(sim=exam_sim, ax=ax)\n",
        "ax.set_title(\"Study Hours Membership Function\")\n",
        "plt.show()\n",
        "\n",
        "st.pyplot(fig)\n",
        "\n",
        "# Renk şeması (mavi, beyaz)\n",
        "st.markdown(\"\"\"\n",
        "<style>\n",
        "body {\n",
        "    background-color: #f0f8ff;\n",
        "    color: #000080;\n",
        "}\n",
        "button {\n",
        "    background-color: #1e90ff;\n",
        "    color: white;\n",
        "}\n",
        "</style>\n",
        "\"\"\", unsafe_allow_html=True)\n"
      ],
      "metadata": {
        "colab": {
          "base_uri": "https://localhost:8080/",
          "height": 1000
        },
        "id": "vnmw6-Sb_4RF",
        "outputId": "807cab8f-7720-445b-a645-51d2a286db8d"
      },
      "execution_count": 5,
      "outputs": [
        {
          "output_type": "stream",
          "name": "stderr",
          "text": [
            "2025-01-10 20:55:01.549 WARNING streamlit.runtime.scriptrunner_utils.script_run_context: Thread 'MainThread': missing ScriptRunContext! This warning can be ignored when running in bare mode.\n",
            "2025-01-10 20:55:01.826 \n",
            "  \u001b[33m\u001b[1mWarning:\u001b[0m to view this Streamlit app on a browser, run it with the following\n",
            "  command:\n",
            "\n",
            "    streamlit run /usr/local/lib/python3.10/dist-packages/colab_kernel_launcher.py [ARGUMENTS]\n",
            "2025-01-10 20:55:01.830 Thread 'MainThread': missing ScriptRunContext! This warning can be ignored when running in bare mode.\n",
            "2025-01-10 20:55:01.834 Thread 'MainThread': missing ScriptRunContext! This warning can be ignored when running in bare mode.\n",
            "2025-01-10 20:55:01.837 Thread 'MainThread': missing ScriptRunContext! This warning can be ignored when running in bare mode.\n",
            "2025-01-10 20:55:01.839 Thread 'MainThread': missing ScriptRunContext! This warning can be ignored when running in bare mode.\n",
            "2025-01-10 20:55:01.843 Thread 'MainThread': missing ScriptRunContext! This warning can be ignored when running in bare mode.\n",
            "2025-01-10 20:55:01.845 Thread 'MainThread': missing ScriptRunContext! This warning can be ignored when running in bare mode.\n",
            "2025-01-10 20:55:01.847 Thread 'MainThread': missing ScriptRunContext! This warning can be ignored when running in bare mode.\n",
            "2025-01-10 20:55:01.849 Thread 'MainThread': missing ScriptRunContext! This warning can be ignored when running in bare mode.\n",
            "2025-01-10 20:55:01.850 Thread 'MainThread': missing ScriptRunContext! This warning can be ignored when running in bare mode.\n",
            "2025-01-10 20:55:01.853 Thread 'MainThread': missing ScriptRunContext! This warning can be ignored when running in bare mode.\n",
            "2025-01-10 20:55:01.855 Thread 'MainThread': missing ScriptRunContext! This warning can be ignored when running in bare mode.\n",
            "2025-01-10 20:55:01.868 Thread 'MainThread': missing ScriptRunContext! This warning can be ignored when running in bare mode.\n",
            "2025-01-10 20:55:01.874 Thread 'MainThread': missing ScriptRunContext! This warning can be ignored when running in bare mode.\n",
            "2025-01-10 20:55:01.875 Thread 'MainThread': missing ScriptRunContext! This warning can be ignored when running in bare mode.\n",
            "2025-01-10 20:55:01.877 Thread 'MainThread': missing ScriptRunContext! This warning can be ignored when running in bare mode.\n"
          ]
        },
        {
          "output_type": "display_data",
          "data": {
            "text/plain": [
              "<Figure size 600x600 with 1 Axes>"
            ],
            "image/png": "[encoded data removed]"
          },
          "metadata": {}
        },
        {
          "output_type": "display_data",
          "data": {
            "text/plain": [
              "<Figure size 640x480 with 1 Axes>"
            ],
            "image/png": "[encoded data removed]"
          },
          "metadata": {}
        },
        {
          "output_type": "stream",
          "name": "stderr",
          "text": [
            "2025-01-10 20:55:02.719 Thread 'MainThread': missing ScriptRunContext! This warning can be ignored when running in bare mode.\n",
            "2025-01-10 20:55:03.036 Thread 'MainThread': missing ScriptRunContext! This warning can be ignored when running in bare mode.\n",
            "2025-01-10 20:55:03.043 Thread 'MainThread': missing ScriptRunContext! This warning can be ignored when running in bare mode.\n",
            "2025-01-10 20:55:03.051 Thread 'MainThread': missing ScriptRunContext! This warning can be ignored when running in bare mode.\n",
            "2025-01-10 20:55:03.058 Thread 'MainThread': missing ScriptRunContext! This warning can be ignored when running in bare mode.\n"
          ]
        },
        {
          "output_type": "execute_result",
          "data": {
            "text/plain": [
              "DeltaGenerator()"
            ]
          },
          "metadata": {},
          "execution_count": 5
        }
      ]
    },
    {
      "cell_type": "code",
      "source": [
        "!streamlit run /content/your_app.py\n"
      ],
      "metadata": {
        "colab": {
          "base_uri": "https://localhost:8080/"
        },
        "id": "Ich-gfwlAJtd",
        "outputId": "bd3aa4c9-f004-435a-e6a8-d450494e05cf"
      },
      "execution_count": 6,
      "outputs": [
        {
          "output_type": "stream",
          "name": "stdout",
          "text": [
            "Usage: streamlit run [OPTIONS] TARGET [ARGS]...\n",
            "Try 'streamlit run --help' for help.\n",
            "\n",
            "Error: Invalid value: File does not exist: /content/your_app.py\n"
          ]
        }
      ]
    },
    {
      "cell_type": "code",
      "source": [
        "!pip install pyngrok\n"
      ],
      "metadata": {
        "colab": {
          "base_uri": "https://localhost:8080/"
        },
        "id": "q-7Hxd1HAlKb",
        "outputId": "5ac5b3ef-c392-4dd1-b083-7368b9abe09f"
      },
      "execution_count": 7,
      "outputs": [
        {
          "output_type": "stream",
          "name": "stdout",
          "text": [
            "Collecting pyngrok\n",
            "  Downloading pyngrok-7.2.3-py3-none-any.whl.metadata (8.7 kB)\n",
            "Requirement already satisfied: PyYAML>=5.1 in /usr/local/lib/python3.10/dist-packages (from pyngrok) (6.0.2)\n",
            "Downloading pyngrok-7.2.3-py3-none-any.whl (23 kB)\n",
            "Installing collected packages: pyngrok\n",
            "Successfully installed pyngrok-7.2.3\n"
          ]
        }
      ]
    },
    {
      "cell_type": "code",
      "source": [
        "!pip install pyngrok\n",
        "from pyngrok import ngrok\n",
        "\n",
        "# Ngrok authtoken'ınızı buraya yapıştırın\n",
        "ngrok.set_auth_token(\"2q2DP0LSC2CeqO0PtoRmHSci9gI_6NyQbvwsxMwpgJCJ4fHnE\")\n"
      ],
      "metadata": {
        "colab": {
          "base_uri": "https://localhost:8080/"
        },
        "id": "KTxPxtVRBCZT",
        "outputId": "39c59dcf-a212-40b0-fcd6-69f52f24487f"
      },
      "execution_count": 9,
      "outputs": [
        {
          "output_type": "stream",
          "name": "stdout",
          "text": [
            "Requirement already satisfied: pyngrok in /usr/local/lib/python3.10/dist-packages (7.2.3)\n",
            "Requirement already satisfied: PyYAML>=5.1 in /usr/local/lib/python3.10/dist-packages (from pyngrok) (6.0.2)\n"
          ]
        }
      ]
    },
    {
      "cell_type": "code",
      "source": [
        "from pyngrok import ngrok\n",
        "\n",
        "# Ngrok ile bağlantıyı aç\n",
        "public_url = ngrok.connect(port='8501')\n",
        "print(f\"Streamlit uygulamanız şu URL'de: {public_url}\")\n"
      ],
      "metadata": {
        "colab": {
          "base_uri": "https://localhost:8080/",
          "height": 463
        },
        "id": "8t7IPLloApTR",
        "outputId": "64a06d25-a88e-4a93-8ce6-2482a6875561"
      },
      "execution_count": 10,
      "outputs": [
        {
          "output_type": "stream",
          "name": "stderr",
          "text": [
            "WARNING:pyngrok.process.ngrok:t=2025-01-10T21:00:42+0000 lvl=warn msg=\"invalid tunnel configuration\" pg=/api/tunnels id=2d63af31f5bead1e err=\"yaml: unmarshal errors:\\n  line 1: field port not found in type config.HTTPv2Tunnel\"\n"
          ]
        },
        {
          "output_type": "error",
          "ename": "PyngrokNgrokHTTPError",
          "evalue": "ngrok client exception, API returned 400: {\"error_code\":102,\"status_code\":400,\"msg\":\"invalid tunnel configuration\",\"details\":{\"err\":\"yaml: unmarshal errors:\\n  line 1: field port not found in type config.HTTPv2Tunnel\"}}\n",
          "traceback": [
            "\u001b[0;31m---------------------------------------------------------------------------\u001b[0m",
            "\u001b[0;31mHTTPError\u001b[0m                                 Traceback (most recent call last)",
            "\u001b[0;32m/usr/local/lib/python3.10/dist-packages/pyngrok/ngrok.py\u001b[0m in \u001b[0;36mapi_request\u001b[0;34m(url, method, data, params, timeout, auth)\u001b[0m\n\u001b[1;32m    556\u001b[0m     \u001b[0;32mtry\u001b[0m\u001b[0;34m:\u001b[0m\u001b[0;34m\u001b[0m\u001b[0;34m\u001b[0m\u001b[0m\n\u001b[0;32m--> 557\u001b[0;31m         \u001b[0mresponse\u001b[0m \u001b[0;34m=\u001b[0m \u001b[0murlopen\u001b[0m\u001b[0;34m(\u001b[0m\u001b[0mrequest\u001b[0m\u001b[0;34m,\u001b[0m \u001b[0mencoded_data\u001b[0m\u001b[0;34m,\u001b[0m \u001b[0mtimeout\u001b[0m\u001b[0;34m)\u001b[0m\u001b[0;34m\u001b[0m\u001b[0;34m\u001b[0m\u001b[0m\n\u001b[0m\u001b[1;32m    558\u001b[0m         \u001b[0mresponse_data\u001b[0m \u001b[0;34m=\u001b[0m \u001b[0mresponse\u001b[0m\u001b[0;34m.\u001b[0m\u001b[0mread\u001b[0m\u001b[0;34m(\u001b[0m\u001b[0;34m)\u001b[0m\u001b[0;34m.\u001b[0m\u001b[0mdecode\u001b[0m\u001b[0;34m(\u001b[0m\u001b[0;34m\"utf-8\"\u001b[0m\u001b[0;34m)\u001b[0m\u001b[0;34m\u001b[0m\u001b[0;34m\u001b[0m\u001b[0m\n",
            "\u001b[0;32m/usr/lib/python3.10/urllib/request.py\u001b[0m in \u001b[0;36murlopen\u001b[0;34m(url, data, timeout, cafile, capath, cadefault, context)\u001b[0m\n\u001b[1;32m    215\u001b[0m         \u001b[0mopener\u001b[0m \u001b[0;34m=\u001b[0m \u001b[0m_opener\u001b[0m\u001b[0;34m\u001b[0m\u001b[0;34m\u001b[0m\u001b[0m\n\u001b[0;32m--> 216\u001b[0;31m     \u001b[0;32mreturn\u001b[0m \u001b[0mopener\u001b[0m\u001b[0;34m.\u001b[0m\u001b[0mopen\u001b[0m\u001b[0;34m(\u001b[0m\u001b[0murl\u001b[0m\u001b[0;34m,\u001b[0m \u001b[0mdata\u001b[0m\u001b[0;34m,\u001b[0m \u001b[0mtimeout\u001b[0m\u001b[0;34m)\u001b[0m\u001b[0;34m\u001b[0m\u001b[0;34m\u001b[0m\u001b[0m\n\u001b[0m\u001b[1;32m    217\u001b[0m \u001b[0;34m\u001b[0m\u001b[0m\n",
            "\u001b[0;32m/usr/lib/python3.10/urllib/request.py\u001b[0m in \u001b[0;36mopen\u001b[0;34m(self, fullurl, data, timeout)\u001b[0m\n\u001b[1;32m    524\u001b[0m             \u001b[0mmeth\u001b[0m \u001b[0;34m=\u001b[0m \u001b[0mgetattr\u001b[0m\u001b[0;34m(\u001b[0m\u001b[0mprocessor\u001b[0m\u001b[0;34m,\u001b[0m \u001b[0mmeth_name\u001b[0m\u001b[0;34m)\u001b[0m\u001b[0;34m\u001b[0m\u001b[0;34m\u001b[0m\u001b[0m\n\u001b[0;32m--> 525\u001b[0;31m             \u001b[0mresponse\u001b[0m \u001b[0;34m=\u001b[0m \u001b[0mmeth\u001b[0m\u001b[0;34m(\u001b[0m\u001b[0mreq\u001b[0m\u001b[0;34m,\u001b[0m \u001b[0mresponse\u001b[0m\u001b[0;34m)\u001b[0m\u001b[0;34m\u001b[0m\u001b[0;34m\u001b[0m\u001b[0m\n\u001b[0m\u001b[1;32m    526\u001b[0m \u001b[0;34m\u001b[0m\u001b[0m\n",
            "\u001b[0;32m/usr/lib/python3.10/urllib/request.py\u001b[0m in \u001b[0;36mhttp_response\u001b[0;34m(self, request, response)\u001b[0m\n\u001b[1;32m    633\u001b[0m         \u001b[0;32mif\u001b[0m \u001b[0;32mnot\u001b[0m \u001b[0;34m(\u001b[0m\u001b[0;36m200\u001b[0m \u001b[0;34m<=\u001b[0m \u001b[0mcode\u001b[0m \u001b[0;34m<\u001b[0m \u001b[0;36m300\u001b[0m\u001b[0;34m)\u001b[0m\u001b[0;34m:\u001b[0m\u001b[0;34m\u001b[0m\u001b[0;34m\u001b[0m\u001b[0m\n\u001b[0;32m--> 634\u001b[0;31m             response = self.parent.error(\n\u001b[0m\u001b[1;32m    635\u001b[0m                 'http', request, response, code, msg, hdrs)\n",
            "\u001b[0;32m/usr/lib/python3.10/urllib/request.py\u001b[0m in \u001b[0;36merror\u001b[0;34m(self, proto, *args)\u001b[0m\n\u001b[1;32m    562\u001b[0m             \u001b[0margs\u001b[0m \u001b[0;34m=\u001b[0m \u001b[0;34m(\u001b[0m\u001b[0mdict\u001b[0m\u001b[0;34m,\u001b[0m \u001b[0;34m'default'\u001b[0m\u001b[0;34m,\u001b[0m \u001b[0;34m'http_error_default'\u001b[0m\u001b[0;34m)\u001b[0m \u001b[0;34m+\u001b[0m \u001b[0morig_args\u001b[0m\u001b[0;34m\u001b[0m\u001b[0;34m\u001b[0m\u001b[0m\n\u001b[0;32m--> 563\u001b[0;31m             \u001b[0;32mreturn\u001b[0m \u001b[0mself\u001b[0m\u001b[0;34m.\u001b[0m\u001b[0m_call_chain\u001b[0m\u001b[0;34m(\u001b[0m\u001b[0;34m*\u001b[0m\u001b[0margs\u001b[0m\u001b[0;34m)\u001b[0m\u001b[0;34m\u001b[0m\u001b[0;34m\u001b[0m\u001b[0m\n\u001b[0m\u001b[1;32m    564\u001b[0m \u001b[0;34m\u001b[0m\u001b[0m\n",
            "\u001b[0;32m/usr/lib/python3.10/urllib/request.py\u001b[0m in \u001b[0;36m_call_chain\u001b[0;34m(self, chain, kind, meth_name, *args)\u001b[0m\n\u001b[1;32m    495\u001b[0m             \u001b[0mfunc\u001b[0m \u001b[0;34m=\u001b[0m \u001b[0mgetattr\u001b[0m\u001b[0;34m(\u001b[0m\u001b[0mhandler\u001b[0m\u001b[0;34m,\u001b[0m \u001b[0mmeth_name\u001b[0m\u001b[0;34m)\u001b[0m\u001b[0;34m\u001b[0m\u001b[0;34m\u001b[0m\u001b[0m\n\u001b[0;32m--> 496\u001b[0;31m             \u001b[0mresult\u001b[0m \u001b[0;34m=\u001b[0m \u001b[0mfunc\u001b[0m\u001b[0;34m(\u001b[0m\u001b[0;34m*\u001b[0m\u001b[0margs\u001b[0m\u001b[0;34m)\u001b[0m\u001b[0;34m\u001b[0m\u001b[0;34m\u001b[0m\u001b[0m\n\u001b[0m\u001b[1;32m    497\u001b[0m             \u001b[0;32mif\u001b[0m \u001b[0mresult\u001b[0m \u001b[0;32mis\u001b[0m \u001b[0;32mnot\u001b[0m \u001b[0;32mNone\u001b[0m\u001b[0;34m:\u001b[0m\u001b[0;34m\u001b[0m\u001b[0;34m\u001b[0m\u001b[0m\n",
            "\u001b[0;32m/usr/lib/python3.10/urllib/request.py\u001b[0m in \u001b[0;36mhttp_error_default\u001b[0;34m(self, req, fp, code, msg, hdrs)\u001b[0m\n\u001b[1;32m    642\u001b[0m     \u001b[0;32mdef\u001b[0m \u001b[0mhttp_error_default\u001b[0m\u001b[0;34m(\u001b[0m\u001b[0mself\u001b[0m\u001b[0;34m,\u001b[0m \u001b[0mreq\u001b[0m\u001b[0;34m,\u001b[0m \u001b[0mfp\u001b[0m\u001b[0;34m,\u001b[0m \u001b[0mcode\u001b[0m\u001b[0;34m,\u001b[0m \u001b[0mmsg\u001b[0m\u001b[0;34m,\u001b[0m \u001b[0mhdrs\u001b[0m\u001b[0;34m)\u001b[0m\u001b[0;34m:\u001b[0m\u001b[0;34m\u001b[0m\u001b[0;34m\u001b[0m\u001b[0m\n\u001b[0;32m--> 643\u001b[0;31m         \u001b[0;32mraise\u001b[0m \u001b[0mHTTPError\u001b[0m\u001b[0;34m(\u001b[0m\u001b[0mreq\u001b[0m\u001b[0;34m.\u001b[0m\u001b[0mfull_url\u001b[0m\u001b[0;34m,\u001b[0m \u001b[0mcode\u001b[0m\u001b[0;34m,\u001b[0m \u001b[0mmsg\u001b[0m\u001b[0;34m,\u001b[0m \u001b[0mhdrs\u001b[0m\u001b[0;34m,\u001b[0m \u001b[0mfp\u001b[0m\u001b[0;34m)\u001b[0m\u001b[0;34m\u001b[0m\u001b[0;34m\u001b[0m\u001b[0m\n\u001b[0m\u001b[1;32m    644\u001b[0m \u001b[0;34m\u001b[0m\u001b[0m\n",
            "\u001b[0;31mHTTPError\u001b[0m: HTTP Error 400: Bad Request",
            "\nDuring handling of the above exception, another exception occurred:\n",
            "\u001b[0;31mPyngrokNgrokHTTPError\u001b[0m                     Traceback (most recent call last)",
            "\u001b[0;32m<ipython-input-10-3a9a37d00f0f>\u001b[0m in \u001b[0;36m<cell line: 4>\u001b[0;34m()\u001b[0m\n\u001b[1;32m      2\u001b[0m \u001b[0;34m\u001b[0m\u001b[0m\n\u001b[1;32m      3\u001b[0m \u001b[0;31m# Ngrok ile bağlantıyı aç\u001b[0m\u001b[0;34m\u001b[0m\u001b[0;34m\u001b[0m\u001b[0m\n\u001b[0;32m----> 4\u001b[0;31m \u001b[0mpublic_url\u001b[0m \u001b[0;34m=\u001b[0m \u001b[0mngrok\u001b[0m\u001b[0;34m.\u001b[0m\u001b[0mconnect\u001b[0m\u001b[0;34m(\u001b[0m\u001b[0mport\u001b[0m\u001b[0;34m=\u001b[0m\u001b[0;34m'8501'\u001b[0m\u001b[0;34m)\u001b[0m\u001b[0;34m\u001b[0m\u001b[0;34m\u001b[0m\u001b[0m\n\u001b[0m\u001b[1;32m      5\u001b[0m \u001b[0mprint\u001b[0m\u001b[0;34m(\u001b[0m\u001b[0;34mf\"Streamlit uygulamanız şu URL'de: {public_url}\"\u001b[0m\u001b[0;34m)\u001b[0m\u001b[0;34m\u001b[0m\u001b[0;34m\u001b[0m\u001b[0m\n",
            "\u001b[0;32m/usr/local/lib/python3.10/dist-packages/pyngrok/ngrok.py\u001b[0m in \u001b[0;36mconnect\u001b[0;34m(addr, proto, name, pyngrok_config, **options)\u001b[0m\n\u001b[1;32m    353\u001b[0m     \u001b[0mlogger\u001b[0m\u001b[0;34m.\u001b[0m\u001b[0mdebug\u001b[0m\u001b[0;34m(\u001b[0m\u001b[0;34mf\"Creating tunnel with options: {options}\"\u001b[0m\u001b[0;34m)\u001b[0m\u001b[0;34m\u001b[0m\u001b[0;34m\u001b[0m\u001b[0m\n\u001b[1;32m    354\u001b[0m \u001b[0;34m\u001b[0m\u001b[0m\n\u001b[0;32m--> 355\u001b[0;31m     tunnel = NgrokTunnel(api_request(f\"{api_url}/api/tunnels\", method=\"POST\", data=options,\n\u001b[0m\u001b[1;32m    356\u001b[0m                                      timeout=pyngrok_config.request_timeout),\n\u001b[1;32m    357\u001b[0m                          pyngrok_config, api_url)\n",
            "\u001b[0;32m/usr/local/lib/python3.10/dist-packages/pyngrok/ngrok.py\u001b[0m in \u001b[0;36mapi_request\u001b[0;34m(url, method, data, params, timeout, auth)\u001b[0m\n\u001b[1;32m    576\u001b[0m         \u001b[0mlogger\u001b[0m\u001b[0;34m.\u001b[0m\u001b[0mdebug\u001b[0m\u001b[0;34m(\u001b[0m\u001b[0;34mf\"Response {status_code}: {response_data.strip()}\"\u001b[0m\u001b[0;34m)\u001b[0m\u001b[0;34m\u001b[0m\u001b[0;34m\u001b[0m\u001b[0m\n\u001b[1;32m    577\u001b[0m \u001b[0;34m\u001b[0m\u001b[0m\n\u001b[0;32m--> 578\u001b[0;31m         raise PyngrokNgrokHTTPError(f\"ngrok client exception, API returned {status_code}: {response_data}\",\n\u001b[0m\u001b[1;32m    579\u001b[0m                                     \u001b[0me\u001b[0m\u001b[0;34m.\u001b[0m\u001b[0murl\u001b[0m\u001b[0;34m,\u001b[0m\u001b[0;34m\u001b[0m\u001b[0;34m\u001b[0m\u001b[0m\n\u001b[1;32m    580\u001b[0m                                     status_code, e.reason, e.headers, response_data)\n",
            "\u001b[0;31mPyngrokNgrokHTTPError\u001b[0m: ngrok client exception, API returned 400: {\"error_code\":102,\"status_code\":400,\"msg\":\"invalid tunnel configuration\",\"details\":{\"err\":\"yaml: unmarshal errors:\\n  line 1: field port not found in type config.HTTPv2Tunnel\"}}\n"
          ]
        }
      ]
    },
    {
      "cell_type": "code",
      "source": [
        "from pyngrok import ngrok\n",
        "\n",
        "# Streamlit portunu doğru belirtin\n",
        "public_url = ngrok.connect('8501')\n",
        "print(f\"Streamlit uygulamanız şu URL'de: {public_url}\")\n"
      ],
      "metadata": {
        "colab": {
          "base_uri": "https://localhost:8080/"
        },
        "id": "z0e0xC1ABhLg",
        "outputId": "db6e8e84-af91-4a23-b418-813e405126ac"
      },
      "execution_count": 11,
      "outputs": [
        {
          "output_type": "stream",
          "name": "stdout",
          "text": [
            "Streamlit uygulamanız şu URL'de: NgrokTunnel: \"https://2e45-34-134-204-44.ngrok-free.app\" -> \"http://localhost:8501\"\n"
          ]
        }
      ]
    },
    {
      "cell_type": "code",
      "source": [
        "public_url = ngrok.connect(8501)  # Port numarasını doğru verdiğinizden emin olun\n"
      ],
      "metadata": {
        "id": "pD7QM-hkBjmJ"
      },
      "execution_count": 12,
      "outputs": []
    },
    {
      "cell_type": "code",
      "source": [
        "!streamlit run your_app.py &\n"
      ],
      "metadata": {
        "colab": {
          "base_uri": "https://localhost:8080/"
        },
        "id": "-IJ_Q1s7BwER",
        "outputId": "626a9f14-6b25-41a8-c99c-ed13bfeba0af"
      },
      "execution_count": 13,
      "outputs": [
        {
          "output_type": "stream",
          "name": "stdout",
          "text": [
            "Usage: streamlit run [OPTIONS] TARGET [ARGS]...\n",
            "Try 'streamlit run --help' for help.\n",
            "\n",
            "Error: Invalid value: File does not exist: your_app.py\n"
          ]
        }
      ]
    },
    {
      "cell_type": "code",
      "source": [
        "!pip install --upgrade pyngrok\n"
      ],
      "metadata": {
        "colab": {
          "base_uri": "https://localhost:8080/"
        },
        "id": "BD04_tjkCu68",
        "outputId": "6905f3a7-2656-42b2-89dc-e70b9838bc8c"
      },
      "execution_count": 14,
      "outputs": [
        {
          "output_type": "stream",
          "name": "stdout",
          "text": [
            "Requirement already satisfied: pyngrok in /usr/local/lib/python3.10/dist-packages (7.2.3)\n",
            "Requirement already satisfied: PyYAML>=5.1 in /usr/local/lib/python3.10/dist-packages (from pyngrok) (6.0.2)\n"
          ]
        }
      ]
    },
    {
      "cell_type": "code",
      "source": [
        "!streamlit run your_app.py &\n"
      ],
      "metadata": {
        "colab": {
          "base_uri": "https://localhost:8080/"
        },
        "id": "qH3kY13OC_Ja",
        "outputId": "77999c8c-bbf4-496a-a4d0-fc0684ed1844"
      },
      "execution_count": 15,
      "outputs": [
        {
          "output_type": "stream",
          "name": "stdout",
          "text": [
            "Usage: streamlit run [OPTIONS] TARGET [ARGS]...\n",
            "Try 'streamlit run --help' for help.\n",
            "\n",
            "Error: Invalid value: File does not exist: your_app.py\n"
          ]
        }
      ]
    },
    {
      "cell_type": "code",
      "source": [
        "from pyngrok import ngrok\n",
        "\n",
        "# Streamlit portu\n",
        "public_url = ngrok.connect(8501)\n",
        "print(f\"Streamlit uygulamanız şu URL'de: {public_url}\")\n"
      ],
      "metadata": {
        "colab": {
          "base_uri": "https://localhost:8080/"
        },
        "id": "y0E0Vj4lDMkH",
        "outputId": "bec23f42-f668-4d71-dd92-fbde7a22b7be"
      },
      "execution_count": 16,
      "outputs": [
        {
          "output_type": "stream",
          "name": "stdout",
          "text": [
            "Streamlit uygulamanız şu URL'de: NgrokTunnel: \"https://4bb4-34-134-204-44.ngrok-free.app\" -> \"http://localhost:8501\"\n"
          ]
        }
      ]
    },
    {
      "cell_type": "code",
      "source": [
        "from pyngrok import ngrok\n",
        "\n",
        "# Ngrok bağlantısı başlat\n",
        "public_url = ngrok.connect(port='8501', options={\"web_addr\": \"0.0.0.0:8501\", \"auth\": \"ngrok-skip-browser-warning\"})\n",
        "print(f\"Streamlit uygulamanız şu URL'de: {public_url}\")\n"
      ],
      "metadata": {
        "colab": {
          "base_uri": "https://localhost:8080/",
          "height": 463
        },
        "id": "CF6vXGlBELbl",
        "outputId": "2e1c2430-0c45-45ab-80f1-1682510d6a4c"
      },
      "execution_count": 17,
      "outputs": [
        {
          "output_type": "stream",
          "name": "stderr",
          "text": [
            "WARNING:pyngrok.process.ngrok:t=2025-01-10T21:13:38+0000 lvl=warn msg=\"invalid tunnel configuration\" pg=/api/tunnels id=ac68002e11956cf4 err=\"yaml: unmarshal errors:\\n  line 1: field port not found in type config.HTTPv2Tunnel\\n  line 1: field options not found in type config.HTTPv2Tunnel\"\n"
          ]
        },
        {
          "output_type": "error",
          "ename": "PyngrokNgrokHTTPError",
          "evalue": "ngrok client exception, API returned 400: {\"error_code\":102,\"status_code\":400,\"msg\":\"invalid tunnel configuration\",\"details\":{\"err\":\"yaml: unmarshal errors:\\n  line 1: field port not found in type config.HTTPv2Tunnel\\n  line 1: field options not found in type config.HTTPv2Tunnel\"}}\n",
          "traceback": [
            "\u001b[0;31m---------------------------------------------------------------------------\u001b[0m",
            "\u001b[0;31mHTTPError\u001b[0m                                 Traceback (most recent call last)",
            "\u001b[0;32m/usr/local/lib/python3.10/dist-packages/pyngrok/ngrok.py\u001b[0m in \u001b[0;36mapi_request\u001b[0;34m(url, method, data, params, timeout, auth)\u001b[0m\n\u001b[1;32m    556\u001b[0m     \u001b[0;32mtry\u001b[0m\u001b[0;34m:\u001b[0m\u001b[0;34m\u001b[0m\u001b[0;34m\u001b[0m\u001b[0m\n\u001b[0;32m--> 557\u001b[0;31m         \u001b[0mresponse\u001b[0m \u001b[0;34m=\u001b[0m \u001b[0murlopen\u001b[0m\u001b[0;34m(\u001b[0m\u001b[0mrequest\u001b[0m\u001b[0;34m,\u001b[0m \u001b[0mencoded_data\u001b[0m\u001b[0;34m,\u001b[0m \u001b[0mtimeout\u001b[0m\u001b[0;34m)\u001b[0m\u001b[0;34m\u001b[0m\u001b[0;34m\u001b[0m\u001b[0m\n\u001b[0m\u001b[1;32m    558\u001b[0m         \u001b[0mresponse_data\u001b[0m \u001b[0;34m=\u001b[0m \u001b[0mresponse\u001b[0m\u001b[0;34m.\u001b[0m\u001b[0mread\u001b[0m\u001b[0;34m(\u001b[0m\u001b[0;34m)\u001b[0m\u001b[0;34m.\u001b[0m\u001b[0mdecode\u001b[0m\u001b[0;34m(\u001b[0m\u001b[0;34m\"utf-8\"\u001b[0m\u001b[0;34m)\u001b[0m\u001b[0;34m\u001b[0m\u001b[0;34m\u001b[0m\u001b[0m\n",
            "\u001b[0;32m/usr/lib/python3.10/urllib/request.py\u001b[0m in \u001b[0;36murlopen\u001b[0;34m(url, data, timeout, cafile, capath, cadefault, context)\u001b[0m\n\u001b[1;32m    215\u001b[0m         \u001b[0mopener\u001b[0m \u001b[0;34m=\u001b[0m \u001b[0m_opener\u001b[0m\u001b[0;34m\u001b[0m\u001b[0;34m\u001b[0m\u001b[0m\n\u001b[0;32m--> 216\u001b[0;31m     \u001b[0;32mreturn\u001b[0m \u001b[0mopener\u001b[0m\u001b[0;34m.\u001b[0m\u001b[0mopen\u001b[0m\u001b[0;34m(\u001b[0m\u001b[0murl\u001b[0m\u001b[0;34m,\u001b[0m \u001b[0mdata\u001b[0m\u001b[0;34m,\u001b[0m \u001b[0mtimeout\u001b[0m\u001b[0;34m)\u001b[0m\u001b[0;34m\u001b[0m\u001b[0;34m\u001b[0m\u001b[0m\n\u001b[0m\u001b[1;32m    217\u001b[0m \u001b[0;34m\u001b[0m\u001b[0m\n",
            "\u001b[0;32m/usr/lib/python3.10/urllib/request.py\u001b[0m in \u001b[0;36mopen\u001b[0;34m(self, fullurl, data, timeout)\u001b[0m\n\u001b[1;32m    524\u001b[0m             \u001b[0mmeth\u001b[0m \u001b[0;34m=\u001b[0m \u001b[0mgetattr\u001b[0m\u001b[0;34m(\u001b[0m\u001b[0mprocessor\u001b[0m\u001b[0;34m,\u001b[0m \u001b[0mmeth_name\u001b[0m\u001b[0;34m)\u001b[0m\u001b[0;34m\u001b[0m\u001b[0;34m\u001b[0m\u001b[0m\n\u001b[0;32m--> 525\u001b[0;31m             \u001b[0mresponse\u001b[0m \u001b[0;34m=\u001b[0m \u001b[0mmeth\u001b[0m\u001b[0;34m(\u001b[0m\u001b[0mreq\u001b[0m\u001b[0;34m,\u001b[0m \u001b[0mresponse\u001b[0m\u001b[0;34m)\u001b[0m\u001b[0;34m\u001b[0m\u001b[0;34m\u001b[0m\u001b[0m\n\u001b[0m\u001b[1;32m    526\u001b[0m \u001b[0;34m\u001b[0m\u001b[0m\n",
            "\u001b[0;32m/usr/lib/python3.10/urllib/request.py\u001b[0m in \u001b[0;36mhttp_response\u001b[0;34m(self, request, response)\u001b[0m\n\u001b[1;32m    633\u001b[0m         \u001b[0;32mif\u001b[0m \u001b[0;32mnot\u001b[0m \u001b[0;34m(\u001b[0m\u001b[0;36m200\u001b[0m \u001b[0;34m<=\u001b[0m \u001b[0mcode\u001b[0m \u001b[0;34m<\u001b[0m \u001b[0;36m300\u001b[0m\u001b[0;34m)\u001b[0m\u001b[0;34m:\u001b[0m\u001b[0;34m\u001b[0m\u001b[0;34m\u001b[0m\u001b[0m\n\u001b[0;32m--> 634\u001b[0;31m             response = self.parent.error(\n\u001b[0m\u001b[1;32m    635\u001b[0m                 'http', request, response, code, msg, hdrs)\n",
            "\u001b[0;32m/usr/lib/python3.10/urllib/request.py\u001b[0m in \u001b[0;36merror\u001b[0;34m(self, proto, *args)\u001b[0m\n\u001b[1;32m    562\u001b[0m             \u001b[0margs\u001b[0m \u001b[0;34m=\u001b[0m \u001b[0;34m(\u001b[0m\u001b[0mdict\u001b[0m\u001b[0;34m,\u001b[0m \u001b[0;34m'default'\u001b[0m\u001b[0;34m,\u001b[0m \u001b[0;34m'http_error_default'\u001b[0m\u001b[0;34m)\u001b[0m \u001b[0;34m+\u001b[0m \u001b[0morig_args\u001b[0m\u001b[0;34m\u001b[0m\u001b[0;34m\u001b[0m\u001b[0m\n\u001b[0;32m--> 563\u001b[0;31m             \u001b[0;32mreturn\u001b[0m \u001b[0mself\u001b[0m\u001b[0;34m.\u001b[0m\u001b[0m_call_chain\u001b[0m\u001b[0;34m(\u001b[0m\u001b[0;34m*\u001b[0m\u001b[0margs\u001b[0m\u001b[0;34m)\u001b[0m\u001b[0;34m\u001b[0m\u001b[0;34m\u001b[0m\u001b[0m\n\u001b[0m\u001b[1;32m    564\u001b[0m \u001b[0;34m\u001b[0m\u001b[0m\n",
            "\u001b[0;32m/usr/lib/python3.10/urllib/request.py\u001b[0m in \u001b[0;36m_call_chain\u001b[0;34m(self, chain, kind, meth_name, *args)\u001b[0m\n\u001b[1;32m    495\u001b[0m             \u001b[0mfunc\u001b[0m \u001b[0;34m=\u001b[0m \u001b[0mgetattr\u001b[0m\u001b[0;34m(\u001b[0m\u001b[0mhandler\u001b[0m\u001b[0;34m,\u001b[0m \u001b[0mmeth_name\u001b[0m\u001b[0;34m)\u001b[0m\u001b[0;34m\u001b[0m\u001b[0;34m\u001b[0m\u001b[0m\n\u001b[0;32m--> 496\u001b[0;31m             \u001b[0mresult\u001b[0m \u001b[0;34m=\u001b[0m \u001b[0mfunc\u001b[0m\u001b[0;34m(\u001b[0m\u001b[0;34m*\u001b[0m\u001b[0margs\u001b[0m\u001b[0;34m)\u001b[0m\u001b[0;34m\u001b[0m\u001b[0;34m\u001b[0m\u001b[0m\n\u001b[0m\u001b[1;32m    497\u001b[0m             \u001b[0;32mif\u001b[0m \u001b[0mresult\u001b[0m \u001b[0;32mis\u001b[0m \u001b[0;32mnot\u001b[0m \u001b[0;32mNone\u001b[0m\u001b[0;34m:\u001b[0m\u001b[0;34m\u001b[0m\u001b[0;34m\u001b[0m\u001b[0m\n",
            "\u001b[0;32m/usr/lib/python3.10/urllib/request.py\u001b[0m in \u001b[0;36mhttp_error_default\u001b[0;34m(self, req, fp, code, msg, hdrs)\u001b[0m\n\u001b[1;32m    642\u001b[0m     \u001b[0;32mdef\u001b[0m \u001b[0mhttp_error_default\u001b[0m\u001b[0;34m(\u001b[0m\u001b[0mself\u001b[0m\u001b[0;34m,\u001b[0m \u001b[0mreq\u001b[0m\u001b[0;34m,\u001b[0m \u001b[0mfp\u001b[0m\u001b[0;34m,\u001b[0m \u001b[0mcode\u001b[0m\u001b[0;34m,\u001b[0m \u001b[0mmsg\u001b[0m\u001b[0;34m,\u001b[0m \u001b[0mhdrs\u001b[0m\u001b[0;34m)\u001b[0m\u001b[0;34m:\u001b[0m\u001b[0;34m\u001b[0m\u001b[0;34m\u001b[0m\u001b[0m\n\u001b[0;32m--> 643\u001b[0;31m         \u001b[0;32mraise\u001b[0m \u001b[0mHTTPError\u001b[0m\u001b[0;34m(\u001b[0m\u001b[0mreq\u001b[0m\u001b[0;34m.\u001b[0m\u001b[0mfull_url\u001b[0m\u001b[0;34m,\u001b[0m \u001b[0mcode\u001b[0m\u001b[0;34m,\u001b[0m \u001b[0mmsg\u001b[0m\u001b[0;34m,\u001b[0m \u001b[0mhdrs\u001b[0m\u001b[0;34m,\u001b[0m \u001b[0mfp\u001b[0m\u001b[0;34m)\u001b[0m\u001b[0;34m\u001b[0m\u001b[0;34m\u001b[0m\u001b[0m\n\u001b[0m\u001b[1;32m    644\u001b[0m \u001b[0;34m\u001b[0m\u001b[0m\n",
            "\u001b[0;31mHTTPError\u001b[0m: HTTP Error 400: Bad Request",
            "\nDuring handling of the above exception, another exception occurred:\n",
            "\u001b[0;31mPyngrokNgrokHTTPError\u001b[0m                     Traceback (most recent call last)",
            "\u001b[0;32m<ipython-input-17-4463d218b561>\u001b[0m in \u001b[0;36m<cell line: 4>\u001b[0;34m()\u001b[0m\n\u001b[1;32m      2\u001b[0m \u001b[0;34m\u001b[0m\u001b[0m\n\u001b[1;32m      3\u001b[0m \u001b[0;31m# Ngrok bağlantısı başlat\u001b[0m\u001b[0;34m\u001b[0m\u001b[0;34m\u001b[0m\u001b[0m\n\u001b[0;32m----> 4\u001b[0;31m \u001b[0mpublic_url\u001b[0m \u001b[0;34m=\u001b[0m \u001b[0mngrok\u001b[0m\u001b[0;34m.\u001b[0m\u001b[0mconnect\u001b[0m\u001b[0;34m(\u001b[0m\u001b[0mport\u001b[0m\u001b[0;34m=\u001b[0m\u001b[0;34m'8501'\u001b[0m\u001b[0;34m,\u001b[0m \u001b[0moptions\u001b[0m\u001b[0;34m=\u001b[0m\u001b[0;34m{\u001b[0m\u001b[0;34m\"web_addr\"\u001b[0m\u001b[0;34m:\u001b[0m \u001b[0;34m\"0.0.0.0:8501\"\u001b[0m\u001b[0;34m,\u001b[0m \u001b[0;34m\"auth\"\u001b[0m\u001b[0;34m:\u001b[0m \u001b[0;34m\"ngrok-skip-browser-warning\"\u001b[0m\u001b[0;34m}\u001b[0m\u001b[0;34m)\u001b[0m\u001b[0;34m\u001b[0m\u001b[0;34m\u001b[0m\u001b[0m\n\u001b[0m\u001b[1;32m      5\u001b[0m \u001b[0mprint\u001b[0m\u001b[0;34m(\u001b[0m\u001b[0;34mf\"Streamlit uygulamanız şu URL'de: {public_url}\"\u001b[0m\u001b[0;34m)\u001b[0m\u001b[0;34m\u001b[0m\u001b[0;34m\u001b[0m\u001b[0m\n",
            "\u001b[0;32m/usr/local/lib/python3.10/dist-packages/pyngrok/ngrok.py\u001b[0m in \u001b[0;36mconnect\u001b[0;34m(addr, proto, name, pyngrok_config, **options)\u001b[0m\n\u001b[1;32m    353\u001b[0m     \u001b[0mlogger\u001b[0m\u001b[0;34m.\u001b[0m\u001b[0mdebug\u001b[0m\u001b[0;34m(\u001b[0m\u001b[0;34mf\"Creating tunnel with options: {options}\"\u001b[0m\u001b[0;34m)\u001b[0m\u001b[0;34m\u001b[0m\u001b[0;34m\u001b[0m\u001b[0m\n\u001b[1;32m    354\u001b[0m \u001b[0;34m\u001b[0m\u001b[0m\n\u001b[0;32m--> 355\u001b[0;31m     tunnel = NgrokTunnel(api_request(f\"{api_url}/api/tunnels\", method=\"POST\", data=options,\n\u001b[0m\u001b[1;32m    356\u001b[0m                                      timeout=pyngrok_config.request_timeout),\n\u001b[1;32m    357\u001b[0m                          pyngrok_config, api_url)\n",
            "\u001b[0;32m/usr/local/lib/python3.10/dist-packages/pyngrok/ngrok.py\u001b[0m in \u001b[0;36mapi_request\u001b[0;34m(url, method, data, params, timeout, auth)\u001b[0m\n\u001b[1;32m    576\u001b[0m         \u001b[0mlogger\u001b[0m\u001b[0;34m.\u001b[0m\u001b[0mdebug\u001b[0m\u001b[0;34m(\u001b[0m\u001b[0;34mf\"Response {status_code}: {response_data.strip()}\"\u001b[0m\u001b[0;34m)\u001b[0m\u001b[0;34m\u001b[0m\u001b[0;34m\u001b[0m\u001b[0m\n\u001b[1;32m    577\u001b[0m \u001b[0;34m\u001b[0m\u001b[0m\n\u001b[0;32m--> 578\u001b[0;31m         raise PyngrokNgrokHTTPError(f\"ngrok client exception, API returned {status_code}: {response_data}\",\n\u001b[0m\u001b[1;32m    579\u001b[0m                                     \u001b[0me\u001b[0m\u001b[0;34m.\u001b[0m\u001b[0murl\u001b[0m\u001b[0;34m,\u001b[0m\u001b[0;34m\u001b[0m\u001b[0;34m\u001b[0m\u001b[0m\n\u001b[1;32m    580\u001b[0m                                     status_code, e.reason, e.headers, response_data)\n",
            "\u001b[0;31mPyngrokNgrokHTTPError\u001b[0m: ngrok client exception, API returned 400: {\"error_code\":102,\"status_code\":400,\"msg\":\"invalid tunnel configuration\",\"details\":{\"err\":\"yaml: unmarshal errors:\\n  line 1: field port not found in type config.HTTPv2Tunnel\\n  line 1: field options not found in type config.HTTPv2Tunnel\"}}\n"
          ]
        }
      ]
    },
    {
      "cell_type": "code",
      "source": [
        "from pyngrok import ngrok\n",
        "\n",
        "# Ngrok bağlantısını başlat\n",
        "public_url = ngrok.connect('8502')\n",
        "print(f\"Streamlit uygulamanız şu URL'de: {public_url}\")\n"
      ],
      "metadata": {
        "colab": {
          "base_uri": "https://localhost:8080/"
        },
        "id": "i1KjElfWEhV9",
        "outputId": "64e497eb-1cab-4e49-f93d-a33e8618faa5"
      },
      "execution_count": 20,
      "outputs": [
        {
          "output_type": "stream",
          "name": "stdout",
          "text": [
            "Streamlit uygulamanız şu URL'de: NgrokTunnel: \"https://af5a-34-134-204-44.ngrok-free.app\" -> \"http://localhost:8502\"\n"
          ]
        }
      ]
    },
    {
      "cell_type": "code",
      "source": [
        "!streamlit run app.py\n"
      ],
      "metadata": {
        "colab": {
          "base_uri": "https://localhost:8080/"
        },
        "id": "dpSRX7gpMiPn",
        "outputId": "aeae1a65-5109-49cb-a61d-07d8e8b5fa29"
      },
      "execution_count": 21,
      "outputs": [
        {
          "output_type": "stream",
          "name": "stdout",
          "text": [
            "Usage: streamlit run [OPTIONS] TARGET [ARGS]...\n",
            "Try 'streamlit run --help' for help.\n",
            "\n",
            "Error: Invalid value: File does not exist: app.py\n"
          ]
        }
      ]
    },
    {
      "cell_type": "code",
      "source": [
        "from pyngrok import ngrok\n",
        "import os\n",
        "\n",
        "# Streamlit uygulamanızı yazın (app.py)\n",
        "%%writefile app.py\n",
        "import streamlit as st\n",
        "st.title(\"Streamlit & Ngrok in Google Colab!\")\n",
        "st.write(\"Bu, Google Colab üzerinden çalıştırdığınız bir Streamlit uygulamasıdır.\")\n",
        "\n",
        "# Streamlit'i çalıştırın\n",
        "os.system('streamlit run app.py &')\n",
        "\n",
        "# Ngrok tünelini başlatın (8501 portunu kullanarak)\n",
        "public_url = ngrok.connect(port='8501')\n",
        "print(\"Streamlit uygulamanız şu URL üzerinden erişilebilir:\", public_url)\n"
      ],
      "metadata": {
        "colab": {
          "base_uri": "https://localhost:8080/"
        },
        "id": "aC8Z4UT2Mnx1",
        "outputId": "a9b59ade-b330-4761-d043-b10efcfb30c8"
      },
      "execution_count": 22,
      "outputs": [
        {
          "output_type": "stream",
          "name": "stderr",
          "text": [
            "UsageError: Line magic function `%%writefile` not found.\n"
          ]
        }
      ]
    },
    {
      "cell_type": "code",
      "source": [
        "# Bu komut sadece Google Colab'da çalışır\n",
        "%%writefile app.py\n",
        "import streamlit as st\n",
        "\n",
        "# Streamlit uygulamanızı yazın\n",
        "st.title(\"Streamlit & Ngrok in Google Colab!\")\n",
        "st.write(\"Bu, Google Colab üzerinden çalıştırdığınız bir Streamlit uygulamasıdır.\")\n"
      ],
      "metadata": {
        "colab": {
          "base_uri": "https://localhost:8080/"
        },
        "id": "qswa5YX8M6TW",
        "outputId": "1d4c64ea-bcff-4a2b-a8d6-73c2ef615203"
      },
      "execution_count": 23,
      "outputs": [
        {
          "output_type": "stream",
          "name": "stdout",
          "text": [
            "Writing app.py\n"
          ]
        }
      ]
    },
    {
      "cell_type": "code",
      "source": [
        "!streamlit run app.py &  # Streamlit uygulamanız başlatılır\n"
      ],
      "metadata": {
        "colab": {
          "base_uri": "https://localhost:8080/"
        },
        "id": "ztKMCHCIND8h",
        "outputId": "d998d97d-5bb7-4ddc-f65b-2d277e4cf684"
      },
      "execution_count": 24,
      "outputs": [
        {
          "output_type": "stream",
          "name": "stdout",
          "text": [
            "\n",
            "Collecting usage statistics. To deactivate, set browser.gatherUsageStats to false.\n",
            "\u001b[0m\n",
            "\u001b[0m\n",
            "\u001b[34m\u001b[1m  You can now view your Streamlit app in your browser.\u001b[0m\n",
            "\u001b[0m\n",
            "\u001b[34m  Local URL: \u001b[0m\u001b[1mhttp://localhost:8501\u001b[0m\n",
            "\u001b[34m  Network URL: \u001b[0m\u001b[1mhttp://172.28.0.12:8501\u001b[0m\n",
            "\u001b[34m  External URL: \u001b[0m\u001b[1mhttp://34.134.204.44:8501\u001b[0m\n",
            "\u001b[0m\n",
            "\u001b[34m  Stopping...\u001b[0m\n"
          ]
        }
      ]
    },
    {
      "cell_type": "code",
      "source": [
        "!pip install pyngrok\n",
        "from pyngrok import ngrok\n",
        "\n",
        "# Ngrok authtoken'ınızı buraya yapıştırın\n",
        "ngrok.set_auth_token(\"2q2DP0LSC2CeqO0PtoRmHSci9gI_6NyQbvwsxMwpgJCJ4fHnE\")\n"
      ],
      "metadata": {
        "id": "KimW8n3zNNBH"
      },
      "execution_count": null,
      "outputs": []
    },
    {
      "cell_type": "code",
      "source": [
        "from pyngrok import ngrok\n",
        "\n",
        "# Ngrok tünelini başlatın (8501 portunu kullanarak)\n",
        "public_url = ngrok.connect(port='8501')\n",
        "print(\"Streamlit uygulamanız şu URL üzerinden erişilebilir:\", public_url)\n"
      ],
      "metadata": {
        "id": "sRFiS5gQNMEf"
      },
      "execution_count": null,
      "outputs": []
    },
    {
      "cell_type": "code",
      "source": [
        "!pip install streamlit\n",
        "!pip install pyngrok\n"
      ],
      "metadata": {
        "colab": {
          "base_uri": "https://localhost:8080/"
        },
        "id": "bIl0QmyKTDAT",
        "outputId": "60153fff-f958-4734-f3db-da1fc5863682"
      },
      "execution_count": 25,
      "outputs": [
        {
          "output_type": "stream",
          "name": "stdout",
          "text": [
            "Requirement already satisfied: streamlit in /usr/local/lib/python3.10/dist-packages (1.41.1)\n",
            "Requirement already satisfied: altair<6,>=4.0 in /usr/local/lib/python3.10/dist-packages (from streamlit) (5.5.0)\n",
            "Requirement already satisfied: blinker<2,>=1.0.0 in /usr/local/lib/python3.10/dist-packages (from streamlit) (1.9.0)\n",
            "Requirement already satisfied: cachetools<6,>=4.0 in /usr/local/lib/python3.10/dist-packages (from streamlit) (5.5.0)\n",
            "Requirement already satisfied: click<9,>=7.0 in /usr/local/lib/python3.10/dist-packages (from streamlit) (8.1.8)\n",
            "Requirement already satisfied: numpy<3,>=1.23 in /usr/local/lib/python3.10/dist-packages (from streamlit) (1.26.4)\n",
            "Requirement already satisfied: packaging<25,>=20 in /usr/local/lib/python3.10/dist-packages (from streamlit) (24.2)\n",
            "Requirement already satisfied: pandas<3,>=1.4.0 in /usr/local/lib/python3.10/dist-packages (from streamlit) (2.2.2)\n",
            "Requirement already satisfied: pillow<12,>=7.1.0 in /usr/local/lib/python3.10/dist-packages (from streamlit) (11.1.0)\n",
            "Requirement already satisfied: protobuf<6,>=3.20 in /usr/local/lib/python3.10/dist-packages (from streamlit) (4.25.5)\n",
            "Requirement already satisfied: pyarrow>=7.0 in /usr/local/lib/python3.10/dist-packages (from streamlit) (17.0.0)\n",
            "Requirement already satisfied: requests<3,>=2.27 in /usr/local/lib/python3.10/dist-packages (from streamlit) (2.32.3)\n",
            "Requirement already satisfied: rich<14,>=10.14.0 in /usr/local/lib/python3.10/dist-packages (from streamlit) (13.9.4)\n",
            "Requirement already satisfied: tenacity<10,>=8.1.0 in /usr/local/lib/python3.10/dist-packages (from streamlit) (9.0.0)\n",
            "Requirement already satisfied: toml<2,>=0.10.1 in /usr/local/lib/python3.10/dist-packages (from streamlit) (0.10.2)\n",
            "Requirement already satisfied: typing-extensions<5,>=4.3.0 in /usr/local/lib/python3.10/dist-packages (from streamlit) (4.12.2)\n",
            "Requirement already satisfied: watchdog<7,>=2.1.5 in /usr/local/lib/python3.10/dist-packages (from streamlit) (6.0.0)\n",
            "Requirement already satisfied: gitpython!=3.1.19,<4,>=3.0.7 in /usr/local/lib/python3.10/dist-packages (from streamlit) (3.1.44)\n",
            "Requirement already satisfied: pydeck<1,>=0.8.0b4 in /usr/local/lib/python3.10/dist-packages (from streamlit) (0.9.1)\n",
            "Requirement already satisfied: tornado<7,>=6.0.3 in /usr/local/lib/python3.10/dist-packages (from streamlit) (6.3.3)\n",
            "Requirement already satisfied: jinja2 in /usr/local/lib/python3.10/dist-packages (from altair<6,>=4.0->streamlit) (3.1.5)\n",
            "Requirement already satisfied: jsonschema>=3.0 in /usr/local/lib/python3.10/dist-packages (from altair<6,>=4.0->streamlit) (4.23.0)\n",
            "Requirement already satisfied: narwhals>=1.14.2 in /usr/local/lib/python3.10/dist-packages (from altair<6,>=4.0->streamlit) (1.21.1)\n",
            "Requirement already satisfied: gitdb<5,>=4.0.1 in /usr/local/lib/python3.10/dist-packages (from gitpython!=3.1.19,<4,>=3.0.7->streamlit) (4.0.12)\n",
            "Requirement already satisfied: python-dateutil>=2.8.2 in /usr/local/lib/python3.10/dist-packages (from pandas<3,>=1.4.0->streamlit) (2.8.2)\n",
            "Requirement already satisfied: pytz>=2020.1 in /usr/local/lib/python3.10/dist-packages (from pandas<3,>=1.4.0->streamlit) (2024.2)\n",
            "Requirement already satisfied: tzdata>=2022.7 in /usr/local/lib/python3.10/dist-packages (from pandas<3,>=1.4.0->streamlit) (2024.2)\n",
            "Requirement already satisfied: charset-normalizer<4,>=2 in /usr/local/lib/python3.10/dist-packages (from requests<3,>=2.27->streamlit) (3.4.1)\n",
            "Requirement already satisfied: idna<4,>=2.5 in /usr/local/lib/python3.10/dist-packages (from requests<3,>=2.27->streamlit) (3.10)\n",
            "Requirement already satisfied: urllib3<3,>=1.21.1 in /usr/local/lib/python3.10/dist-packages (from requests<3,>=2.27->streamlit) (2.3.0)\n",
            "Requirement already satisfied: certifi>=2017.4.17 in /usr/local/lib/python3.10/dist-packages (from requests<3,>=2.27->streamlit) (2024.12.14)\n",
            "Requirement already satisfied: markdown-it-py>=2.2.0 in /usr/local/lib/python3.10/dist-packages (from rich<14,>=10.14.0->streamlit) (3.0.0)\n",
            "Requirement already satisfied: pygments<3.0.0,>=2.13.0 in /usr/local/lib/python3.10/dist-packages (from rich<14,>=10.14.0->streamlit) (2.18.0)\n",
            "Requirement already satisfied: smmap<6,>=3.0.1 in /usr/local/lib/python3.10/dist-packages (from gitdb<5,>=4.0.1->gitpython!=3.1.19,<4,>=3.0.7->streamlit) (5.0.2)\n",
            "Requirement already satisfied: MarkupSafe>=2.0 in /usr/local/lib/python3.10/dist-packages (from jinja2->altair<6,>=4.0->streamlit) (3.0.2)\n",
            "Requirement already satisfied: attrs>=22.2.0 in /usr/local/lib/python3.10/dist-packages (from jsonschema>=3.0->altair<6,>=4.0->streamlit) (24.3.0)\n",
            "Requirement already satisfied: jsonschema-specifications>=2023.03.6 in /usr/local/lib/python3.10/dist-packages (from jsonschema>=3.0->altair<6,>=4.0->streamlit) (2024.10.1)\n",
            "Requirement already satisfied: referencing>=0.28.4 in /usr/local/lib/python3.10/dist-packages (from jsonschema>=3.0->altair<6,>=4.0->streamlit) (0.35.1)\n",
            "Requirement already satisfied: rpds-py>=0.7.1 in /usr/local/lib/python3.10/dist-packages (from jsonschema>=3.0->altair<6,>=4.0->streamlit) (0.22.3)\n",
            "Requirement already satisfied: mdurl~=0.1 in /usr/local/lib/python3.10/dist-packages (from markdown-it-py>=2.2.0->rich<14,>=10.14.0->streamlit) (0.1.2)\n",
            "Requirement already satisfied: six>=1.5 in /usr/local/lib/python3.10/dist-packages (from python-dateutil>=2.8.2->pandas<3,>=1.4.0->streamlit) (1.17.0)\n",
            "Requirement already satisfied: pyngrok in /usr/local/lib/python3.10/dist-packages (7.2.3)\n",
            "Requirement already satisfied: PyYAML>=5.1 in /usr/local/lib/python3.10/dist-packages (from pyngrok) (6.0.2)\n"
          ]
        }
      ]
    },
    {
      "cell_type": "code",
      "source": [
        "!streamlit run app.py &\n"
      ],
      "metadata": {
        "colab": {
          "base_uri": "https://localhost:8080/"
        },
        "id": "sulGMCnmTHT2",
        "outputId": "25ddca98-2c4f-414c-ea7b-9af34c794639"
      },
      "execution_count": 26,
      "outputs": [
        {
          "output_type": "stream",
          "name": "stdout",
          "text": [
            "\n",
            "Collecting usage statistics. To deactivate, set browser.gatherUsageStats to false.\n",
            "\u001b[0m\n",
            "\u001b[0m\n",
            "\u001b[34m\u001b[1m  You can now view your Streamlit app in your browser.\u001b[0m\n",
            "\u001b[0m\n",
            "\u001b[34m  Local URL: \u001b[0m\u001b[1mhttp://localhost:8501\u001b[0m\n",
            "\u001b[34m  Network URL: \u001b[0m\u001b[1mhttp://172.28.0.12:8501\u001b[0m\n",
            "\u001b[34m  External URL: \u001b[0m\u001b[1mhttp://34.134.204.44:8501\u001b[0m\n",
            "\u001b[0m\n",
            "\u001b[34m  Stopping...\u001b[0m\n"
          ]
        }
      ]
    },
    {
      "cell_type": "code",
      "source": [
        "from pyngrok import ngrok\n",
        "\n",
        "# Streamlit için kullanılan portu açıyoruz\n",
        "public_url = ngrok.connect(8501)\n",
        "print('Streamlit app is available at:', public_url)\n"
      ],
      "metadata": {
        "colab": {
          "base_uri": "https://localhost:8080/"
        },
        "id": "Eo_QxZQzUZ5y",
        "outputId": "58d44444-ab2b-432e-bd82-766cbc6fc634"
      },
      "execution_count": 27,
      "outputs": [
        {
          "output_type": "stream",
          "name": "stdout",
          "text": [
            "Streamlit app is available at: NgrokTunnel: \"https://de17-34-134-204-44.ngrok-free.app\" -> \"http://localhost:8501\"\n"
          ]
        }
      ]
    },
    {
      "cell_type": "code",
      "source": [
        "!pip install pyngrok  # ngrok'u Colab'a yükle\n",
        "from pyngrok import ngrok\n",
        "\n",
        "# Yerel servisi başlatın (örneğin, 8080 portu)\n",
        "public_url = ngrok.connect(8080)\n",
        "print(public_url)\n"
      ],
      "metadata": {
        "colab": {
          "base_uri": "https://localhost:8080/"
        },
        "id": "0Zo_z2juU1dH",
        "outputId": "3596ef86-8685-44f2-ebec-c53a815ad35b"
      },
      "execution_count": 28,
      "outputs": [
        {
          "output_type": "stream",
          "name": "stdout",
          "text": [
            "Requirement already satisfied: pyngrok in /usr/local/lib/python3.10/dist-packages (7.2.3)\n",
            "Requirement already satisfied: PyYAML>=5.1 in /usr/local/lib/python3.10/dist-packages (from pyngrok) (6.0.2)\n",
            "NgrokTunnel: \"https://2342-34-134-204-44.ngrok-free.app\" -> \"http://localhost:8080\"\n"
          ]
        }
      ]
    },
    {
      "cell_type": "code",
      "source": [
        "!pip install --upgrade streamlit\n"
      ],
      "metadata": {
        "colab": {
          "base_uri": "https://localhost:8080/"
        },
        "id": "dKARNgCAVRI3",
        "outputId": "971dd302-c916-4f5b-a0ea-3fd8e45f3b58"
      },
      "execution_count": 29,
      "outputs": [
        {
          "output_type": "stream",
          "name": "stdout",
          "text": [
            "Requirement already satisfied: streamlit in /usr/local/lib/python3.10/dist-packages (1.41.1)\n",
            "Requirement already satisfied: altair<6,>=4.0 in /usr/local/lib/python3.10/dist-packages (from streamlit) (5.5.0)\n",
            "Requirement already satisfied: blinker<2,>=1.0.0 in /usr/local/lib/python3.10/dist-packages (from streamlit) (1.9.0)\n",
            "Requirement already satisfied: cachetools<6,>=4.0 in /usr/local/lib/python3.10/dist-packages (from streamlit) (5.5.0)\n",
            "Requirement already satisfied: click<9,>=7.0 in /usr/local/lib/python3.10/dist-packages (from streamlit) (8.1.8)\n",
            "Requirement already satisfied: numpy<3,>=1.23 in /usr/local/lib/python3.10/dist-packages (from streamlit) (1.26.4)\n",
            "Requirement already satisfied: packaging<25,>=20 in /usr/local/lib/python3.10/dist-packages (from streamlit) (24.2)\n",
            "Requirement already satisfied: pandas<3,>=1.4.0 in /usr/local/lib/python3.10/dist-packages (from streamlit) (2.2.2)\n",
            "Requirement already satisfied: pillow<12,>=7.1.0 in /usr/local/lib/python3.10/dist-packages (from streamlit) (11.1.0)\n",
            "Requirement already satisfied: protobuf<6,>=3.20 in /usr/local/lib/python3.10/dist-packages (from streamlit) (4.25.5)\n",
            "Requirement already satisfied: pyarrow>=7.0 in /usr/local/lib/python3.10/dist-packages (from streamlit) (17.0.0)\n",
            "Requirement already satisfied: requests<3,>=2.27 in /usr/local/lib/python3.10/dist-packages (from streamlit) (2.32.3)\n",
            "Requirement already satisfied: rich<14,>=10.14.0 in /usr/local/lib/python3.10/dist-packages (from streamlit) (13.9.4)\n",
            "Requirement already satisfied: tenacity<10,>=8.1.0 in /usr/local/lib/python3.10/dist-packages (from streamlit) (9.0.0)\n",
            "Requirement already satisfied: toml<2,>=0.10.1 in /usr/local/lib/python3.10/dist-packages (from streamlit) (0.10.2)\n",
            "Requirement already satisfied: typing-extensions<5,>=4.3.0 in /usr/local/lib/python3.10/dist-packages (from streamlit) (4.12.2)\n",
            "Requirement already satisfied: watchdog<7,>=2.1.5 in /usr/local/lib/python3.10/dist-packages (from streamlit) (6.0.0)\n",
            "Requirement already satisfied: gitpython!=3.1.19,<4,>=3.0.7 in /usr/local/lib/python3.10/dist-packages (from streamlit) (3.1.44)\n",
            "Requirement already satisfied: pydeck<1,>=0.8.0b4 in /usr/local/lib/python3.10/dist-packages (from streamlit) (0.9.1)\n",
            "Requirement already satisfied: tornado<7,>=6.0.3 in /usr/local/lib/python3.10/dist-packages (from streamlit) (6.3.3)\n",
            "Requirement already satisfied: jinja2 in /usr/local/lib/python3.10/dist-packages (from altair<6,>=4.0->streamlit) (3.1.5)\n",
            "Requirement already satisfied: jsonschema>=3.0 in /usr/local/lib/python3.10/dist-packages (from altair<6,>=4.0->streamlit) (4.23.0)\n",
            "Requirement already satisfied: narwhals>=1.14.2 in /usr/local/lib/python3.10/dist-packages (from altair<6,>=4.0->streamlit) (1.21.1)\n",
            "Requirement already satisfied: gitdb<5,>=4.0.1 in /usr/local/lib/python3.10/dist-packages (from gitpython!=3.1.19,<4,>=3.0.7->streamlit) (4.0.12)\n",
            "Requirement already satisfied: python-dateutil>=2.8.2 in /usr/local/lib/python3.10/dist-packages (from pandas<3,>=1.4.0->streamlit) (2.8.2)\n",
            "Requirement already satisfied: pytz>=2020.1 in /usr/local/lib/python3.10/dist-packages (from pandas<3,>=1.4.0->streamlit) (2024.2)\n",
            "Requirement already satisfied: tzdata>=2022.7 in /usr/local/lib/python3.10/dist-packages (from pandas<3,>=1.4.0->streamlit) (2024.2)\n",
            "Requirement already satisfied: charset-normalizer<4,>=2 in /usr/local/lib/python3.10/dist-packages (from requests<3,>=2.27->streamlit) (3.4.1)\n",
            "Requirement already satisfied: idna<4,>=2.5 in /usr/local/lib/python3.10/dist-packages (from requests<3,>=2.27->streamlit) (3.10)\n",
            "Requirement already satisfied: urllib3<3,>=1.21.1 in /usr/local/lib/python3.10/dist-packages (from requests<3,>=2.27->streamlit) (2.3.0)\n",
            "Requirement already satisfied: certifi>=2017.4.17 in /usr/local/lib/python3.10/dist-packages (from requests<3,>=2.27->streamlit) (2024.12.14)\n",
            "Requirement already satisfied: markdown-it-py>=2.2.0 in /usr/local/lib/python3.10/dist-packages (from rich<14,>=10.14.0->streamlit) (3.0.0)\n",
            "Requirement already satisfied: pygments<3.0.0,>=2.13.0 in /usr/local/lib/python3.10/dist-packages (from rich<14,>=10.14.0->streamlit) (2.18.0)\n",
            "Requirement already satisfied: smmap<6,>=3.0.1 in /usr/local/lib/python3.10/dist-packages (from gitdb<5,>=4.0.1->gitpython!=3.1.19,<4,>=3.0.7->streamlit) (5.0.2)\n",
            "Requirement already satisfied: MarkupSafe>=2.0 in /usr/local/lib/python3.10/dist-packages (from jinja2->altair<6,>=4.0->streamlit) (3.0.2)\n",
            "Requirement already satisfied: attrs>=22.2.0 in /usr/local/lib/python3.10/dist-packages (from jsonschema>=3.0->altair<6,>=4.0->streamlit) (24.3.0)\n",
            "Requirement already satisfied: jsonschema-specifications>=2023.03.6 in /usr/local/lib/python3.10/dist-packages (from jsonschema>=3.0->altair<6,>=4.0->streamlit) (2024.10.1)\n",
            "Requirement already satisfied: referencing>=0.28.4 in /usr/local/lib/python3.10/dist-packages (from jsonschema>=3.0->altair<6,>=4.0->streamlit) (0.35.1)\n",
            "Requirement already satisfied: rpds-py>=0.7.1 in /usr/local/lib/python3.10/dist-packages (from jsonschema>=3.0->altair<6,>=4.0->streamlit) (0.22.3)\n",
            "Requirement already satisfied: mdurl~=0.1 in /usr/local/lib/python3.10/dist-packages (from markdown-it-py>=2.2.0->rich<14,>=10.14.0->streamlit) (0.1.2)\n",
            "Requirement already satisfied: six>=1.5 in /usr/local/lib/python3.10/dist-packages (from python-dateutil>=2.8.2->pandas<3,>=1.4.0->streamlit) (1.17.0)\n"
          ]
        }
      ]
    },
    {
      "cell_type": "code",
      "source": [
        "!pip install --upgrade pyngrok\n"
      ],
      "metadata": {
        "colab": {
          "base_uri": "https://localhost:8080/"
        },
        "id": "aBiDXzsHVXWC",
        "outputId": "f4fbd760-0b40-4535-a4c8-e6752c29175a"
      },
      "execution_count": 30,
      "outputs": [
        {
          "output_type": "stream",
          "name": "stdout",
          "text": [
            "Requirement already satisfied: pyngrok in /usr/local/lib/python3.10/dist-packages (7.2.3)\n",
            "Requirement already satisfied: PyYAML>=5.1 in /usr/local/lib/python3.10/dist-packages (from pyngrok) (6.0.2)\n"
          ]
        }
      ]
    },
    {
      "cell_type": "code",
      "source": [
        "!streamlit run app.py"
      ],
      "metadata": {
        "colab": {
          "base_uri": "https://localhost:8080/"
        },
        "id": "pBnsBR2ZVeKr",
        "outputId": "ef9a7f15-e541-446a-8dcf-37932490fbec"
      },
      "execution_count": 31,
      "outputs": [
        {
          "output_type": "stream",
          "name": "stdout",
          "text": [
            "\n",
            "Collecting usage statistics. To deactivate, set browser.gatherUsageStats to false.\n",
            "\u001b[0m\n",
            "\u001b[0m\n",
            "\u001b[34m\u001b[1m  You can now view your Streamlit app in your browser.\u001b[0m\n",
            "\u001b[0m\n",
            "\u001b[34m  Local URL: \u001b[0m\u001b[1mhttp://localhost:8501\u001b[0m\n",
            "\u001b[34m  Network URL: \u001b[0m\u001b[1mhttp://172.28.0.12:8501\u001b[0m\n",
            "\u001b[34m  External URL: \u001b[0m\u001b[1mhttp://34.134.204.44:8501\u001b[0m\n",
            "\u001b[0m\n",
            "\u001b[34m  Stopping...\u001b[0m\n",
            "\u001b[34m  Stopping...\u001b[0m\n"
          ]
        }
      ]
    },
    {
      "cell_type": "code",
      "source": [
        "from pyngrok import ngrok\n",
        "\n",
        "# Streamlit'in kullandığı portu 8501'e açıyoruz\n",
        "public_url = ngrok.connect(8501)\n",
        "print('Streamlit app is available at:', public_url)\n"
      ],
      "metadata": {
        "colab": {
          "base_uri": "https://localhost:8080/"
        },
        "id": "gnetbXXJVu9E",
        "outputId": "200417c9-4d9f-4465-fc8f-1c2752680971"
      },
      "execution_count": 32,
      "outputs": [
        {
          "output_type": "stream",
          "name": "stdout",
          "text": [
            "Streamlit app is available at: NgrokTunnel: \"https://9b14-34-134-204-44.ngrok-free.app\" -> \"http://localhost:8501\"\n"
          ]
        }
      ]
    },
    {
      "cell_type": "code",
      "source": [
        "!ps aux | grep streamlit\n"
      ],
      "metadata": {
        "colab": {
          "base_uri": "https://localhost:8080/"
        },
        "id": "TIIw95veV52p",
        "outputId": "e836eb9b-b00a-4673-ac0e-09d82714ce7d"
      },
      "execution_count": 33,
      "outputs": [
        {
          "output_type": "stream",
          "name": "stdout",
          "text": [
            "root       39794  0.0  0.0   6484  2204 ?        S    22:31   0:00 grep streamlit\n"
          ]
        }
      ]
    },
    {
      "cell_type": "code",
      "source": [
        "!pkill streamlit  # Çalışan Streamlit işlemini sonlandırıyoruz\n",
        "!streamlit run app.py &  # Uygulamayı tekrar başlatıyoruz\n"
      ],
      "metadata": {
        "colab": {
          "base_uri": "https://localhost:8080/"
        },
        "id": "AFSX-Gi-WG-u",
        "outputId": "c1bf74f4-5add-49ea-db25-076b390aca2c"
      },
      "execution_count": 34,
      "outputs": [
        {
          "output_type": "stream",
          "name": "stdout",
          "text": [
            "\n",
            "Collecting usage statistics. To deactivate, set browser.gatherUsageStats to false.\n",
            "\u001b[0m\n",
            "\u001b[0m\n",
            "\u001b[34m\u001b[1m  You can now view your Streamlit app in your browser.\u001b[0m\n",
            "\u001b[0m\n",
            "\u001b[34m  Local URL: \u001b[0m\u001b[1mhttp://localhost:8501\u001b[0m\n",
            "\u001b[34m  Network URL: \u001b[0m\u001b[1mhttp://172.28.0.12:8501\u001b[0m\n",
            "\u001b[34m  External URL: \u001b[0m\u001b[1mhttp://34.134.204.44:8501\u001b[0m\n",
            "\u001b[0m\n"
          ]
        },
        {
          "output_type": "stream",
          "name": "stderr",
          "text": [
            "WARNING:pyngrok.process.ngrok:t=2025-01-10T22:34:34+0000 lvl=warn msg=\"Stopping forwarder\" name=http-8501-2a00d0ac-58c8-4b61-b919-b2412fa11aa9 acceptErr=\"failed to accept connection: Listener closed\"\n"
          ]
        },
        {
          "output_type": "stream",
          "name": "stdout",
          "text": [
            "\u001b[34m  Stopping...\u001b[0m\n"
          ]
        }
      ]
    },
    {
      "cell_type": "code",
      "source": [
        "!tail -f ~/.streamlit/streamlit.log\n"
      ],
      "metadata": {
        "colab": {
          "base_uri": "https://localhost:8080/"
        },
        "id": "UlglWqMsWsTe",
        "outputId": "a7181b8e-2f31-4a20-885f-3aa7a88d6cd7"
      },
      "execution_count": 36,
      "outputs": [
        {
          "output_type": "stream",
          "name": "stdout",
          "text": [
            "tail: cannot open '/root/.streamlit/streamlit.log' for reading: No such file or directory\n",
            "tail: no files remaining\n"
          ]
        }
      ]
    },
    {
      "cell_type": "code",
      "source": [
        "!ps aux | grep streamlit  # Streamlit süreçlerini kontrol etme\n",
        "!kill -9 <PID>  # PID'yi ilgili Streamlit sürecine göre değiştirin\n"
      ],
      "metadata": {
        "colab": {
          "base_uri": "https://localhost:8080/"
        },
        "id": "repst1JUW6lb",
        "outputId": "6e4e158f-2aa7-4df2-8ee1-9b3728e6a856"
      },
      "execution_count": 37,
      "outputs": [
        {
          "output_type": "stream",
          "name": "stdout",
          "text": [
            "root       40855  0.0  0.0   6484  2264 ?        S    22:35   0:00 grep streamlit\n",
            "/bin/bash: -c: line 1: syntax error near unexpected token `newline'\n",
            "/bin/bash: -c: line 1: `kill -9 <PID>  # PID'yi ilgili Streamlit sürecine göre değiştirin'\n"
          ]
        }
      ]
    },
    {
      "cell_type": "code",
      "source": [
        "!streamlit run app.py\n"
      ],
      "metadata": {
        "colab": {
          "base_uri": "https://localhost:8080/"
        },
        "id": "8RtNuNODW_Yt",
        "outputId": "f590fbb5-7e8b-411b-d84c-6b966fc3e76c"
      },
      "execution_count": 38,
      "outputs": [
        {
          "output_type": "stream",
          "name": "stdout",
          "text": [
            "\n",
            "Collecting usage statistics. To deactivate, set browser.gatherUsageStats to false.\n",
            "\u001b[0m\n",
            "\u001b[0m\n",
            "\u001b[34m\u001b[1m  You can now view your Streamlit app in your browser.\u001b[0m\n",
            "\u001b[0m\n",
            "\u001b[34m  Local URL: \u001b[0m\u001b[1mhttp://localhost:8501\u001b[0m\n",
            "\u001b[34m  Network URL: \u001b[0m\u001b[1mhttp://172.28.0.12:8501\u001b[0m\n",
            "\u001b[34m  External URL: \u001b[0m\u001b[1mhttp://34.134.204.44:8501\u001b[0m\n",
            "\u001b[0m\n",
            "\u001b[34m  Stopping...\u001b[0m\n",
            "\u001b[34m  Stopping...\u001b[0m\n"
          ]
        }
      ]
    },
    {
      "cell_type": "code",
      "source": [
        "!streamlit run app.py --server.enableCORS=false\n"
      ],
      "metadata": {
        "colab": {
          "base_uri": "https://localhost:8080/"
        },
        "id": "JqlMQVPtXN_t",
        "outputId": "591d6e9f-737a-4efd-9aab-6f4765b22a13"
      },
      "execution_count": 39,
      "outputs": [
        {
          "output_type": "stream",
          "name": "stdout",
          "text": [
            "2025-01-10 22:36:49.136 \n",
            "Warning: the config option 'server.enableCORS=false' is not compatible with 'server.enableXsrfProtection=true'.\n",
            "As a result, 'server.enableCORS' is being overridden to 'true'.\n",
            "\n",
            "More information:\n",
            "In order to protect against CSRF attacks, we send a cookie with each request.\n",
            "To do so, we must specify allowable origins, which places a restriction on\n",
            "cross-origin resource sharing.\n",
            "\n",
            "If cross origin resource sharing is required, please disable server.enableXsrfProtection.\n",
            "            \n",
            "\n",
            "Collecting usage statistics. To deactivate, set browser.gatherUsageStats to false.\n",
            "\u001b[0m\n",
            "\u001b[0m\n",
            "\u001b[34m\u001b[1m  You can now view your Streamlit app in your browser.\u001b[0m\n",
            "\u001b[0m\n",
            "\u001b[34m  Local URL: \u001b[0m\u001b[1mhttp://localhost:8501\u001b[0m\n",
            "\u001b[34m  Network URL: \u001b[0m\u001b[1mhttp://172.28.0.12:8501\u001b[0m\n",
            "\u001b[34m  External URL: \u001b[0m\u001b[1mhttp://34.134.204.44:8501\u001b[0m\n",
            "\u001b[0m\n",
            "\u001b[34m  Stopping...\u001b[0m\n",
            "\u001b[34m  Stopping...\u001b[0m\n",
            "Traceback (most recent call last):\n",
            "  File \"/usr/local/bin/streamlit\", line 8, in <module>\n",
            "    sys.exit(main())\n",
            "  File \"/usr/local/lib/python3.10/dist-packages/click/core.py\", line 1161, in __call__\n",
            "    return self.main(*args, **kwargs)\n",
            "  File \"/usr/local/lib/python3.10/dist-packages/click/core.py\", line 1092, in main\n",
            "    ctx.exit()\n",
            "  File \"/usr/local/lib/python3.10/dist-packages/click/core.py\", line 697, in exit\n",
            "    def exit(self, code: int = 0) -> \"te.NoReturn\":\n",
            "  File \"/usr/local/lib/python3.10/dist-packages/streamlit/web/bootstrap.py\", line 44, in signal_handler\n",
            "    server.stop()\n",
            "  File \"/usr/local/lib/python3.10/dist-packages/streamlit/web/server/server.py\", line 432, in stop\n",
            "    self._runtime.stop()\n",
            "  File \"/usr/local/lib/python3.10/dist-packages/streamlit/runtime/runtime.py\", line 324, in stop\n",
            "    async_objs.eventloop.call_soon_threadsafe(stop_on_eventloop)\n",
            "  File \"/usr/lib/python3.10/asyncio/base_events.py\", line 798, in call_soon_threadsafe\n",
            "    self._check_closed()\n",
            "  File \"/usr/lib/python3.10/asyncio/base_events.py\", line 515, in _check_closed\n",
            "    raise RuntimeError('Event loop is closed')\n",
            "RuntimeError: Event loop is closed\n"
          ]
        }
      ]
    },
    {
      "cell_type": "code",
      "source": [
        "from pyngrok import ngrok\n",
        "import os\n",
        "import subprocess\n",
        "\n",
        "# Ngrok için bir bağlantı açıyoruz\n",
        "public_url = ngrok.connect(port='8501')\n",
        "print('Streamlit app is live at:', public_url)\n",
        "\n",
        "# Streamlit uygulamasını çalıştırıyoruz\n",
        "os.system('streamlit run app.py &')  # app.py'nizin yoluna göre düzenleyin\n"
      ],
      "metadata": {
        "colab": {
          "base_uri": "https://localhost:8080/",
          "height": 463
        },
        "id": "KmjRYyUMX-lX",
        "outputId": "e78e8d46-1743-4873-c24e-e50082d96a14"
      },
      "execution_count": 41,
      "outputs": [
        {
          "output_type": "stream",
          "name": "stderr",
          "text": [
            "WARNING:pyngrok.process.ngrok:t=2025-01-10T22:40:15+0000 lvl=warn msg=\"invalid tunnel configuration\" pg=/api/tunnels id=f780ce65fb05a689 err=\"yaml: unmarshal errors:\\n  line 1: field port not found in type config.HTTPv2Tunnel\"\n"
          ]
        },
        {
          "output_type": "error",
          "ename": "PyngrokNgrokHTTPError",
          "evalue": "ngrok client exception, API returned 400: {\"error_code\":102,\"status_code\":400,\"msg\":\"invalid tunnel configuration\",\"details\":{\"err\":\"yaml: unmarshal errors:\\n  line 1: field port not found in type config.HTTPv2Tunnel\"}}\n",
          "traceback": [
            "\u001b[0;31m---------------------------------------------------------------------------\u001b[0m",
            "\u001b[0;31mHTTPError\u001b[0m                                 Traceback (most recent call last)",
            "\u001b[0;32m/usr/local/lib/python3.10/dist-packages/pyngrok/ngrok.py\u001b[0m in \u001b[0;36mapi_request\u001b[0;34m(url, method, data, params, timeout, auth)\u001b[0m\n\u001b[1;32m    556\u001b[0m     \u001b[0;32mtry\u001b[0m\u001b[0;34m:\u001b[0m\u001b[0;34m\u001b[0m\u001b[0;34m\u001b[0m\u001b[0m\n\u001b[0;32m--> 557\u001b[0;31m         \u001b[0mresponse\u001b[0m \u001b[0;34m=\u001b[0m \u001b[0murlopen\u001b[0m\u001b[0;34m(\u001b[0m\u001b[0mrequest\u001b[0m\u001b[0;34m,\u001b[0m \u001b[0mencoded_data\u001b[0m\u001b[0;34m,\u001b[0m \u001b[0mtimeout\u001b[0m\u001b[0;34m)\u001b[0m\u001b[0;34m\u001b[0m\u001b[0;34m\u001b[0m\u001b[0m\n\u001b[0m\u001b[1;32m    558\u001b[0m         \u001b[0mresponse_data\u001b[0m \u001b[0;34m=\u001b[0m \u001b[0mresponse\u001b[0m\u001b[0;34m.\u001b[0m\u001b[0mread\u001b[0m\u001b[0;34m(\u001b[0m\u001b[0;34m)\u001b[0m\u001b[0;34m.\u001b[0m\u001b[0mdecode\u001b[0m\u001b[0;34m(\u001b[0m\u001b[0;34m\"utf-8\"\u001b[0m\u001b[0;34m)\u001b[0m\u001b[0;34m\u001b[0m\u001b[0;34m\u001b[0m\u001b[0m\n",
            "\u001b[0;32m/usr/lib/python3.10/urllib/request.py\u001b[0m in \u001b[0;36murlopen\u001b[0;34m(url, data, timeout, cafile, capath, cadefault, context)\u001b[0m\n\u001b[1;32m    215\u001b[0m         \u001b[0mopener\u001b[0m \u001b[0;34m=\u001b[0m \u001b[0m_opener\u001b[0m\u001b[0;34m\u001b[0m\u001b[0;34m\u001b[0m\u001b[0m\n\u001b[0;32m--> 216\u001b[0;31m     \u001b[0;32mreturn\u001b[0m \u001b[0mopener\u001b[0m\u001b[0;34m.\u001b[0m\u001b[0mopen\u001b[0m\u001b[0;34m(\u001b[0m\u001b[0murl\u001b[0m\u001b[0;34m,\u001b[0m \u001b[0mdata\u001b[0m\u001b[0;34m,\u001b[0m \u001b[0mtimeout\u001b[0m\u001b[0;34m)\u001b[0m\u001b[0;34m\u001b[0m\u001b[0;34m\u001b[0m\u001b[0m\n\u001b[0m\u001b[1;32m    217\u001b[0m \u001b[0;34m\u001b[0m\u001b[0m\n",
            "\u001b[0;32m/usr/lib/python3.10/urllib/request.py\u001b[0m in \u001b[0;36mopen\u001b[0;34m(self, fullurl, data, timeout)\u001b[0m\n\u001b[1;32m    524\u001b[0m             \u001b[0mmeth\u001b[0m \u001b[0;34m=\u001b[0m \u001b[0mgetattr\u001b[0m\u001b[0;34m(\u001b[0m\u001b[0mprocessor\u001b[0m\u001b[0;34m,\u001b[0m \u001b[0mmeth_name\u001b[0m\u001b[0;34m)\u001b[0m\u001b[0;34m\u001b[0m\u001b[0;34m\u001b[0m\u001b[0m\n\u001b[0;32m--> 525\u001b[0;31m             \u001b[0mresponse\u001b[0m \u001b[0;34m=\u001b[0m \u001b[0mmeth\u001b[0m\u001b[0;34m(\u001b[0m\u001b[0mreq\u001b[0m\u001b[0;34m,\u001b[0m \u001b[0mresponse\u001b[0m\u001b[0;34m)\u001b[0m\u001b[0;34m\u001b[0m\u001b[0;34m\u001b[0m\u001b[0m\n\u001b[0m\u001b[1;32m    526\u001b[0m \u001b[0;34m\u001b[0m\u001b[0m\n",
            "\u001b[0;32m/usr/lib/python3.10/urllib/request.py\u001b[0m in \u001b[0;36mhttp_response\u001b[0;34m(self, request, response)\u001b[0m\n\u001b[1;32m    633\u001b[0m         \u001b[0;32mif\u001b[0m \u001b[0;32mnot\u001b[0m \u001b[0;34m(\u001b[0m\u001b[0;36m200\u001b[0m \u001b[0;34m<=\u001b[0m \u001b[0mcode\u001b[0m \u001b[0;34m<\u001b[0m \u001b[0;36m300\u001b[0m\u001b[0;34m)\u001b[0m\u001b[0;34m:\u001b[0m\u001b[0;34m\u001b[0m\u001b[0;34m\u001b[0m\u001b[0m\n\u001b[0;32m--> 634\u001b[0;31m             response = self.parent.error(\n\u001b[0m\u001b[1;32m    635\u001b[0m                 'http', request, response, code, msg, hdrs)\n",
            "\u001b[0;32m/usr/lib/python3.10/urllib/request.py\u001b[0m in \u001b[0;36merror\u001b[0;34m(self, proto, *args)\u001b[0m\n\u001b[1;32m    562\u001b[0m             \u001b[0margs\u001b[0m \u001b[0;34m=\u001b[0m \u001b[0;34m(\u001b[0m\u001b[0mdict\u001b[0m\u001b[0;34m,\u001b[0m \u001b[0;34m'default'\u001b[0m\u001b[0;34m,\u001b[0m \u001b[0;34m'http_error_default'\u001b[0m\u001b[0;34m)\u001b[0m \u001b[0;34m+\u001b[0m \u001b[0morig_args\u001b[0m\u001b[0;34m\u001b[0m\u001b[0;34m\u001b[0m\u001b[0m\n\u001b[0;32m--> 563\u001b[0;31m             \u001b[0;32mreturn\u001b[0m \u001b[0mself\u001b[0m\u001b[0;34m.\u001b[0m\u001b[0m_call_chain\u001b[0m\u001b[0;34m(\u001b[0m\u001b[0;34m*\u001b[0m\u001b[0margs\u001b[0m\u001b[0;34m)\u001b[0m\u001b[0;34m\u001b[0m\u001b[0;34m\u001b[0m\u001b[0m\n\u001b[0m\u001b[1;32m    564\u001b[0m \u001b[0;34m\u001b[0m\u001b[0m\n",
            "\u001b[0;32m/usr/lib/python3.10/urllib/request.py\u001b[0m in \u001b[0;36m_call_chain\u001b[0;34m(self, chain, kind, meth_name, *args)\u001b[0m\n\u001b[1;32m    495\u001b[0m             \u001b[0mfunc\u001b[0m \u001b[0;34m=\u001b[0m \u001b[0mgetattr\u001b[0m\u001b[0;34m(\u001b[0m\u001b[0mhandler\u001b[0m\u001b[0;34m,\u001b[0m \u001b[0mmeth_name\u001b[0m\u001b[0;34m)\u001b[0m\u001b[0;34m\u001b[0m\u001b[0;34m\u001b[0m\u001b[0m\n\u001b[0;32m--> 496\u001b[0;31m             \u001b[0mresult\u001b[0m \u001b[0;34m=\u001b[0m \u001b[0mfunc\u001b[0m\u001b[0;34m(\u001b[0m\u001b[0;34m*\u001b[0m\u001b[0margs\u001b[0m\u001b[0;34m)\u001b[0m\u001b[0;34m\u001b[0m\u001b[0;34m\u001b[0m\u001b[0m\n\u001b[0m\u001b[1;32m    497\u001b[0m             \u001b[0;32mif\u001b[0m \u001b[0mresult\u001b[0m \u001b[0;32mis\u001b[0m \u001b[0;32mnot\u001b[0m \u001b[0;32mNone\u001b[0m\u001b[0;34m:\u001b[0m\u001b[0;34m\u001b[0m\u001b[0;34m\u001b[0m\u001b[0m\n",
            "\u001b[0;32m/usr/lib/python3.10/urllib/request.py\u001b[0m in \u001b[0;36mhttp_error_default\u001b[0;34m(self, req, fp, code, msg, hdrs)\u001b[0m\n\u001b[1;32m    642\u001b[0m     \u001b[0;32mdef\u001b[0m \u001b[0mhttp_error_default\u001b[0m\u001b[0;34m(\u001b[0m\u001b[0mself\u001b[0m\u001b[0;34m,\u001b[0m \u001b[0mreq\u001b[0m\u001b[0;34m,\u001b[0m \u001b[0mfp\u001b[0m\u001b[0;34m,\u001b[0m \u001b[0mcode\u001b[0m\u001b[0;34m,\u001b[0m \u001b[0mmsg\u001b[0m\u001b[0;34m,\u001b[0m \u001b[0mhdrs\u001b[0m\u001b[0;34m)\u001b[0m\u001b[0;34m:\u001b[0m\u001b[0;34m\u001b[0m\u001b[0;34m\u001b[0m\u001b[0m\n\u001b[0;32m--> 643\u001b[0;31m         \u001b[0;32mraise\u001b[0m \u001b[0mHTTPError\u001b[0m\u001b[0;34m(\u001b[0m\u001b[0mreq\u001b[0m\u001b[0;34m.\u001b[0m\u001b[0mfull_url\u001b[0m\u001b[0;34m,\u001b[0m \u001b[0mcode\u001b[0m\u001b[0;34m,\u001b[0m \u001b[0mmsg\u001b[0m\u001b[0;34m,\u001b[0m \u001b[0mhdrs\u001b[0m\u001b[0;34m,\u001b[0m \u001b[0mfp\u001b[0m\u001b[0;34m)\u001b[0m\u001b[0;34m\u001b[0m\u001b[0;34m\u001b[0m\u001b[0m\n\u001b[0m\u001b[1;32m    644\u001b[0m \u001b[0;34m\u001b[0m\u001b[0m\n",
            "\u001b[0;31mHTTPError\u001b[0m: HTTP Error 400: Bad Request",
            "\nDuring handling of the above exception, another exception occurred:\n",
            "\u001b[0;31mPyngrokNgrokHTTPError\u001b[0m                     Traceback (most recent call last)",
            "\u001b[0;32m<ipython-input-41-70b3de319556>\u001b[0m in \u001b[0;36m<cell line: 6>\u001b[0;34m()\u001b[0m\n\u001b[1;32m      4\u001b[0m \u001b[0;34m\u001b[0m\u001b[0m\n\u001b[1;32m      5\u001b[0m \u001b[0;31m# Ngrok için bir bağlantı açıyoruz\u001b[0m\u001b[0;34m\u001b[0m\u001b[0;34m\u001b[0m\u001b[0m\n\u001b[0;32m----> 6\u001b[0;31m \u001b[0mpublic_url\u001b[0m \u001b[0;34m=\u001b[0m \u001b[0mngrok\u001b[0m\u001b[0;34m.\u001b[0m\u001b[0mconnect\u001b[0m\u001b[0;34m(\u001b[0m\u001b[0mport\u001b[0m\u001b[0;34m=\u001b[0m\u001b[0;34m'8501'\u001b[0m\u001b[0;34m)\u001b[0m\u001b[0;34m\u001b[0m\u001b[0;34m\u001b[0m\u001b[0m\n\u001b[0m\u001b[1;32m      7\u001b[0m \u001b[0mprint\u001b[0m\u001b[0;34m(\u001b[0m\u001b[0;34m'Streamlit app is live at:'\u001b[0m\u001b[0;34m,\u001b[0m \u001b[0mpublic_url\u001b[0m\u001b[0;34m)\u001b[0m\u001b[0;34m\u001b[0m\u001b[0;34m\u001b[0m\u001b[0m\n\u001b[1;32m      8\u001b[0m \u001b[0;34m\u001b[0m\u001b[0m\n",
            "\u001b[0;32m/usr/local/lib/python3.10/dist-packages/pyngrok/ngrok.py\u001b[0m in \u001b[0;36mconnect\u001b[0;34m(addr, proto, name, pyngrok_config, **options)\u001b[0m\n\u001b[1;32m    353\u001b[0m     \u001b[0mlogger\u001b[0m\u001b[0;34m.\u001b[0m\u001b[0mdebug\u001b[0m\u001b[0;34m(\u001b[0m\u001b[0;34mf\"Creating tunnel with options: {options}\"\u001b[0m\u001b[0;34m)\u001b[0m\u001b[0;34m\u001b[0m\u001b[0;34m\u001b[0m\u001b[0m\n\u001b[1;32m    354\u001b[0m \u001b[0;34m\u001b[0m\u001b[0m\n\u001b[0;32m--> 355\u001b[0;31m     tunnel = NgrokTunnel(api_request(f\"{api_url}/api/tunnels\", method=\"POST\", data=options,\n\u001b[0m\u001b[1;32m    356\u001b[0m                                      timeout=pyngrok_config.request_timeout),\n\u001b[1;32m    357\u001b[0m                          pyngrok_config, api_url)\n",
            "\u001b[0;32m/usr/local/lib/python3.10/dist-packages/pyngrok/ngrok.py\u001b[0m in \u001b[0;36mapi_request\u001b[0;34m(url, method, data, params, timeout, auth)\u001b[0m\n\u001b[1;32m    576\u001b[0m         \u001b[0mlogger\u001b[0m\u001b[0;34m.\u001b[0m\u001b[0mdebug\u001b[0m\u001b[0;34m(\u001b[0m\u001b[0;34mf\"Response {status_code}: {response_data.strip()}\"\u001b[0m\u001b[0;34m)\u001b[0m\u001b[0;34m\u001b[0m\u001b[0;34m\u001b[0m\u001b[0m\n\u001b[1;32m    577\u001b[0m \u001b[0;34m\u001b[0m\u001b[0m\n\u001b[0;32m--> 578\u001b[0;31m         raise PyngrokNgrokHTTPError(f\"ngrok client exception, API returned {status_code}: {response_data}\",\n\u001b[0m\u001b[1;32m    579\u001b[0m                                     \u001b[0me\u001b[0m\u001b[0;34m.\u001b[0m\u001b[0murl\u001b[0m\u001b[0;34m,\u001b[0m\u001b[0;34m\u001b[0m\u001b[0;34m\u001b[0m\u001b[0m\n\u001b[1;32m    580\u001b[0m                                     status_code, e.reason, e.headers, response_data)\n",
            "\u001b[0;31mPyngrokNgrokHTTPError\u001b[0m: ngrok client exception, API returned 400: {\"error_code\":102,\"status_code\":400,\"msg\":\"invalid tunnel configuration\",\"details\":{\"err\":\"yaml: unmarshal errors:\\n  line 1: field port not found in type config.HTTPv2Tunnel\"}}\n"
          ]
        }
      ]
    },
    {
      "cell_type": "code",
      "source": [
        "from pyngrok import ngrok\n",
        "import subprocess\n",
        "import os\n",
        "\n",
        "# Streamlit'in çalışacağı portu belirtmek\n",
        "port = 8501\n",
        "\n",
        "# Ngrok bağlantısını başlatma\n",
        "public_url = ngrok.connect(port)\n",
        "print('Streamlit app is live at:', public_url)\n",
        "\n",
        "# Streamlit uygulamasını çalıştırma\n",
        "os.system('streamlit run app.py &')\n"
      ],
      "metadata": {
        "colab": {
          "base_uri": "https://localhost:8080/"
        },
        "id": "T9VwfAfVYPAX",
        "outputId": "93243208-b903-4a0a-e0c6-1b7fe83b5fba"
      },
      "execution_count": 42,
      "outputs": [
        {
          "output_type": "stream",
          "name": "stdout",
          "text": [
            "Streamlit app is live at: NgrokTunnel: \"https://1bd9-34-134-204-44.ngrok-free.app\" -> \"http://localhost:8501\"\n"
          ]
        },
        {
          "output_type": "execute_result",
          "data": {
            "text/plain": [
              "0"
            ]
          },
          "metadata": {},
          "execution_count": 42
        }
      ]
    }
  ]
}